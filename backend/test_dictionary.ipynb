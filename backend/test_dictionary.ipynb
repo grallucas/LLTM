{
 "cells": [
  {
   "cell_type": "code",
   "execution_count": 1,
   "metadata": {},
   "outputs": [
    {
     "name": "stdout",
     "output_type": "stream",
     "text": [
      "/home/grall/Documents/aiClub/lltm/LLTM/backend\n"
     ]
    }
   ],
   "source": [
    "%cd Documents/aiClub/lltm/LLTM/backend"
   ]
  },
  {
   "cell_type": "code",
   "execution_count": 2,
   "metadata": {},
   "outputs": [
    {
     "name": "stderr",
     "output_type": "stream",
     "text": [
      "/usr/local/lib/python3.8/dist-packages/requests/__init__.py:109: RequestsDependencyWarning: urllib3 (1.26.9) or chardet (5.2.0)/charset_normalizer (2.0.12) doesn't match a supported version!\n",
      "  warnings.warn(\n"
     ]
    }
   ],
   "source": [
    "from dictionary import get_word_info"
   ]
  },
  {
   "cell_type": "code",
   "execution_count": 5,
   "metadata": {},
   "outputs": [
    {
     "data": {
      "text/plain": [
       "{'ipa': '/ˈʋɑu̯ʋɑ/',\n",
       " 'img': None,\n",
       " 'definitions': {'Noun': {('baby', 'a very young child'): [],\n",
       "   ('informal', '(informal) baby animal'): []}}}"
      ]
     },
     "execution_count": 5,
     "metadata": {},
     "output_type": "execute_result"
    }
   ],
   "source": [
    "get_word_info('vauva', 'Finnish', True)"
   ]
  },
  {
   "cell_type": "code",
   "execution_count": 9,
   "metadata": {},
   "outputs": [],
   "source": [
    "import requests\n",
    "from bs4 import BeautifulSoup"
   ]
  },
  {
   "cell_type": "code",
   "execution_count": 10,
   "metadata": {},
   "outputs": [],
   "source": [
    "def parse_def_list(ol, raw_text=False):\n",
    "    decode = (lambda x: x.text) if raw_text else (lambda x: x.decode_contents())\n",
    "\n",
    "    result = {}\n",
    "    for li in ol.find_all('li', recursive=False):\n",
    "        sub_ol = li.select_one('ol')\n",
    "\n",
    "        a_definition = decode(li.select_one('a'))\n",
    "        description = li.select(':scope > *:not(ol):not(dl):not(style)')\n",
    "        description = [decode(x) for x in description]\n",
    "\n",
    "        if len(description) == 4 and description[-1] == ')' and description[-3] == '(':\n",
    "            description = description[-2]\n",
    "        else:\n",
    "            description = ' '.join(description)\n",
    "\n",
    "        if sub_ol:\n",
    "            result[(a_definition, description)] = parse_def_list(sub_ol, raw_text)\n",
    "        else:\n",
    "            examples = [decode(ex) for ex in li.select('.h-usage-example')]\n",
    "            result[(a_definition, description)] = examples\n",
    "    return result"
   ]
  },
  {
   "cell_type": "code",
   "execution_count": 11,
   "metadata": {},
   "outputs": [
    {
     "data": {
      "text/plain": [
       "'/ˈkoi̯rɑ/'"
      ]
     },
     "execution_count": 11,
     "metadata": {},
     "output_type": "execute_result"
    }
   ],
   "source": [
    "# word = 'hyvä'\n",
    "word = 'koira'\n",
    "# word = 'talo'\n",
    "\n",
    "html = requests.get(f'https://en.wiktionary.org/api/rest_v1/page/html/{word}').text\n",
    "soup = BeautifulSoup(html)\n",
    "\n",
    "WORD_TYPES = ['Adjective', 'Noun', 'Verb', 'Adverb', 'Article']\n",
    "\n",
    "fn = soup.select_one('section:has(> h2:-soup-contains(\"Finnish\"))')\n",
    "\n",
    "pronunciation = fn.select_one('section:has(> h3:-soup-contains(\"Pronunciation\"))')\n",
    "word_type_data = {\n",
    "    t: fn.select_one(f'section:has(> h3:-soup-contains(\"{t}\"))')\n",
    "    for t in WORD_TYPES\n",
    "}\n",
    "\n",
    "section_titles = [x.text for x in fn.select('h3', recursive=False)]\n",
    "for title in WORD_TYPES + ['Etymology', 'Pronunciation', 'References', 'Further reading', 'Anagrams', 'See also']:\n",
    "    if title in section_titles:\n",
    "        section_titles.remove(title)\n",
    "\n",
    "if section_titles:\n",
    "    print('UNHANDLED SECTION TITLES:', section_titles)\n",
    "\n",
    "definitions = {\n",
    "    t: parse_def_list(d.select_one('ol'), True)\n",
    "    for t, d in word_type_data.items()\n",
    "    if d\n",
    "}\n",
    "\n",
    "ipa = next(ipa.text for ipa in pronunciation.select('.IPA') if ipa.text[0]=='/')\n",
    "\n",
    "ipa"
   ]
  },
  {
   "cell_type": "code",
   "execution_count": 24,
   "metadata": {},
   "outputs": [
    {
     "data": {
      "text/plain": [
       "'https://upload.wikimedia.org/wikipedia/commons/thumb/e/e7/Jymy_and_Senni_are_taking_a_rest_%2816039954181%29.jpg/220px-Jymy_and_Senni_are_taking_a_rest_%2816039954181%29.jpg'"
      ]
     },
     "execution_count": 24,
     "metadata": {},
     "output_type": "execute_result"
    }
   ],
   "source": [
    "'https:' + fn.select_one('figure[typeof=\"mw:File/Thumb\"] img')['src']"
   ]
  },
  {
   "cell_type": "code",
   "execution_count": 133,
   "metadata": {},
   "outputs": [
    {
     "data": {
      "text/plain": [
       "{'Noun': {('dog',\n",
       "   'dog ( Canis lupus familiaris ) 1548, Mikael Agricola, transl., Se Wsi Testamenti [The New Testament], Stockholm, pyhen Paualin Epistola Philipperin tyge (Philippians) 3:2:Cauattacat teitenne Coirilda[Kavahtakaat teitänne koirilta]Beware of dogs'): [],\n",
       "  ('Ellipsis',\n",
       "   'Ellipsis of koiranuinti (“dog paddle (swimming stroke)”) . '): [],\n",
       "  ('military', '(military slang) military police'): []}}"
      ]
     },
     "execution_count": 133,
     "metadata": {},
     "output_type": "execute_result"
    }
   ],
   "source": [
    "definitions"
   ]
  },
  {
   "cell_type": "code",
   "execution_count": 92,
   "metadata": {},
   "outputs": [],
   "source": [
    "ol = adj.select_one('ol')\n"
   ]
  },
  {
   "cell_type": "code",
   "execution_count": 94,
   "metadata": {},
   "outputs": [
    {
     "data": {
      "text/plain": [
       "{('good',\n",
       "  'good'): {('good',\n",
       "   '<span class=\"Latn\" lang=\"en\">useful for a particular purpose</span>'): {('good',\n",
       "    '<span class=\"Latn\" lang=\"en\">of high quality</span>'): [],\n",
       "   ('good',\n",
       "    'good ( <span class=\"Latn\" lang=\"en\">competent, skilled, talented</span> ) [ with   <a class=\"extiw\" href=\"https://en.wikipedia.org/wiki/inessive%20case\" rel=\"mw:WikiLink/Interwiki\" title=\"w:inessive case\">inessive</a>   or   ( with verbs )   illative of <a href=\"./Appendix:Finnish_verb_forms#Infinitives\" rel=\"mw:WikiLink\" title=\"Appendix:Finnish verb forms\">third infinitive</a>   ‘at’ ]'): ['<i class=\"Latn mention e-example\" lang=\"fi\"><b>hyvä</b> uinnissa <span typeof=\"mw:Entity\">/</span> <b>hyvä</b> uimaan</i> ― <span class=\"e-translation\"><b>good</b> at swimming</span>'],\n",
       "   ('good',\n",
       "    '<span class=\"Latn\" lang=\"en\">effective, that has the desired effect</span>'): [],\n",
       "   ('good',\n",
       "    '<span class=\"Latn\" lang=\"en\">beneficial<span typeof=\"mw:Entity\">;</span> worthwhile, helpful</span>'): [],\n",
       "   ('good',\n",
       "    '<span class=\"Latn\" lang=\"en\">of food, edible<span typeof=\"mw:Entity\">;</span> not stale or rotten</span>'): []}, ('good',\n",
       "   '<span class=\"Latn\" lang=\"en\">acting in the interest of good<span typeof=\"mw:Entity\">;</span> ethical good intentions</span>'): ['<i class=\"Latn mention e-example\" lang=\"fi\">Kaikilla on taito tehdä <b>hyvää</b>.</i> ― <span class=\"e-translation\">Everyone has the ability to do <b>good</b> (deeds).</span>'], ('good',\n",
       "   'good ( <span class=\"Latn\" lang=\"en\">healthful, healthy, promoting health</span> ) ( usually in the translative singular )'): ['<i class=\"Latn mention e-example\" lang=\"fi\">olla <b>hyväksi</b> jollekulle</i> ― <span class=\"e-translation\">to be <b>good</b>/healthy for someone</span>',\n",
       "   '<i class=\"Latn mention e-example\" lang=\"fi\">Lämmin tee tekee <b>hyvää</b> kurkkukivulle.</i> ― <span class=\"e-translation\">Warm tea is <b>good</b> for a sore throat.</span>'], ('good',\n",
       "   '<span class=\"Latn\" lang=\"en\">pleasant, agreeable</span>'): ['<i class=\"Latn mention e-example\" lang=\"fi\">Minun tekee <b>hyvää</b> käydä välillä lenkillä.</i> ― <span class=\"e-translation\">It feels <b>good</b> to take a walk every once a while.</span>'], ('good',\n",
       "   '<span class=\"Latn\" lang=\"en\">of food<span typeof=\"mw:Entity\">:</span> having a particularly pleasant taste<span typeof=\"mw:Entity\">;</span> of a smell<span typeof=\"mw:Entity\">:</span> particularly fragrant</span>'): [], ('good',\n",
       "   '<span class=\"Latn\" lang=\"en\">favorable, auspicious</span>'): ['<i class=\"Latn mention e-example\" lang=\"fi\">ei niin pahaa, ettei jotain <b>hyvääkin</b></i> ― <span class=\"e-translation\">every misfortune has a fortune, <a href=\"./every_cloud_has_a_silver_lining\" rel=\"mw:WikiLink\" title=\"every cloud has a silver lining\">every cloud has a silver lining</a></span> (literally, “<span class=\"e-literally\">nothing so bad that it doesn\\'t have some <b>good</b></span>”)'], ('good',\n",
       "   'good'): [], ('good',\n",
       "   '<span class=\"Latn\" lang=\"en\">significant, hefty, e.g. of a sum of money</span>'): []},\n",
       " ('dear',\n",
       "  '<span class=\"Latn\" lang=\"en\">used in various polite forms of address</span>'): ['<i class=\"Latn mention e-example\" lang=\"fi\"><b>hyvä</b> asiakkaamme...</i> ― <span class=\"e-translation\"><b>dear</b> customer...</span>',\n",
       "  '<i class=\"Latn mention e-example\" lang=\"fi\"><b>Hyvä</b> lukija<span typeof=\"mw:Entity\">!</span></i> ― <span class=\"e-translation\"><b>Dear</b> reader!</span>',\n",
       "  '<i class=\"Latn mention e-example\" lang=\"fi\"><b>Hyvät</b> herrat<span typeof=\"mw:Entity\">!</span></i> ― <span class=\"e-translation\">Gentlemen!</span>'],\n",
       " ('happy',\n",
       "  '<span class=\"Latn\" lang=\"en\">used in phrases to wish happiness or good fortune at the time of a festival, celebration, or other event or activity</span>'): ['<i class=\"Latn mention e-example\" lang=\"fi\"><b>Hyvää</b> syntymäpäivää<span typeof=\"mw:Entity\">!</span></i> ― <span class=\"e-translation\"><b>Happy</b> birthday!</span>',\n",
       "  '<i class=\"Latn mention e-example\" lang=\"fi\"><b>Hyvää</b> itsenäisyyspäivää<span typeof=\"mw:Entity\">!</span></i> ― <span class=\"e-translation\"><b>Happy</b> Independence Day!</span>']}"
      ]
     },
     "execution_count": 94,
     "metadata": {},
     "output_type": "execute_result"
    }
   ],
   "source": [
    "def rec_print(data, indent=0):\n",
    "    for (a_def, desc), v in data.items():\n",
    "        print(' '*indent, end='')\n",
    "        print(a_def, '|', desc)\n",
    "        if type(v) is dict:\n",
    "            rec_print(v, indent=indent+4)\n",
    "        if type(v) is list:\n",
    "            for ex in v:\n",
    "                print(' '*indent, end='')\n",
    "                print('  -', ex)\n",
    "\n",
    "# rec_print(\n",
    "parse_def_list(\n",
    "    adj.select_one('ol')\n",
    ")\n",
    "# )"
   ]
  },
  {
   "cell_type": "code",
   "execution_count": 80,
   "metadata": {},
   "outputs": [],
   "source": [
    "# def extract_definition_list(ol):\n",
    "#     definitions = []\n",
    "#     for li in ol.find_all('li', recursive=False):\n",
    "#         sub_ol = li.find('ol')\n",
    "#         if sub_ol:\n",
    "#             definitions.append(extract_definition_list(sub_ol))\n",
    "            \n",
    "#         translation = li.text\n",
    "#         examples = [ex.text for ex in li.select('.h-usage-example')]\n",
    "#         definition = (translation, examples)\n",
    "#         # print(definition)\n",
    "#         definitions.append(definition)\n",
    "#     return definitions\n",
    "\n",
    "def extract_definition_list(ol):\n",
    "    result = {}\n",
    "    for li in ol.find_all('li', recursive=False):\n",
    "        sub_ol = li.find('ol')\n",
    "        if sub_ol:\n",
    "            result[li.text] = extract_definition_list(sub_ol)\n",
    "        else:\n",
    "            translation = li.text\n",
    "            examples = [ex.text for ex in li.select('.h-usage-example')]\n",
    "            result[li.text] = (translation, examples)\n",
    "    return result"
   ]
  },
  {
   "cell_type": "code",
   "execution_count": 74,
   "metadata": {},
   "outputs": [],
   "source": [
    "import json"
   ]
  },
  {
   "cell_type": "code",
   "execution_count": 81,
   "metadata": {},
   "outputs": [
    {
     "name": "stdout",
     "output_type": "stream",
     "text": [
      "{\n",
      "    \"good\\nSynonyms: see Thesaurus:hyv\\u00e4\\ngood (useful for a particular purpose)\\nAntonyms: huono, kehno\\ngood (of high quality)\\ngood (competent, skilled, talented) [with inessive or (with verbs) illative of third infinitive \\u2018at\\u2019]\\nhyv\\u00e4 uinnissa / hyv\\u00e4 uimaan \\u2015 good at swimming\\ngood (effective, that has the desired effect)\\ngood (beneficial; worthwhile, helpful)\\ngood (of food, edible; not stale or rotten)\\ngood (acting in the interest of good; ethical good intentions)\\nAntonym: paha\\nKaikilla on taito tehd\\u00e4 hyv\\u00e4\\u00e4. \\u2015 Everyone has the ability to do good (deeds).\\ngood (healthful, healthy, promoting health) (usually in the translative singular)\\nAntonym: paha\\nolla hyv\\u00e4ksi jollekulle \\u2015 to be good/healthy for someone\\nL\\u00e4mmin tee tekee hyv\\u00e4\\u00e4 kurkkukivulle. \\u2015 Warm tea is good for a sore throat.\\ngood (pleasant, agreeable)\\nAntonym: huono\\nMinun tekee hyv\\u00e4\\u00e4 k\\u00e4yd\\u00e4 v\\u00e4lill\\u00e4 lenkill\\u00e4. \\u2015 It feels good to take a walk every once a while.\\ngood (of food: having a particularly pleasant taste; of a smell: particularly fragrant)\\nAntonym: paha\\ngood (favorable, auspicious)\\nAntonyms: huono, paha\\nei niin pahaa, ettei jotain hyv\\u00e4\\u00e4kin \\u2015 every misfortune has a fortune, every cloud has a silver lining (literally, \\u201cnothing so bad that it doesn't have some good\\u201d)\\nin good health\\nAntonym: huono\\ngood (significant, hefty, e.g. of a sum of money)\": {\n",
      "        \"good (useful for a particular purpose)\\nAntonyms: huono, kehno\\ngood (of high quality)\\ngood (competent, skilled, talented) [with inessive or (with verbs) illative of third infinitive \\u2018at\\u2019]\\nhyv\\u00e4 uinnissa / hyv\\u00e4 uimaan \\u2015 good at swimming\\ngood (effective, that has the desired effect)\\ngood (beneficial; worthwhile, helpful)\\ngood (of food, edible; not stale or rotten)\": {\n",
      "            \"good (of high quality)\": [\n",
      "                \"good (of high quality)\",\n",
      "                []\n",
      "            ],\n",
      "            \"good (competent, skilled, talented) [with inessive or (with verbs) illative of third infinitive \\u2018at\\u2019]\\nhyv\\u00e4 uinnissa / hyv\\u00e4 uimaan \\u2015 good at swimming\": [\n",
      "                \"good (competent, skilled, talented) [with inessive or (with verbs) illative of third infinitive \\u2018at\\u2019]\\nhyv\\u00e4 uinnissa / hyv\\u00e4 uimaan \\u2015 good at swimming\",\n",
      "                [\n",
      "                    \"hyv\\u00e4 uinnissa / hyv\\u00e4 uimaan \\u2015 good at swimming\"\n",
      "                ]\n",
      "            ],\n",
      "            \"good (effective, that has the desired effect)\": [\n",
      "                \"good (effective, that has the desired effect)\",\n",
      "                []\n",
      "            ],\n",
      "            \"good (beneficial; worthwhile, helpful)\": [\n",
      "                \"good (beneficial; worthwhile, helpful)\",\n",
      "                []\n",
      "            ],\n",
      "            \"good (of food, edible; not stale or rotten)\": [\n",
      "                \"good (of food, edible; not stale or rotten)\",\n",
      "                []\n",
      "            ]\n",
      "        },\n",
      "        \"good (acting in the interest of good; ethical good intentions)\\nAntonym: paha\\nKaikilla on taito tehd\\u00e4 hyv\\u00e4\\u00e4. \\u2015 Everyone has the ability to do good (deeds).\": [\n",
      "            \"good (acting in the interest of good; ethical good intentions)\\nAntonym: paha\\nKaikilla on taito tehd\\u00e4 hyv\\u00e4\\u00e4. \\u2015 Everyone has the ability to do good (deeds).\",\n",
      "            [\n",
      "                \"Kaikilla on taito tehd\\u00e4 hyv\\u00e4\\u00e4. \\u2015 Everyone has the ability to do good (deeds).\"\n",
      "            ]\n",
      "        ],\n",
      "        \"good (healthful, healthy, promoting health) (usually in the translative singular)\\nAntonym: paha\\nolla hyv\\u00e4ksi jollekulle \\u2015 to be good/healthy for someone\\nL\\u00e4mmin tee tekee hyv\\u00e4\\u00e4 kurkkukivulle. \\u2015 Warm tea is good for a sore throat.\": [\n",
      "            \"good (healthful, healthy, promoting health) (usually in the translative singular)\\nAntonym: paha\\nolla hyv\\u00e4ksi jollekulle \\u2015 to be good/healthy for someone\\nL\\u00e4mmin tee tekee hyv\\u00e4\\u00e4 kurkkukivulle. \\u2015 Warm tea is good for a sore throat.\",\n",
      "            [\n",
      "                \"olla hyv\\u00e4ksi jollekulle \\u2015 to be good/healthy for someone\",\n",
      "                \"L\\u00e4mmin tee tekee hyv\\u00e4\\u00e4 kurkkukivulle. \\u2015 Warm tea is good for a sore throat.\"\n",
      "            ]\n",
      "        ],\n",
      "        \"good (pleasant, agreeable)\\nAntonym: huono\\nMinun tekee hyv\\u00e4\\u00e4 k\\u00e4yd\\u00e4 v\\u00e4lill\\u00e4 lenkill\\u00e4. \\u2015 It feels good to take a walk every once a while.\": [\n",
      "            \"good (pleasant, agreeable)\\nAntonym: huono\\nMinun tekee hyv\\u00e4\\u00e4 k\\u00e4yd\\u00e4 v\\u00e4lill\\u00e4 lenkill\\u00e4. \\u2015 It feels good to take a walk every once a while.\",\n",
      "            [\n",
      "                \"Minun tekee hyv\\u00e4\\u00e4 k\\u00e4yd\\u00e4 v\\u00e4lill\\u00e4 lenkill\\u00e4. \\u2015 It feels good to take a walk every once a while.\"\n",
      "            ]\n",
      "        ],\n",
      "        \"good (of food: having a particularly pleasant taste; of a smell: particularly fragrant)\\nAntonym: paha\": [\n",
      "            \"good (of food: having a particularly pleasant taste; of a smell: particularly fragrant)\\nAntonym: paha\",\n",
      "            []\n",
      "        ],\n",
      "        \"good (favorable, auspicious)\\nAntonyms: huono, paha\\nei niin pahaa, ettei jotain hyv\\u00e4\\u00e4kin \\u2015 every misfortune has a fortune, every cloud has a silver lining (literally, \\u201cnothing so bad that it doesn't have some good\\u201d)\": [\n",
      "            \"good (favorable, auspicious)\\nAntonyms: huono, paha\\nei niin pahaa, ettei jotain hyv\\u00e4\\u00e4kin \\u2015 every misfortune has a fortune, every cloud has a silver lining (literally, \\u201cnothing so bad that it doesn't have some good\\u201d)\",\n",
      "            [\n",
      "                \"ei niin pahaa, ettei jotain hyv\\u00e4\\u00e4kin \\u2015 every misfortune has a fortune, every cloud has a silver lining (literally, \\u201cnothing so bad that it doesn't have some good\\u201d)\"\n",
      "            ]\n",
      "        ],\n",
      "        \"in good health\\nAntonym: huono\": [\n",
      "            \"in good health\\nAntonym: huono\",\n",
      "            []\n",
      "        ],\n",
      "        \"good (significant, hefty, e.g. of a sum of money)\": [\n",
      "            \"good (significant, hefty, e.g. of a sum of money)\",\n",
      "            []\n",
      "        ]\n",
      "    },\n",
      "    \"dear (used in various polite forms of address)\\nhyv\\u00e4 asiakkaamme... \\u2015 dear customer...\\nHyv\\u00e4 lukija! \\u2015 Dear reader!\\nHyv\\u00e4t herrat! \\u2015 Gentlemen!\": [\n",
      "        \"dear (used in various polite forms of address)\\nhyv\\u00e4 asiakkaamme... \\u2015 dear customer...\\nHyv\\u00e4 lukija! \\u2015 Dear reader!\\nHyv\\u00e4t herrat! \\u2015 Gentlemen!\",\n",
      "        [\n",
      "            \"hyv\\u00e4 asiakkaamme... \\u2015 dear customer...\",\n",
      "            \"Hyv\\u00e4 lukija! \\u2015 Dear reader!\",\n",
      "            \"Hyv\\u00e4t herrat! \\u2015 Gentlemen!\"\n",
      "        ]\n",
      "    ],\n",
      "    \"happy (used in phrases to wish happiness or good fortune at the time of a festival, celebration, or other event or activity)\\nHyv\\u00e4\\u00e4 syntym\\u00e4p\\u00e4iv\\u00e4\\u00e4! \\u2015 Happy birthday!\\nHyv\\u00e4\\u00e4 itsen\\u00e4isyysp\\u00e4iv\\u00e4\\u00e4! \\u2015 Happy Independence Day!\": [\n",
      "        \"happy (used in phrases to wish happiness or good fortune at the time of a festival, celebration, or other event or activity)\\nHyv\\u00e4\\u00e4 syntym\\u00e4p\\u00e4iv\\u00e4\\u00e4! \\u2015 Happy birthday!\\nHyv\\u00e4\\u00e4 itsen\\u00e4isyysp\\u00e4iv\\u00e4\\u00e4! \\u2015 Happy Independence Day!\",\n",
      "        [\n",
      "            \"Hyv\\u00e4\\u00e4 syntym\\u00e4p\\u00e4iv\\u00e4\\u00e4! \\u2015 Happy birthday!\",\n",
      "            \"Hyv\\u00e4\\u00e4 itsen\\u00e4isyysp\\u00e4iv\\u00e4\\u00e4! \\u2015 Happy Independence Day!\"\n",
      "        ]\n",
      "    ]\n",
      "}\n"
     ]
    }
   ],
   "source": [
    "print(\n",
    "json.dumps(\n",
    "    extract_definition_list(adj.find_all('ol', recursive=False)[0]),\n",
    "    indent=4\n",
    ")\n",
    ")"
   ]
  },
  {
   "cell_type": "code",
   "execution_count": 43,
   "metadata": {},
   "outputs": [
    {
     "name": "stdout",
     "output_type": "stream",
     "text": [
      "('good (of high quality)', [])\n",
      "('good (competent, skilled, talented) [with inessive or (with verbs) illative of third infinitive ‘at’]\\nhyvä uinnissa / hyvä uimaan ― good at swimming', ['hyvä uinnissa / hyvä uimaan ― good at swimming'])\n",
      "('good (effective, that has the desired effect)', [])\n",
      "('good (beneficial; worthwhile, helpful)', [])\n",
      "('good (of food, edible; not stale or rotten)', [])\n",
      "('good (useful for a particular purpose)\\nAntonyms: huono, kehno\\ngood (of high quality)\\ngood (competent, skilled, talented) [with inessive or (with verbs) illative of third infinitive ‘at’]\\nhyvä uinnissa / hyvä uimaan ― good at swimming\\ngood (effective, that has the desired effect)\\ngood (beneficial; worthwhile, helpful)\\ngood (of food, edible; not stale or rotten)', ['hyvä uinnissa / hyvä uimaan ― good at swimming'])\n",
      "('good (acting in the interest of good; ethical good intentions)\\nAntonym: paha\\nKaikilla on taito tehdä hyvää. ― Everyone has the ability to do good (deeds).', ['Kaikilla on taito tehdä hyvää. ― Everyone has the ability to do good (deeds).'])\n",
      "('good (healthful, healthy, promoting health) (usually in the translative singular)\\nAntonym: paha\\nolla hyväksi jollekulle ― to be good/healthy for someone\\nLämmin tee tekee hyvää kurkkukivulle. ― Warm tea is good for a sore throat.', ['olla hyväksi jollekulle ― to be good/healthy for someone', 'Lämmin tee tekee hyvää kurkkukivulle. ― Warm tea is good for a sore throat.'])\n",
      "('good (pleasant, agreeable)\\nAntonym: huono\\nMinun tekee hyvää käydä välillä lenkillä. ― It feels good to take a walk every once a while.', ['Minun tekee hyvää käydä välillä lenkillä. ― It feels good to take a walk every once a while.'])\n",
      "('good (of food: having a particularly pleasant taste; of a smell: particularly fragrant)\\nAntonym: paha', [])\n",
      "(\"good (favorable, auspicious)\\nAntonyms: huono, paha\\nei niin pahaa, ettei jotain hyvääkin ― every misfortune has a fortune, every cloud has a silver lining (literally, “nothing so bad that it doesn't have some good”)\", [\"ei niin pahaa, ettei jotain hyvääkin ― every misfortune has a fortune, every cloud has a silver lining (literally, “nothing so bad that it doesn't have some good”)\"])\n",
      "('in good health\\nAntonym: huono', [])\n",
      "('good (significant, hefty, e.g. of a sum of money)', [])\n",
      "('good (of high quality)', [])\n",
      "('good (competent, skilled, talented) [with inessive or (with verbs) illative of third infinitive ‘at’]\\nhyvä uinnissa / hyvä uimaan ― good at swimming', ['hyvä uinnissa / hyvä uimaan ― good at swimming'])\n",
      "('good (effective, that has the desired effect)', [])\n",
      "('good (beneficial; worthwhile, helpful)', [])\n",
      "('good (of food, edible; not stale or rotten)', [])\n"
     ]
    }
   ],
   "source": [
    "for ol in adj.find_all('ol'):\n",
    "    extract_definition_list(ol)"
   ]
  },
  {
   "cell_type": "code",
   "execution_count": 22,
   "metadata": {},
   "outputs": [
    {
     "data": {
      "text/plain": [
       "('good', 'of high quality', [])"
      ]
     },
     "execution_count": 22,
     "metadata": {},
     "output_type": "execute_result"
    }
   ],
   "source": [
    "def extract_definition(definition):\n",
    "    translation = definition.select_one('a').text\n",
    "    desc = definition.select_one('.gloss-content').text\n",
    "    examples = [ex.text for ex in definition.select('.h-usage-example')]\n",
    "\n",
    "    return (translation, desc, examples)\n",
    "\n",
    "translations = adj.select('section:has(> h3:-soup-contains(\"Adjective\")) > ol > li')\n",
    "\n",
    "extract_definition(translations[0].select('ol > li')[1])"
   ]
  },
  {
   "cell_type": "code",
   "execution_count": null,
   "metadata": {},
   "outputs": [],
   "source": []
  }
 ],
 "metadata": {
  "kernelspec": {
   "display_name": "Python 3 (ipykernel)",
   "language": "python",
   "name": "python3"
  },
  "language_info": {
   "codemirror_mode": {
    "name": "ipython",
    "version": 3
   },
   "file_extension": ".py",
   "mimetype": "text/x-python",
   "name": "python",
   "nbconvert_exporter": "python",
   "pygments_lexer": "ipython3",
   "version": "3.8.10"
  }
 },
 "nbformat": 4,
 "nbformat_minor": 2
}
