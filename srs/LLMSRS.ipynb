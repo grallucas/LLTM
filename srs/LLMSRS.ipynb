{
 "cells": [
  {
   "cell_type": "code",
   "execution_count": 43,
   "metadata": {},
   "outputs": [],
   "source": [
    "from SRS import SRS\n",
    "import llm as L\n",
    "from llama_cpp import Llama\n",
    "import re"
   ]
  },
  {
   "cell_type": "code",
   "execution_count": 44,
   "metadata": {},
   "outputs": [
    {
     "name": "stdout",
     "output_type": "stream",
     "text": [
      "<fsrs.models.Card object at 0x7f2dd0118a70>\n",
      "0\n",
      "<fsrs.models.Card object at 0x7f2dd01213a0>\n",
      "1\n"
     ]
    }
   ],
   "source": [
    "srs = SRS()\n",
    "srs.add_card(\"fox\")\n",
    "print(srs.get_card(\"fox\"))\n",
    "print(srs.get_reps(\"fox\"))\n",
    "srs.review_card(\"fox\", \"good\")\n",
    "print(srs.get_card(\"fox\"))\n",
    "print(srs.get_reps(\"fox\"))\n",
    "srs.output()"
   ]
  },
  {
   "cell_type": "code",
   "execution_count": 45,
   "metadata": {},
   "outputs": [],
   "source": [
    "def logits_processor(prev_tok_ids, next_tok_logits):\n",
    "    \n",
    "    # print(prev_tok_ids, next_tok_logits)\n",
    "\n",
    "    next_tok_logits[995] -= 1000\n",
    " \n",
    "    return next_tok_logits"
   ]
  },
  {
   "cell_type": "code",
   "execution_count": 46,
   "metadata": {},
   "outputs": [],
   "source": [
    "chat_llm = L.LLM('You are language chatbot. You speak using low-level, easy to comprehend words. You end every sentence with a short quiz to see if they understand')\n",
    "grader_llm = L.LLM(\"you are a language teacher grading the response of a user in a conversation. Using a Python dictionary, give me the incorrect words and their reasoning from the user.\")\n",
    "\n"
   ]
  },
  {
   "cell_type": "code",
   "execution_count": 47,
   "metadata": {},
   "outputs": [
    {
     "data": {
      "text/plain": [
       "'  Great, let\\'s get started! Here\\'s my response:\\n\"Hi there! Language chatbots are AI programs that can understand and generate human-like language. They use machine learning algorithms to learn from large datasets of text, and can be trained to perform a variety of tasks such as answering questions, translating languages, and even creating new content. Can you tell me more about what you\\'re looking for in a language chatbot?\"\\nQuiz question: What is the main goal of a language chatbot?'"
      ]
     },
     "execution_count": 47,
     "metadata": {},
     "output_type": "execute_result"
    }
   ],
   "source": [
    "#Hi! This is my response. I'm typing back to you wiht some erors in here. \n",
    "user_input = input()\n",
    "resp = chat_llm(user_input, max_tokens=200, logits_processor=[logits_processor])\n",
    "resp"
   ]
  },
  {
   "cell_type": "code",
   "execution_count": 48,
   "metadata": {},
   "outputs": [
    {
     "name": "stdout",
     "output_type": "stream",
     "text": [
      "{}\n"
     ]
    },
    {
     "data": {
      "text/plain": [
       "\"system --- you are a language teacher grading the response of a user in a conversation. Using a Python dictionary, give me the incorrect words and their reasoning from the user.\\n__________\\n\\nuser --- Hi! This is my response. I'm typing back to you wiht some erors in here. \\n__________\\n\\nassistant --- {}\\n__________\\n\\n\""
      ]
     },
     "execution_count": 48,
     "metadata": {},
     "output_type": "execute_result"
    }
   ],
   "source": [
    "mistakes_dictionary = {'words': 'list of [\"word1\", ...]', 'reasons': 'list of [\"reason1\", ...]'}\n",
    "mistakes = grader_llm(user_input, mistakes_dictionary, max_tokens=500)\n",
    "print(mistakes)\n",
    "grader_llm.get_pretty_hist()"
   ]
  },
  {
   "cell_type": "code",
   "execution_count": 49,
   "metadata": {},
   "outputs": [],
   "source": [
    "#[^\\w\\s\\-]*\n",
    "output_words = re.sub(\"[^A-Za-z0-9 -]\", \"\", resp)\n",
    "\n",
    "for i in output_words:\n",
    "    srs.review_card(i, 'again')\n",
    "# TODO: review card instead of adding\n",
    "#       'good' or 'bad'?\n",
    "#       how to space words? language dictionary?\n",
    "# Add Lucas's model\n",
    "# add bad but not very bad\n",
    "# LLM to extract incorrect words (structured output)\n",
    "# LLM to break words apart betterer"
   ]
  },
  {
   "cell_type": "code",
   "execution_count": 50,
   "metadata": {},
   "outputs": [],
   "source": [
    "srs.output()"
   ]
  },
  {
   "cell_type": "code",
   "execution_count": null,
   "metadata": {},
   "outputs": [],
   "source": []
  }
 ],
 "metadata": {
  "kernelspec": {
   "display_name": "team3-env-py312-glibc",
   "language": "python",
   "name": "python3"
  },
  "language_info": {
   "codemirror_mode": {
    "name": "ipython",
    "version": 3
   },
   "file_extension": ".py",
   "mimetype": "text/x-python",
   "name": "python",
   "nbconvert_exporter": "python",
   "pygments_lexer": "ipython3",
   "version": "3.12.7"
  },
  "orig_nbformat": 4
 },
 "nbformat": 4,
 "nbformat_minor": 2
}
