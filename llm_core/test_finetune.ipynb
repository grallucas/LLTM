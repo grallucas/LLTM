{
 "cells": [
  {
   "cell_type": "markdown",
   "metadata": {},
   "source": [
    "Vocab restriction approaches\n",
    "- Grammar and allowed words in context. -- Will not scale to 1000s of words. -- Might work well with a better model (something to try!!!)\n",
    "- Finetune model with allowed words in context\n",
    "- Finetune model with allowed current next tokens in context (?)\n",
    "- Embedding Space Regularization -- add input of allowed next tok -- add term to loss that penalizes that token's embedding from getting to close to any non allowed\n",
    "\n",
    "- without tuning -- small vocab can use first approach, but large vocab can generate one token at a time and, if one is invalid given current word, \"undo\" it and regenerate with added prompt \"Do not use the word XYZ\"\n",
    "  - Say something -> I\n",
    "  - Say something -> I am\n",
    "  - Say something -> I am\n",
    "  - Say something -> I am a teach\n",
    "  - Say something -> I am a teacher <space, meaning end of word>\n",
    "  - ERR: can't say \"teacher\"\n",
    "  - Say something. Do not use the word \"teacher\" -> I am a\n",
    "  - Say something. Do not use the word \"teacher\" -> I am a plumb\n",
    "  - Say something. Do not use the word \"teacher\" -> I am a plumber\n",
    "    - or go back a few if different word changes more stuff. Maybe even redo whole sentence.\n",
    "  - ...\n",
    "  - Say something -> I am a teacher <space, meaning end of word>\n",
    "  - ERR: can't say \"teacher\"\n",
    "  - Say something. Do not use the word \"teacher\" -> I am\n",
    "  - Say something. Do not use the word \"teacher\" -> I am\n",
    "  - Say something. Do not use the word \"teacher\" -> I am an <\"an\" instead of \"a\">\n",
    "  - Say something. Do not use the word \"teacher\" -> I am an act\n",
    "  - Say something. Do not use the word \"teacher\" -> I am an actor\n",
    "    "
   ]
  },
  {
   "cell_type": "code",
   "execution_count": null,
   "metadata": {
    "vscode": {
     "languageId": "shellscript"
    }
   },
   "outputs": [],
   "source": [
    "srun -G1 --pty bash -c \"source /data/ai_club/team_3_2024-25/team3-env-finetune/bin/activate; \\\n",
    "    hostname; \\\n",
    "    jupyter notebook \\\n",
    "        --ServerApp.root_dir=$(pwd) \\\n",
    "        --ServerApp.password='' \\\n",
    "        --ServerApp.open_browser=False \\\n",
    "        --ServerApp.allow_origin='*' \\\n",
    "        --ServerApp.allow_remote_access=True \\\n",
    "        --ServerApp.port=14321 \\\n",
    "        --ServerApp.ip='*'\n",
    "\""
   ]
  },
  {
   "cell_type": "code",
   "execution_count": 1,
   "metadata": {},
   "outputs": [
    {
     "name": "stderr",
     "output_type": "stream",
     "text": [
      "2025-01-28 15:45:21.987047: I tensorflow/core/util/port.cc:153] oneDNN custom operations are on. You may see slightly different numerical results due to floating-point round-off errors from different computation orders. To turn them off, set the environment variable `TF_ENABLE_ONEDNN_OPTS=0`.\n",
      "2025-01-28 15:45:22.000926: E external/local_xla/xla/stream_executor/cuda/cuda_fft.cc:477] Unable to register cuFFT factory: Attempting to register factory for plugin cuFFT when one has already been registered\n",
      "WARNING: All log messages before absl::InitializeLog() is called are written to STDERR\n",
      "E0000 00:00:1738097122.017315 3876104 cuda_dnn.cc:8310] Unable to register cuDNN factory: Attempting to register factory for plugin cuDNN when one has already been registered\n",
      "E0000 00:00:1738097122.022226 3876104 cuda_blas.cc:1418] Unable to register cuBLAS factory: Attempting to register factory for plugin cuBLAS when one has already been registered\n",
      "2025-01-28 15:45:22.038486: I tensorflow/core/platform/cpu_feature_guard.cc:210] This TensorFlow binary is optimized to use available CPU instructions in performance-critical operations.\n",
      "To enable the following instructions: AVX2 AVX512F AVX512_VNNI FMA, in other operations, rebuild TensorFlow with the appropriate compiler flags.\n",
      "/data/ai_club/team_3_2024-25/team3-env-finetune/lib/python3.12/site-packages/tqdm/auto.py:21: TqdmWarning: IProgress not found. Please update jupyter and ipywidgets. See https://ipywidgets.readthedocs.io/en/stable/user_install.html\n",
      "  from .autonotebook import tqdm as notebook_tqdm\n"
     ]
    }
   ],
   "source": [
    "# import torch\n",
    "# import torch.nn as nn\n",
    "import tensorflow as tf\n",
    "\n",
    "import transformers"
   ]
  },
  {
   "cell_type": "code",
   "execution_count": 2,
   "metadata": {},
   "outputs": [],
   "source": [
    "MODEL_NAME = 'distilbert/distilgpt2'\n",
    "# MODEL_NAME = 'gpt2'"
   ]
  },
  {
   "cell_type": "code",
   "execution_count": 3,
   "metadata": {},
   "outputs": [],
   "source": [
    "model = transformers.AutoModelForCausalLM.from_pretrained(MODEL_NAME)\n",
    "\n",
    "# class ModifiedTransformerBlock(nn.Module):\n",
    "#     def __init__(self, original_layer, residual_dim):\n",
    "#         super().__init__()\n",
    "        \n",
    "#         self.original_layer = original_layer\n",
    "#         for param in self.original_layer.parameters():\n",
    "#             param.requires_grad = False\n",
    "        \n",
    "#         self.residual_transform = nn.Linear(residual_dim, residual_dim)\n",
    "\n",
    "#     def forward(self, hidden_states, attention_mask=None, **kwargs):\n",
    "#         print(kwargs)\n",
    "#         attn_output = self.original_layer.attention(hidden_states, attention_mask=attention_mask)\n",
    "#         ffn_output = self.original_layer.feed_forward(attn_output)\n",
    "        \n",
    "#         transformed_residual = self.residual_transform(hidden_states)\n",
    "#         output = ffn_output + transformed_residual\n",
    "        \n",
    "#         return output\n",
    "\n",
    "# original_layer = model.transformer.h[0]\n",
    "# residual_dim = original_layer.attn.c_attn.weight.size(0)\n",
    "\n",
    "# modified_layer = ModifiedTransformerBlock(original_layer, residual_dim)\n",
    "\n",
    "# model.transformer.h[0] = modified_layer"
   ]
  },
  {
   "cell_type": "code",
   "execution_count": 4,
   "metadata": {},
   "outputs": [
    {
     "ename": "AttributeError",
     "evalue": "'GPT2LMHeadModel' object has no attribute 'hidden_states'",
     "output_type": "error",
     "traceback": [
      "\u001b[0;31m---------------------------------------------------------------------------\u001b[0m",
      "\u001b[0;31mAttributeError\u001b[0m                            Traceback (most recent call last)",
      "\u001b[1;32m/home/grall/Documents/aiClub/lltm/LLTM/llm_core/test_finetune.ipynb Cell 6\u001b[0m line \u001b[0;36m1\n\u001b[0;32m----> <a href='vscode-notebook-cell://ssh-remote%2Bgrall@dh-mgmt2.hpc.msoe.edu/home/grall/Documents/aiClub/lltm/LLTM/llm_core/test_finetune.ipynb#X20sdnNjb2RlLXJlbW90ZQ%3D%3D?line=0'>1</a>\u001b[0m model\u001b[39m.\u001b[39;49mhidden_states\n",
      "File \u001b[0;32m/data/ai_club/team_3_2024-25/team3-env-finetune/lib/python3.12/site-packages/torch/nn/modules/module.py:1931\u001b[0m, in \u001b[0;36mModule.__getattr__\u001b[0;34m(self, name)\u001b[0m\n\u001b[1;32m   1929\u001b[0m     \u001b[39mif\u001b[39;00m name \u001b[39min\u001b[39;00m modules:\n\u001b[1;32m   1930\u001b[0m         \u001b[39mreturn\u001b[39;00m modules[name]\n\u001b[0;32m-> 1931\u001b[0m \u001b[39mraise\u001b[39;00m \u001b[39mAttributeError\u001b[39;00m(\n\u001b[1;32m   1932\u001b[0m     \u001b[39mf\u001b[39m\u001b[39m\"\u001b[39m\u001b[39m'\u001b[39m\u001b[39m{\u001b[39;00m\u001b[39mtype\u001b[39m(\u001b[39mself\u001b[39m)\u001b[39m.\u001b[39m\u001b[39m__name__\u001b[39m\u001b[39m}\u001b[39;00m\u001b[39m'\u001b[39m\u001b[39m object has no attribute \u001b[39m\u001b[39m'\u001b[39m\u001b[39m{\u001b[39;00mname\u001b[39m}\u001b[39;00m\u001b[39m'\u001b[39m\u001b[39m\"\u001b[39m\n\u001b[1;32m   1933\u001b[0m )\n",
      "\u001b[0;31mAttributeError\u001b[0m: 'GPT2LMHeadModel' object has no attribute 'hidden_states'"
     ]
    }
   ],
   "source": [
    "model.hidden_states"
   ]
  },
  {
   "cell_type": "code",
   "execution_count": 5,
   "metadata": {},
   "outputs": [],
   "source": [
    "tokenizer = transformers.AutoTokenizer.from_pretrained(MODEL_NAME)"
   ]
  },
  {
   "cell_type": "code",
   "execution_count": 6,
   "metadata": {},
   "outputs": [
    {
     "name": "stderr",
     "output_type": "stream",
     "text": [
      "I0000 00:00:1738097131.399919 3876104 gpu_device.cc:2022] Created device /job:localhost/replica:0/task:0/device:GPU:0 with 13764 MB memory:  -> device: 0, name: Tesla T4, pci bus id: 0000:db:00.0, compute capability: 7.5\n"
     ]
    },
    {
     "ename": "RuntimeError",
     "evalue": "Invalid device string: '/job:localhost/replica:0/task:0/device:GPU:0'",
     "output_type": "error",
     "traceback": [
      "\u001b[0;31m---------------------------------------------------------------------------\u001b[0m",
      "\u001b[0;31mRuntimeError\u001b[0m                              Traceback (most recent call last)",
      "\u001b[1;32m/home/grall/Documents/aiClub/lltm/LLTM/llm_core/test_finetune.ipynb Cell 8\u001b[0m line \u001b[0;36m2\n\u001b[1;32m      <a href='vscode-notebook-cell://ssh-remote%2Bgrall@dh-mgmt2.hpc.msoe.edu/home/grall/Documents/aiClub/lltm/LLTM/llm_core/test_finetune.ipynb#W6sdnNjb2RlLXJlbW90ZQ%3D%3D?line=0'>1</a>\u001b[0m tokens \u001b[39m=\u001b[39m tokenizer(\u001b[39m'\u001b[39m\u001b[39mhuman: hi\u001b[39m\u001b[39m\\n\u001b[39;00m\u001b[39mbot: I AM A ROBOT\u001b[39m\u001b[39m\\n\u001b[39;00m\u001b[39mhuman: huh?\u001b[39m\u001b[39m\\n\u001b[39;00m\u001b[39m'\u001b[39m, return_tensors\u001b[39m=\u001b[39m\u001b[39m'\u001b[39m\u001b[39mtf\u001b[39m\u001b[39m'\u001b[39m)\n\u001b[0;32m----> <a href='vscode-notebook-cell://ssh-remote%2Bgrall@dh-mgmt2.hpc.msoe.edu/home/grall/Documents/aiClub/lltm/LLTM/llm_core/test_finetune.ipynb#W6sdnNjb2RlLXJlbW90ZQ%3D%3D?line=1'>2</a>\u001b[0m out_ids \u001b[39m=\u001b[39m model\u001b[39m.\u001b[39;49mgenerate(\u001b[39m*\u001b[39;49m\u001b[39m*\u001b[39;49mtokens, max_length\u001b[39m=\u001b[39;49m\u001b[39m100\u001b[39;49m, pad_token_id\u001b[39m=\u001b[39;49mtokenizer\u001b[39m.\u001b[39;49meos_token_id, temperature\u001b[39m=\u001b[39;49m\u001b[39m0.8\u001b[39;49m, do_sample\u001b[39m=\u001b[39;49m\u001b[39mTrue\u001b[39;49;00m)\n\u001b[1;32m      <a href='vscode-notebook-cell://ssh-remote%2Bgrall@dh-mgmt2.hpc.msoe.edu/home/grall/Documents/aiClub/lltm/LLTM/llm_core/test_finetune.ipynb#W6sdnNjb2RlLXJlbW90ZQ%3D%3D?line=2'>3</a>\u001b[0m \u001b[39mprint\u001b[39m(tokenizer\u001b[39m.\u001b[39mdecode(out_ids[\u001b[39m0\u001b[39m]))\n",
      "File \u001b[0;32m/data/ai_club/team_3_2024-25/team3-env-finetune/lib/python3.12/site-packages/torch/utils/_contextlib.py:116\u001b[0m, in \u001b[0;36mcontext_decorator.<locals>.decorate_context\u001b[0;34m(*args, **kwargs)\u001b[0m\n\u001b[1;32m    113\u001b[0m \u001b[39m@functools\u001b[39m\u001b[39m.\u001b[39mwraps(func)\n\u001b[1;32m    114\u001b[0m \u001b[39mdef\u001b[39;00m\u001b[39m \u001b[39m\u001b[39mdecorate_context\u001b[39m(\u001b[39m*\u001b[39margs, \u001b[39m*\u001b[39m\u001b[39m*\u001b[39mkwargs):\n\u001b[1;32m    115\u001b[0m     \u001b[39mwith\u001b[39;00m ctx_factory():\n\u001b[0;32m--> 116\u001b[0m         \u001b[39mreturn\u001b[39;00m func(\u001b[39m*\u001b[39;49margs, \u001b[39m*\u001b[39;49m\u001b[39m*\u001b[39;49mkwargs)\n",
      "File \u001b[0;32m/data/ai_club/team_3_2024-25/team3-env-finetune/lib/python3.12/site-packages/transformers/generation/utils.py:2033\u001b[0m, in \u001b[0;36mGenerationMixin.generate\u001b[0;34m(self, inputs, generation_config, logits_processor, stopping_criteria, prefix_allowed_tokens_fn, synced_gpus, assistant_model, streamer, negative_prompt_ids, negative_prompt_attention_mask, **kwargs)\u001b[0m\n\u001b[1;32m   2030\u001b[0m batch_size \u001b[39m=\u001b[39m inputs_tensor\u001b[39m.\u001b[39mshape[\u001b[39m0\u001b[39m]\n\u001b[1;32m   2032\u001b[0m device \u001b[39m=\u001b[39m inputs_tensor\u001b[39m.\u001b[39mdevice\n\u001b[0;32m-> 2033\u001b[0m \u001b[39mself\u001b[39;49m\u001b[39m.\u001b[39;49m_prepare_special_tokens(generation_config, kwargs_has_attention_mask, device\u001b[39m=\u001b[39;49mdevice)\n\u001b[1;32m   2035\u001b[0m \u001b[39m# decoder-only models must use left-padding for batched generation.\u001b[39;00m\n\u001b[1;32m   2036\u001b[0m \u001b[39mif\u001b[39;00m \u001b[39mnot\u001b[39;00m \u001b[39mself\u001b[39m\u001b[39m.\u001b[39mconfig\u001b[39m.\u001b[39mis_encoder_decoder \u001b[39mand\u001b[39;00m \u001b[39mnot\u001b[39;00m is_torchdynamo_compiling():\n\u001b[1;32m   2037\u001b[0m     \u001b[39m# If `input_ids` was given, check if the last id in any sequence is `pad_token_id`\u001b[39;00m\n\u001b[1;32m   2038\u001b[0m     \u001b[39m# Note: If using, `inputs_embeds` this check does not work, because we want to be more hands-off.\u001b[39;00m\n",
      "File \u001b[0;32m/data/ai_club/team_3_2024-25/team3-env-finetune/lib/python3.12/site-packages/transformers/generation/utils.py:1848\u001b[0m, in \u001b[0;36mGenerationMixin._prepare_special_tokens\u001b[0;34m(self, generation_config, kwargs_has_attention_mask, device)\u001b[0m\n\u001b[1;32m   1845\u001b[0m         \u001b[39mreturn\u001b[39;00m token\u001b[39m.\u001b[39mto(device)\n\u001b[1;32m   1846\u001b[0m     \u001b[39mreturn\u001b[39;00m torch\u001b[39m.\u001b[39mtensor(token, device\u001b[39m=\u001b[39mdevice, dtype\u001b[39m=\u001b[39mtorch\u001b[39m.\u001b[39mlong)\n\u001b[0;32m-> 1848\u001b[0m bos_token_tensor \u001b[39m=\u001b[39m _tensor_or_none(generation_config\u001b[39m.\u001b[39;49mbos_token_id, device\u001b[39m=\u001b[39;49mdevice)\n\u001b[1;32m   1849\u001b[0m eos_token_tensor \u001b[39m=\u001b[39m _tensor_or_none(generation_config\u001b[39m.\u001b[39meos_token_id, device\u001b[39m=\u001b[39mdevice)\n\u001b[1;32m   1850\u001b[0m pad_token_tensor \u001b[39m=\u001b[39m _tensor_or_none(generation_config\u001b[39m.\u001b[39mpad_token_id, device\u001b[39m=\u001b[39mdevice)\n",
      "File \u001b[0;32m/data/ai_club/team_3_2024-25/team3-env-finetune/lib/python3.12/site-packages/transformers/generation/utils.py:1846\u001b[0m, in \u001b[0;36mGenerationMixin._prepare_special_tokens.<locals>._tensor_or_none\u001b[0;34m(token, device)\u001b[0m\n\u001b[1;32m   1844\u001b[0m \u001b[39mif\u001b[39;00m \u001b[39misinstance\u001b[39m(token, torch\u001b[39m.\u001b[39mTensor):\n\u001b[1;32m   1845\u001b[0m     \u001b[39mreturn\u001b[39;00m token\u001b[39m.\u001b[39mto(device)\n\u001b[0;32m-> 1846\u001b[0m \u001b[39mreturn\u001b[39;00m torch\u001b[39m.\u001b[39;49mtensor(token, device\u001b[39m=\u001b[39;49mdevice, dtype\u001b[39m=\u001b[39;49mtorch\u001b[39m.\u001b[39;49mlong)\n",
      "\u001b[0;31mRuntimeError\u001b[0m: Invalid device string: '/job:localhost/replica:0/task:0/device:GPU:0'"
     ]
    }
   ],
   "source": [
    "tokens = tokenizer('human: hi\\nbot: I AM A ROBOT\\nhuman: huh?\\n', return_tensors='tf')\n",
    "out_ids = model.generate(**tokens, max_length=100, pad_token_id=tokenizer.eos_token_id, temperature=0.8, do_sample=True)\n",
    "print(tokenizer.decode(out_ids[0]))"
   ]
  }
 ],
 "metadata": {
  "kernelspec": {
   "display_name": "Python 3 (ipykernel)",
   "language": "python",
   "name": "python3"
  },
  "language_info": {
   "codemirror_mode": {
    "name": "ipython",
    "version": 3
   },
   "file_extension": ".py",
   "mimetype": "text/x-python",
   "name": "python",
   "nbconvert_exporter": "python",
   "pygments_lexer": "ipython3",
   "version": "3.12.7"
  }
 },
 "nbformat": 4,
 "nbformat_minor": 2
}
