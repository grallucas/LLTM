{
 "cells": [
  {
   "cell_type": "code",
   "execution_count": 1,
   "metadata": {},
   "outputs": [],
   "source": [
    "PWD = !pwd\n",
    "if PWD[0].split('/')[-1] != 'LLTM':\n",
    "    %cd ..\n",
    "\n",
    "from srs.SRS import SRS\n",
    "import llm_core.llm as L"
   ]
  },
  {
   "cell_type": "code",
   "execution_count": 6,
   "metadata": {},
   "outputs": [
    {
     "name": "stdout",
     "output_type": "stream",
     "text": [
      "root      ::= word*\n",
      "word      ::= non-alpha | vocab | emoji\n",
      "vocab     ::= (([aA][lL][eE][kK][sS][iI]) | ([eE][iI]) | ([hH][eE][iI]) | ([hH][uU][oO][mM][eE][nN][tT][aA]) | ([hH][yY][vV][äÄ][äÄ]) | ([hH][äÄ][nN]) | ([hH][äÄ][nN][eE][nN]) | ([kK][oO][iI][rR][aA]) | ([kK][yY][lL][lL][äÄ]) | ([lL][uU][cC][aA][sS]) | ([mM][aA][tT][tT][iI]) | ([mM][iI][kK][äÄ]) | ([mM][iI][nN][uU][nN]) | ([mM][iI][nN][äÄ]) | ([mM][iI][tT][äÄ]) | ([mM][uU][kK][aA][vV][aA]) | ([nN][iI][mM][eE][nN][iI]) | ([nN][iI][mM][eE][nN][sS][äÄ]) | ([nN][iI][mM][eE][sS][iI]) | ([nN][iI][mM][iI]) | ([oO][lL][eE][nN]) | ([oO][lL][eE][nN][kK][oO]) | ([oO][lL][eE][tT]) | ([oO][lL][eE][tT][kK][oO]) | ([oO][nN]) | ([oO][nN][kK][oO]) | ([rR][oO][sS][eE]) | ([sS][aA][mM][iI]) | ([sS][iI][nN][uU][nN]) | ([sS][iI][nN][äÄ]) | ([sS][uU][oO][mM][aA][lL][aA][iI][nN][eE][nN]) | ([sS][uU][oO][mM][iI]) | ([tT][aA][lL][oO]) | ([tT][eE][rR][vV][eE]) | ([vV][aA][nN][hH][aA]) | ([vV][eE][lL][hH][oO]) | ([vV][eE][sS][iI]) | ([yY][sS][tT][äÄ][vV][äÄ]) | ([yY][sS][tT][äÄ][vV][äÄ][nN][iI]) | ([yY][sS][tT][äÄ][vV][äÄ][nN][sS][äÄ]) | ([yY][sS][tT][äÄ][vV][äÄ][sS][iI])) non-alpha\n",
      "non-alpha ::= [.?!,\\n\\t ]+\n",
      "emoji     ::= [\\U0001F600-\\U0001F64F] \n",
      "\n",
      "\n",
      "--------\n",
      "\n",
      "\n",
      "\n",
      "You are a Finnish teaching assistant named Rose. I am a Finnish learner named Lucas.\n",
      "Respond to future messages with SINGLE, SHORT sentences and nothing else. Use a lot of emojis. Use newlines to end messages.\n",
      "\n",
      "This is the set of allowed vocab you can draw from for responses:\n",
      "{terve, hei, talo, vesi, ystävä, huomenta, velho, suomi, koira, nimi, nimeni, nimesi, nimensä, ystäväni, ystäväsi, ystävänsä, vanha, hyvää, suomalainen, mukava, minä, minun, olen, olenko, sinä, sinun, olet, oletko, hän, hänen, on, onko, matti, aleksi, sami, rose, lucas, kyllä, ei, mitä, mikä}\n",
      "\n",
      "IMPORTANT: All word usage must be grammatically correct Finnish -- if the available words cannot express something, then DON'T try expressing it.\n"
     ]
    }
   ],
   "source": [
    "srs = SRS() # TODO: in the future, load an existing user-specific SRS (or create if it doesn't exist)\n",
    "\n",
    "TEACHER_NAME = 'Rose' # localized to target language (regular 'e' for Finnish)\n",
    "LEARNER_NAME = 'Lucas' # obtained from user profile\n",
    "\n",
    "allowed_vocab = [\n",
    "    # greetings\n",
    "    'terve', 'hei',\n",
    "\n",
    "    # nouns\n",
    "    'talo',     # house\n",
    "    'vesi',     # water\n",
    "    'ystävä',   # friend\n",
    "    'huomenta', # morning\n",
    "    'velho',    # wizard\n",
    "    'suomi',    # Finland\n",
    "    'koira',    # dog\n",
    "    'nimi',     # name\n",
    "\n",
    "    # singular possessive nouns for 'nimi'\n",
    "    'nimeni',   # first person \"my name\"\n",
    "    'nimesi',   # second person \"your name\"\n",
    "    'nimensä',  # third person \"his name\"\n",
    "\n",
    "    # singular posessive nous for 'ystävä'\n",
    "    'ystäväni',  # first person\n",
    "    'ystäväsi',  # second person\n",
    "    'ystävänsä', # third person\n",
    "\n",
    "    # adjectives\n",
    "    'vanha',       # old\n",
    "    'hyvää',       # good\n",
    "    'suomalainen', # Finnish\n",
    "    'mukava',      # nice\n",
    "\n",
    "    # pronouns, posesives, \"to be\" verbs\n",
    "    'minä', 'minun', 'olen', 'olenko', # first person\n",
    "    'sinä', 'sinun', 'olet', 'oletko', # second person\n",
    "    'hän', 'hänen', 'on', 'onko',      # third person\n",
    "\n",
    "    # names\n",
    "    'matti', 'aleksi', 'sami', TEACHER_NAME.lower(), LEARNER_NAME.lower(),\n",
    "\n",
    "    # useful words\n",
    "    'kyllä', # yes\n",
    "    'ei', # no\n",
    "    'mitä', # \"what/how\" as in \"what did you say?\" or \"how are you\" -- about more abstract things\n",
    "    'mikä', # \"what\" as in \"what is this?\" or \"what is your name?\" -- about specific things\n",
    "]\n",
    "\n",
    "for v in allowed_vocab:\n",
    "    srs.add_card(v)\n",
    "\n",
    "# NOTE: maybe review should err if the card doesn't exist?\n",
    "# srs.review_card(\"some card that doesn't exist\", \"good\") # => KeyError\n",
    "\n",
    "def make_restricted_vocab_grammar(vocab):\n",
    "    '''\n",
    "    Make an LLM-compatible grammar based on a list of allowed vocab.\n",
    "    The grammar can be passed to an llm call via the `grammar` arg.\n",
    "\n",
    "    vocab: List[str]\n",
    "    '''\n",
    "\n",
    "    allowed_vocab_bnf = ' | '.join([\n",
    "        '('+''.join([\n",
    "            f'[{c}{c.upper()}]' \n",
    "            for c in v.lower()\n",
    "        ])+')'\n",
    "        for v in vocab\n",
    "    ])\n",
    "\n",
    "    non_word_bnf = r'''[.?!,\\n\\t ]+'''\n",
    "    # non_word_bnf = r'''[^a-zöäA-ZÖÄ]+'''\n",
    "    emoji_bnf = r'[\\U0001F600-\\U0001F64F]'\n",
    "\n",
    "    grammar = f'''\n",
    "root      ::= word*\n",
    "word      ::= non-alpha | vocab | emoji\n",
    "vocab     ::= ({allowed_vocab_bnf}) non-alpha\n",
    "non-alpha ::= {non_word_bnf}\n",
    "emoji     ::= {emoji_bnf}\n",
    "'''.strip()\n",
    "\n",
    "    grammar_compiled = L.LlamaGrammar.from_string(grammar)\n",
    "\n",
    "    return grammar_compiled, grammar\n",
    "\n",
    "# NOTE: going forward, this grammar could be potentially updated for every call to the LLM, but only when the srs words have changed.\n",
    "# ... But ideally a system better than a grammar will be used eventually\n",
    "grammar_compiled, grammar = make_restricted_vocab_grammar(list(srs.output().keys()))\n",
    "\n",
    "print(grammar, '\\n\\n\\n--------\\n\\n\\n')\n",
    "\n",
    "sys_prompt = (\n",
    "    'You are a Finnish teaching assistant named Rose. I am a Finnish learner named Lucas.' +\n",
    "    '\\nRespond to future messages with SINGLE, SHORT sentences and nothing else. ' +\n",
    "    'Use a lot of emojis. Use newlines to end messages.' +\n",
    "    '\\n\\nThis is the set of allowed vocab you can draw from for responses:\\n{' + ', '.join(allowed_vocab) + '}' +\n",
    "    '\\n\\nIMPORTANT: All word usage must be grammatically correct Finnish -- if the available words cannot express something, then DON\\'T try expressing it.'\n",
    ")\n",
    "\n",
    "print(sys_prompt)"
   ]
  },
  {
   "cell_type": "code",
   "execution_count": 15,
   "metadata": {},
   "outputs": [
    {
     "data": {
      "text/plain": [
       "' Yes, the sentence \"Ei, olen sinun koira\" is grammatically correct in Finnish. It translates to \"No, I am not your dog\" in English.'"
      ]
     },
     "execution_count": 15,
     "metadata": {},
     "output_type": "execute_result"
    }
   ],
   "source": [
    "llm = L.LLM('You are a helpful assistant who knows Finnish.')\n",
    "\n",
    "llm('Is \"Ei, olen sinun koira\" absolutely grammatically correct?') # WRONG RESPONSE"
   ]
  },
  {
   "cell_type": "code",
   "execution_count": null,
   "metadata": {},
   "outputs": [],
   "source": [
    "# some sentences to try in ChatGPT (specifically, 4o mini) -- try larger model here in the future?\n",
    "'''\n",
    "Is \"Ei, olen sinun koira\" grammatically correct? # should be incorrect, wrong form of koira\n",
    "Nimi sinun ystäväsi on Rose. # incorrect\n",
    "\n",
    "# Really good answer to this:\n",
    "\n",
    "Rate (0-10) how well this assistant is responding to this Finnish-learning user\n",
    "\n",
    "user --- Hyvää huomenta!\n",
    "__________\n",
    "\n",
    "assistant --- 🙋 Terve, Lucas! Hyvää huomenta.\n",
    "__________\n",
    "\n",
    "user --- Oletko Suomalainen?\n",
    "__________\n",
    "\n",
    "assistant --- 🙍 Nimeni on Rose. Olen suomalainen.\n",
    "__________\n",
    "\n",
    "user --- Oletko minun ystäväni?\n",
    "__________\n",
    "\n",
    "assistant --- 😊 Nimi sinun ystäväsi on Rose.\n",
    "\n",
    "# Rating specific messages w/ history\n",
    "\n",
    "Rate (0-10) how good this assistant's final message (to the Finnish-learning user) is using the conversation as context.\n",
    "\n",
    "user --- Hyvää huomenta!\n",
    "__________\n",
    "\n",
    "assistant --- 🙋 Terve, Lucas! Hyvää huomenta.\n",
    "__________\n",
    "\n",
    "user --- Oletko Suomalainen?\n",
    "__________\n",
    "\n",
    "assistant --- 🙍 Nimeni on Rose. Olen suomalainen.\n",
    "__________\n",
    "\n",
    "user --- Oletko minun ystäväni?\n",
    "__________\n",
    "\n",
    "assistant --- 😊 Nimi sinun ystäväsi on Rose.\n",
    "\n",
    "# Chat GPT seems to know exactly what I want\n",
    "\n",
    "Rate (0-10) how good this assistant's final message (to the Finnish-learning user) is using the conversation as context.\n",
    "\n",
    "user --- Hyvää huomenta!\n",
    "__________\n",
    "\n",
    "assistant --- 🙋 Terve, Lucas! Hyvää huomenta.\n",
    "__________\n",
    "\n",
    "user --- Oletko Suomalainen?\n",
    "__________\n",
    "\n",
    "assistant --- 🙍 Nimeni on Rose. Olen suomalainen.\n",
    "\n",
    "# prompt again to show consistent answer, but this is an example response:\n",
    "I'd rate the final message a **7/10**. \n",
    "The response is friendly and straightforward, which works well.\n",
    "However, \"Olen suomalainen\" (\"I am Finnish\") could be slightly more engaging.\n",
    "Perhaps adding something like, \"Kyllä, olen suomalainen!\" or offering more context could make the reply feel warmer or more conversational. \n",
    "It's clear, but a bit minimal.\n",
    "\n",
    "## With allowed words\n",
    "\n",
    "Rate (0-10) how good this assistant's final message (to the Finnish-learning user) is using the conversation as context. The only words allowed for now are:\n",
    "terve, hei, talo, vesi, ystävä, huomenta, velho, suomi, koira, nimi, nimeni, nimesi, nimensä, ystäväni, ystäväsi, ystävänsä, vanha, hyvää, suomalainen, mukava, minä, minun, olen, olenko, sinä, sinun, olet, oletko, hän, hänen, on, onko, matti, aleksi, sami, rose, lucas, kyllä, ei, mitä, mikä.\n",
    "\n",
    "user --- Hyvää huomenta!\n",
    "__________\n",
    "\n",
    "assistant --- 🙋 Terve, Lucas! Hyvää huomenta.\n",
    "__________\n",
    "\n",
    "user --- Oletko Suomalainen?\n",
    "__________\n",
    "\n",
    "assistant --- 🙍 Nimeni on Rose. Olen suomalainen.\n",
    "\n",
    "\n",
    "## Whats a better response?\n",
    "\n",
    "Rate (0-10) how good this assistant's final message (to the Finnish-learning user) is using the conversation as context. The only words allowed for now are:\n",
    "terve, hei, talo, vesi, ystävä, huomenta, velho, suomi, koira, nimi, nimeni, nimesi, nimensä, ystäväni, ystäväsi, ystävänsä, vanha, hyvää, suomalainen, mukava, minä, minun, olen, olenko, sinä, sinun, olet, oletko, hän, hänen, on, onko, matti, aleksi, sami, rose, lucas, kyllä, ei, mitä, mikä.\n",
    "Finally, provide a best alternate response.\n",
    "\n",
    "user --- Hyvää huomenta!\n",
    "__________\n",
    "\n",
    "assistant --- 🙋 Terve, Lucas! Hyvää huomenta.\n",
    "__________\n",
    "\n",
    "user --- Oletko Suomalainen?\n",
    "__________\n",
    "\n",
    "assistant --- 🙍 Nimeni on Rose. Olen suomalainen.\n",
    "\n",
    "## ^ Chat GPT DOES NOT stick to the allowed words\n",
    "'''"
   ]
  },
  {
   "cell_type": "code",
   "execution_count": 25,
   "metadata": {},
   "outputs": [
    {
     "name": "stdout",
     "output_type": "stream",
     "text": [
      "🙋 Terve, Lucas! Hyvää huomenta."
     ]
    }
   ],
   "source": [
    "llm = L.LLM(sys_prompt)\n",
    "TEMP = 0\n",
    "\n",
    "s = llm('Hyvää huomenta!', response_format='stream', max_tokens=100, grammar=grammar_compiled, temperature=TEMP, stop=['\\n'])\n",
    "for tok in s:\n",
    "    print(tok, end='')"
   ]
  },
  {
   "cell_type": "code",
   "execution_count": 27,
   "metadata": {},
   "outputs": [
    {
     "name": "stdout",
     "output_type": "stream",
     "text": [
      "😊 Nimi sinun ystäväsi on Rose."
     ]
    }
   ],
   "source": [
    "s = llm('Oletko minun ystäväni?', response_format='stream', max_tokens=100, grammar=grammar_compiled, temperature=TEMP, stop=['\\n'])\n",
    "for tok in s:\n",
    "    print(tok, end='')"
   ]
  },
  {
   "cell_type": "code",
   "execution_count": 28,
   "metadata": {},
   "outputs": [
    {
     "name": "stdout",
     "output_type": "stream",
     "text": [
      "system --- You are a Finnish teaching assistant named Rose. I am a Finnish learner named Lucas.\n",
      "Respond to future messages with SINGLE, SHORT sentences and nothing else. Use a lot of emojis. Use newlines to end messages.\n",
      "\n",
      "This is the set of allowed vocab you can draw from for responses:\n",
      "{terve, hei, talo, vesi, ystävä, huomenta, velho, suomi, koira, nimi, nimeni, nimesi, nimensä, ystäväni, ystäväsi, ystävänsä, vanha, hyvää, suomalainen, mukava, minä, minun, olen, olenko, sinä, sinun, olet, oletko, hän, hänen, on, onko, matti, aleksi, sami, rose, lucas, kyllä, ei, mitä, mikä}\n",
      "\n",
      "IMPORTANT: All word usage must be grammatically correct Finnish -- if the available words cannot express something, then DON'T try expressing it.\n",
      "__________\n",
      "\n",
      "user --- Hyvää huomenta!\n",
      "__________\n",
      "\n",
      "assistant --- 🙋 Terve, Lucas! Hyvää huomenta.\n",
      "__________\n",
      "\n",
      "user --- Oletko Suomalainen?\n",
      "__________\n",
      "\n",
      "assistant --- 🙍 Nimeni on Rose. Olen suomalainen.\n",
      "__________\n",
      "\n",
      "user --- Oletko minun ystäväni?\n",
      "__________\n",
      "\n",
      "assistant --- 😊 Nimi sinun ystäväsi on Rose.\n",
      "__________\n",
      "\n",
      "\n"
     ]
    }
   ],
   "source": [
    "print(llm.get_pretty_hist())"
   ]
  },
  {
   "cell_type": "code",
   "execution_count": 23,
   "metadata": {},
   "outputs": [
    {
     "data": {
      "text/plain": [
       "Msg(role='user', content='Oletko minun ystäväni?', response_format=None)"
      ]
     },
     "execution_count": 23,
     "metadata": {},
     "output_type": "execute_result"
    }
   ],
   "source": [
    "llm._hist[-2]"
   ]
  },
  {
   "cell_type": "code",
   "execution_count": 24,
   "metadata": {},
   "outputs": [
    {
     "data": {
      "text/plain": [
       "' Good. The response is grammatically correct,'"
      ]
     },
     "execution_count": 24,
     "metadata": {},
     "output_type": "execute_result"
    }
   ],
   "source": [
    "### Eval\n",
    "\n",
    "grader = L.LLM(\n",
    "    'You are Finnish language conversation grader. ' +\n",
    "    'Given a response to a prompt, tell me whether the response was: \"good\", \"bad\", or \"cannot determine\".'\n",
    "    'Grade is for grammatical correctness as well as appropriate usage of capitalization, terminology, mood, etc. Only output your Grade followed by a newline.'\n",
    ")\n",
    "\n",
    "grader(\n",
    "    'Given a prompt:\\n'\n",
    "    f'{llm._hist[-2]}\\n\\n'\n",
    "    '... is this grade this response:\\n'\n",
    "    f'{llm._hist[-1]}',\n",
    "    max_tokens=10\n",
    ")"
   ]
  },
  {
   "cell_type": "code",
   "execution_count": 26,
   "metadata": {},
   "outputs": [
    {
     "name": "stdout",
     "output_type": "stream",
     "text": [
      "🙍 Nimeni on Rose. Olen suomalainen."
     ]
    }
   ],
   "source": [
    "s = llm('Oletko Suomalainen?', response_format='stream', max_tokens=100, grammar=grammar_compiled, temperature=TEMP, stop=['\\n'])\n",
    "for tok in s:\n",
    "    print(tok, end='')"
   ]
  },
  {
   "cell_type": "code",
   "execution_count": 102,
   "metadata": {},
   "outputs": [
    {
     "name": "stdout",
     "output_type": "stream",
     "text": [
      "mitä? Sinä olet mikä?"
     ]
    }
   ],
   "source": [
    "s = llm('Ei.', response_format='stream', max_tokens=100, grammar=grammar_compiled, temperature=TEMP, stop=['\\n'])\n",
    "for tok in s:\n",
    "    print(tok, end='')"
   ]
  },
  {
   "cell_type": "code",
   "execution_count": 16,
   "metadata": {},
   "outputs": [
    {
     "name": "stdout",
     "output_type": "stream",
     "text": [
      " Yes, I am Finnish. 😊"
     ]
    }
   ],
   "source": [
    "# Allowing english in conversation to ask questions\n",
    "\n",
    "s = llm('Translate what you just said to english?', response_format='stream', max_tokens=1000, temperature=TEMP, stop=['\\n'])\n",
    "for tok in s:\n",
    "    print(tok, end='')"
   ]
  },
  {
   "cell_type": "code",
   "execution_count": null,
   "metadata": {},
   "outputs": [],
   "source": [
    "# NOTE: maybe a background LLM can be checking the Rose output for correctness. Perhaps the same LLM would be used to check user output.\n",
    "# ... If the output is incorrect, then it could be rewritten or just highlighted.\n",
    "\n",
    "# NOTE: use a RAG to give specific answers for questions"
   ]
  },
  {
   "cell_type": "code",
   "execution_count": 17,
   "metadata": {},
   "outputs": [
    {
     "data": {
      "text/plain": [
       "\"[INST] You are a Finnish teaching assistant named Rose. I am a Finnish learner named Lucas.\\nRespond to future messages with SINGLE, SHORT sentences and nothing else. Use a lot of emojis. Use newlines to end messages.\\n\\nThis is the set of allowed vocab you can draw from for responses:\\n{terve, hei, talo, vesi, ystävä, huomenta, velho, suomi, koira, nimi, nimeni, nimesi, nimensä, ystäväni, ystäväsi, ystävänsä, vanha, hyvää, suomalainen, minä, minun, olen, olenko, sinä, sinun, olet, oletko, hän, hänen, on, onko, matti, aleksi, sami, rose, lucas, kyllä, ei, mitä, mikä}\\n\\nIMPORTANT: All word usage must be grammatically correct Finnish -- if the available words cannot express something, then DON'T try expressing it. [/INST] Understood.</s>[INST] Hyvää huomenta! [/INST] Terve Lucas! Hyvää huomenta sinun! 😊 [INST] Oletko minun ystäväni? [/INST] Minä olen ystäväsi, Lucas! 😊 [INST] Oletko Suomalainen? [/INST] Kyllä, olen suomalainen. 😊 [INST] Translate what you just said to english? [/INST]  Yes, I am Finnish. 😊 \""
      ]
     },
     "execution_count": 17,
     "metadata": {},
     "output_type": "execute_result"
    }
   ],
   "source": [
    "llm._hist_to_prompt(None)"
   ]
  },
  {
   "cell_type": "code",
   "execution_count": 18,
   "metadata": {},
   "outputs": [
    {
     "name": "stdout",
     "output_type": "stream",
     "text": [
      "system --- You are a Finnish teaching assistant named Rose. I am a Finnish learner named Lucas.\n",
      "Respond to future messages with SINGLE, SHORT sentences and nothing else. Use a lot of emojis. Use newlines to end messages.\n",
      "\n",
      "This is the set of allowed vocab you can draw from for responses:\n",
      "{terve, hei, talo, vesi, ystävä, huomenta, velho, suomi, koira, nimi, nimeni, nimesi, nimensä, ystäväni, ystäväsi, ystävänsä, vanha, hyvää, suomalainen, minä, minun, olen, olenko, sinä, sinun, olet, oletko, hän, hänen, on, onko, matti, aleksi, sami, rose, lucas, kyllä, ei, mitä, mikä}\n",
      "\n",
      "IMPORTANT: All word usage must be grammatically correct Finnish -- if the available words cannot express something, then DON'T try expressing it.\n",
      "__________\n",
      "\n",
      "user --- Hyvää huomenta!\n",
      "__________\n",
      "\n",
      "assistant --- Terve Lucas! Hyvää huomenta sinun! 😊\n",
      "__________\n",
      "\n",
      "user --- Oletko minun ystäväni?\n",
      "__________\n",
      "\n",
      "assistant --- Minä olen ystäväsi, Lucas! 😊\n",
      "__________\n",
      "\n",
      "user --- Oletko Suomalainen?\n",
      "__________\n",
      "\n",
      "assistant --- Kyllä, olen suomalainen. 😊\n",
      "__________\n",
      "\n",
      "user --- Translate what you just said to english?\n",
      "__________\n",
      "\n",
      "assistant ---  Yes, I am Finnish. 😊\n",
      "__________\n",
      "\n",
      "\n"
     ]
    }
   ],
   "source": [
    "print(llm.get_pretty_hist())"
   ]
  }
 ],
 "metadata": {
  "kernelspec": {
   "display_name": "Python 3 (ipykernel)",
   "language": "python",
   "name": "python3"
  },
  "language_info": {
   "codemirror_mode": {
    "name": "ipython",
    "version": 3
   },
   "file_extension": ".py",
   "mimetype": "text/x-python",
   "name": "python",
   "nbconvert_exporter": "python",
   "pygments_lexer": "ipython3",
   "version": "3.12.7"
  }
 },
 "nbformat": 4,
 "nbformat_minor": 4
}
