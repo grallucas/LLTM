{
 "cells": [
  {
   "cell_type": "code",
   "execution_count": 5,
   "metadata": {},
   "outputs": [],
   "source": [
    "import llm_core.llm as L\n",
    "from srs.SRS import SRS\n",
    "import re"
   ]
  },
  {
   "cell_type": "code",
   "execution_count": null,
   "metadata": {},
   "outputs": [],
   "source": [
    "#initialize\n",
    "llm1 = L.LLM(\"You are a grader for beginner language learning students. \"\n",
    "            \"You judge their response for grammar and \"\n",
    "            \"concisely describe how each word is correct or incorrect in the sentence.\")\n",
    "llm2 = L.LLM(\"\"\"You are a grader for beginner language learning students.\n",
    "                You judge their response for grammar and correctness and grade accordingly.\n",
    "                Each mistake has a short description with it for what they did wrong.\n",
    "                If there is nothing wrong, simply don't say anything.\"\"\")\n",
    "srs = SRS()\n"
   ]
  },
  {
   "cell_type": "code",
   "execution_count": 7,
   "metadata": {},
   "outputs": [
    {
     "data": {
      "text/plain": [
       "\"\\n#example response between 2 LLMs\\nexample_llm1 = L.LLM('You are a native French speaker in a conversation with another native French speaker.')\\ns = example_llm1(\\n    'What do you say to start the conversation?',\\n    max_tokens=1000,\\n    temperature=0,\\n    verbose=False\\n)\\nexample_llm2 = L.LLM('You are a native French speaker in a conversation with another native French speaker.')\\ns = example_llm2(\\n    s,\\n    max_tokens=1000,\\n    temperature=0,\\n    verbose=False\\n)\\n\""
      ]
     },
     "execution_count": 7,
     "metadata": {},
     "output_type": "execute_result"
    }
   ],
   "source": [
    "'''\n",
    "#example response between 2 LLMs\n",
    "example_llm1 = L.LLM('You are a native French speaker in a conversation with another native French speaker.')\n",
    "s = example_llm1(\n",
    "    'What do you say to start the conversation?',\n",
    "    max_tokens=1000,\n",
    "    temperature=0,\n",
    "    verbose=False\n",
    ")\n",
    "example_llm2 = L.LLM('You are a native French speaker in a conversation with another native French speaker.')\n",
    "s = example_llm2(\n",
    "    s,\n",
    "    max_tokens=1000,\n",
    "    temperature=0,\n",
    "    verbose=False\n",
    ")\n",
    "'''"
   ]
  },
  {
   "cell_type": "code",
   "execution_count": null,
   "metadata": {},
   "outputs": [
    {
     "name": "stdout",
     "output_type": "stream",
     "text": [
      "{'Elle': {'reason': 'Correct, subject pronoun for she.', 'Correct? yes or no?': 'yes'}, 'mangeait': {'reason': 'Correct, imperfect tense of manger (to eat).', 'Correct? yes or no?': 'yes'}, 'les': {'reason': \"Incorrect, plural definite article should be 'les' but is spelled 'pomme'.\", 'Correct? yes or no?': 'no'}, 'pomme': {'reason': \"Incorrect, plural form should be 'pommes'.\", 'Correct? yes or no?': 'no'}, 'au': {'reason': \"Incorrect, preposition 'à' and definite article 'le' should be separated.\", 'Correct? yes or no?': 'no'}, 'd': {'reason': \"Incorrect, shortened form of 'dîner', should be 'dîner'.\", 'Correct? yes or no?': 'no'}, 'ner': {'reason': 'Not a word, unclear what it is supposed to represent.', 'Correct? yes or no?': 'no'}}\n",
      "{\n",
      "    \"mistakes\": [\n",
      "        {\n",
      "            \"word\": \"Elle\",\n",
      "            \"reason\": \"should be 'elle mange' with no space between 'Elle' and 'mange' as it is a single word in French\"\n",
      "        },\n",
      "        {\n",
      "            \"word\": \"mangeait\",\n",
      "            \"reason\": \"should be in the present tense 'mange' as the action is still happening\"\n",
      "        },\n",
      "        {\n",
      "            \"word\": \"les\",\n",
      "            \"reason\": \"should be written as 'des' as it is the partitive article used before a vowel sound in 'pommes'\"\n",
      "        },\n",
      "        {\n",
      "            \"word\": \"pomme\",\n",
      "            \"reason\": \"should be in plural form 'pommes' to agree with the verb 'mangeait' which is in the past tense indicating more than one apple was eaten\"\n",
      "        },\n",
      "        {\n",
      "            \"word\": \"au\",\n",
      "            \"reason\": \"should be 'aux' as it is the contraction of '\\u00e0' and 'les' and 'les' is used before a vowel sound in 'pommes'\"\n",
      "        },\n",
      "        {\n",
      "            \"word\": \"d\\u00eener\",\n",
      "            \"reason\": \"should be in lowercase as it is a regular noun and not a proper noun\"\n",
      "        },\n",
      "        {\n",
      "            \"word\": \"d\\u00eener\",\n",
      "            \"reason\": \"should be written as 'd\\u00eeners' as it is the plural form of 'd\\u00eener' to agree with 'les'\"\n",
      "        }\n",
      "    ]\n",
      "}\n"
     ]
    }
   ],
   "source": [
    "#grade\n",
    "#TODO: create method to grade each sentence. Rerun systen prompt between sentence. Return list of dictionaries with word:reason\n",
    "\n",
    "import json\n",
    "response = \"Elle mangeait les pomme au dîner.\"\n",
    "words_in_response = re.sub(\"[^A-Za-z0-9 -]\", \" \", response).split()\n",
    "for word in words_in_response:\n",
    "    grade1 = llm1(\n",
    "        \"Evaluate this response for grammatical correctness: \" + response,\n",
    "        response_format={\n",
    "            k:{'reason': str, 'Correct? yes or no?' : str} for k in words_in_response\n",
    "        },\n",
    "        max_tokens=1000,\n",
    "        temperature=0,\n",
    "        verbose=False\n",
    "    )\n",
    "\n",
    "grade2 = llm2(\n",
    "    \"Evaluate this response for grammatical correctness with one review for each word in order: \" + response,\n",
    "    response_format={\n",
    "        'mistakes': [{'word': str, 'reason': str}, len(words_in_response)]\n",
    "    },\n",
    "    max_tokens=1000,\n",
    "    temperature=0,\n",
    "    verbose=False\n",
    ")\n",
    "\n",
    "# try Lucas's other structure idea\n",
    "# reset() to reset history other than sys prompt\n",
    "grade3\n",
    "\n",
    "print(grade1)\n",
    "print(json.dumps(grade2, indent=4))"
   ]
  },
  {
   "cell_type": "code",
   "execution_count": null,
   "metadata": {},
   "outputs": [],
   "source": []
  }
 ],
 "metadata": {
  "kernelspec": {
   "display_name": "Python 3 (ipykernel)",
   "language": "python",
   "name": "python3"
  },
  "language_info": {
   "codemirror_mode": {
    "name": "ipython",
    "version": 3
   },
   "file_extension": ".py",
   "mimetype": "text/x-python",
   "name": "python",
   "nbconvert_exporter": "python",
   "pygments_lexer": "ipython3",
   "version": "3.12.7"
  }
 },
 "nbformat": 4,
 "nbformat_minor": 2
}
