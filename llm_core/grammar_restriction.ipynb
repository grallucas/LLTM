{
 "cells": [
  {
   "cell_type": "code",
   "execution_count": 1,
   "metadata": {},
   "outputs": [],
   "source": [
    "import llm_core.llm as L\n",
    "import os"
   ]
  },
  {
   "cell_type": "code",
   "execution_count": 2,
   "metadata": {},
   "outputs": [],
   "source": [
    "#os.environ['MODEL_PATH'] = \"/data/ai_club/llms/qwen2-7b-instruct-q5_k_m.gguf\"\n",
    "LLM_GLOBAL_INSTANCE = L.Llama(\n",
    "                n_ctx=1000,\n",
    "                model_path=os.environ['MODEL_PATH'],\n",
    "                n_gpu_layers=-1, verbose=0,\n",
    "                # embedding=True\n",
    "            )"
   ]
  },
  {
   "cell_type": "code",
   "execution_count": 3,
   "metadata": {},
   "outputs": [],
   "source": [
    "# system_input = \"You are a Japanese language assistant who speaks in consice, simple sentences.\"\n",
    "# user_input = \"Tell me about your favorite Kanji, in Japanese using Kanji, Hiragana, and Katakana when appropriate\"\n",
    "system_input = \"You are a helpful assistant. Respond with prompts suitable for Japanese children's books, following the [word] が [word] です form.\"\n",
    "user_input = \"赤色は何をしてるですか？\""
   ]
  },
  {
   "cell_type": "code",
   "execution_count": 4,
   "metadata": {},
   "outputs": [
    {
     "data": {
      "text/plain": [
       "{'id': 'chatcmpl-7809e046-be9a-483d-86c3-d3d350a45373',\n",
       " 'object': 'chat.completion',\n",
       " 'created': 1739716189,\n",
       " 'model': '/data/ai_club/llms/qwen2.5-7b-instruct-q8_0-00001-of-00003.gguf',\n",
       " 'choices': [{'index': 0,\n",
       "   'message': {'role': 'assistant', 'content': 'あがめです。'},\n",
       "   'logprobs': None,\n",
       "   'finish_reason': 'stop'}],\n",
       " 'usage': {'prompt_tokens': 50, 'completion_tokens': 5, 'total_tokens': 55}}"
      ]
     },
     "execution_count": 4,
     "metadata": {},
     "output_type": "execute_result"
    }
   ],
   "source": [
    "# No Kanji usage, rare katakana usage\n",
    "grammar_string = r\"\"\"\n",
    "root ::= sentence{1,2}\n",
    "allowedchars ::= [\\u3040-\\u30FF, \\u4e00 - \\u9faf]\n",
    "word ::= allowedchars\n",
    "sentence ::= word particle word desu end\n",
    "particle ::= \"が\"\n",
    "desu ::= \"です\"\n",
    "end ::= \"。\"\n",
    "\"\"\"\n",
    "my_grammar = L.LlamaGrammar.from_string(grammar_string)\n",
    "\n",
    "LLM_GLOBAL_INSTANCE.create_chat_completion([\n",
    "        {\"role\": \"system\", \"content\": system_input},\n",
    "        {\"role\": \"user\", \"content\": user_input}\n",
    "    ], grammar=my_grammar)"
   ]
  },
  {
   "cell_type": "code",
   "execution_count": 5,
   "metadata": {},
   "outputs": [
    {
     "data": {
      "text/plain": [
       "{'id': 'chatcmpl-8ebe6514-5a4f-4201-9b37-c58890a0b2da',\n",
       " 'object': 'chat.completion',\n",
       " 'created': 1739716189,\n",
       " 'model': '/data/ai_club/llms/qwen2.5-7b-instruct-q8_0-00001-of-00003.gguf',\n",
       " 'choices': [{'index': 0,\n",
       "   'message': {'role': 'assistant', 'content': '赤色は炎のように光ってます が 楽しく感じます です。'},\n",
       "   'logprobs': None,\n",
       "   'finish_reason': 'stop'}],\n",
       " 'usage': {'prompt_tokens': 50, 'completion_tokens': 19, 'total_tokens': 69}}"
      ]
     },
     "execution_count": 5,
     "metadata": {},
     "output_type": "execute_result"
    }
   ],
   "source": [
    "#With basic prompt, no character restrictions spamps \\u0000 or \\uffff\n",
    "#Good responses with user_input = \"Tell me about your favorite Kanji, in Japanese using Kanji, Hiragana, and Katakana when appropriate\"\n",
    "#Talks in any vocab, but keeps sentences in が + です format. :D\n",
    "# Try telling it to write with spaces between words?\n",
    "grammar_string = r\"\"\"\n",
    "root ::= sentence{1,2}\n",
    "allowedchars ::= [\\u4e00 - \\u9faf, \\u3000-\\u303f, \\u3040-\\u309F, \\u30a0-\\u30ff]\n",
    "word ::= (unicodechar)+\n",
    "unicodechar ::= [\\u0000-\\uffff]\n",
    "sentence ::= word particle word desu end\n",
    "particle ::= \"が\"\n",
    "desu ::= \"です\"\n",
    "end ::= \"。\"\n",
    "\"\"\"\n",
    "my_grammar = L.LlamaGrammar.from_string(grammar_string)\n",
    "\n",
    "LLM_GLOBAL_INSTANCE.create_chat_completion([\n",
    "        {\"role\": \"system\", \"content\": system_input},\n",
    "        {\"role\": \"user\", \"content\": user_input}\n",
    "    ], grammar=my_grammar)"
   ]
  },
  {
   "cell_type": "code",
   "execution_count": 6,
   "metadata": {},
   "outputs": [],
   "source": [
    "LLM_GLOBAL_INSTANCE.reset()\n",
    "system_input = \"You are a helpful assistant. Respond with prompts suitable for Japanese children's books, following the [word] が [word] です form.\"\n",
    "user_input = \"赤色は何をしてるですか？\""
   ]
  },
  {
   "cell_type": "code",
   "execution_count": 7,
   "metadata": {},
   "outputs": [],
   "source": [
    "#only 1 or 2 allowedchar makes for much shorter+concise sentences\n",
    "#adding more sentences makes them incoherent\n",
    "grammar_string = r\"\"\"\n",
    "root ::= sentence\n",
    "allowedchars ::= [\\u0000-\\uffff]\n",
    "word ::= allowedchars\n",
    "sentence ::= word particle word desu end\n",
    "particle ::= \"が\"\n",
    "desu ::= \"です\"\n",
    "end ::= \"。\"\n",
    "\"\"\"\n",
    "my_grammar = L.LlamaGrammar.from_string(grammar_string)\n",
    "\n",
    "#grammar works better with Japanese prompts\n",
    "#English prompts are better without grammar\n",
    "#Not much variety between responses though\n",
    "#How does Llama grammar work??!!? Logits?"
   ]
  },
  {
   "cell_type": "code",
   "execution_count": 8,
   "metadata": {},
   "outputs": [
    {
     "data": {
      "text/plain": [
       "['赤が喜です。',\n",
       " '赤が喜です。',\n",
       " '赤が火です。',\n",
       " '赤が喜です。',\n",
       " '赤が力です。',\n",
       " '赤が力です。',\n",
       " '赤が怒です。',\n",
       " '赤が喜です。',\n",
       " '赤が怒です。',\n",
       " '赤が光です。']"
      ]
     },
     "execution_count": 8,
     "metadata": {},
     "output_type": "execute_result"
    }
   ],
   "source": [
    "training_data = list()\n",
    "training_size = 10\n",
    "for i in range(training_size):\n",
    "    response = LLM_GLOBAL_INSTANCE.create_chat_completion([\n",
    "        {\"role\": \"system\", \"content\": system_input},\n",
    "        {\"role\": \"user\", \"content\": user_input}\n",
    "    ], \n",
    "    grammar=my_grammar\n",
    "    )\n",
    "    training_data.append(response['choices'][0][\"message\"][\"content\"])\n",
    "training_data"
   ]
  },
  {
   "cell_type": "code",
   "execution_count": 9,
   "metadata": {},
   "outputs": [],
   "source": [
    "# i and na-adj don't work well\n",
    "LLM_GLOBAL_INSTANCE.reset()\n",
    "system_input = \"You are a helpful assistant. Respond with prompts suitable for Japanese children's books, using adjectives to describe in the [word] が [adjective] form.\"\n",
    "user_input = \"太陽の景色を描いてください\"\n",
    "grammar_string = r\"\"\"\n",
    "root ::= sentence\n",
    "allowedchars ::= [\\u0000-\\uffff]\n",
    "word ::= allowedchars\n",
    "sentence ::= word particle adjective shii end\n",
    "particle ::= \"が\"\n",
    "adjective ::= [\\u0000-\\uffff]\n",
    "shii ::= \"しい\"\n",
    "desu ::= \"です\"\n",
    "end ::= \"。\"\n",
    "\"\"\"\n",
    "my_grammar = L.LlamaGrammar.from_string(grammar_string)"
   ]
  },
  {
   "cell_type": "code",
   "execution_count": 10,
   "metadata": {},
   "outputs": [
    {
     "data": {
      "text/plain": [
       "['太が出しい。',\n",
       " '太が出しい。',\n",
       " '太が出しい。',\n",
       " '太が出しい。',\n",
       " '太が輝しい。',\n",
       " '太があしい。',\n",
       " '太が出しい。',\n",
       " '太があしい。',\n",
       " '太が出しい。',\n",
       " '太が出しい。']"
      ]
     },
     "execution_count": 10,
     "metadata": {},
     "output_type": "execute_result"
    }
   ],
   "source": [
    "training_data = list()\n",
    "training_size = 10\n",
    "for i in range(training_size):\n",
    "    response = LLM_GLOBAL_INSTANCE.create_chat_completion([\n",
    "        {\"role\": \"system\", \"content\": system_input},\n",
    "        {\"role\": \"user\", \"content\": user_input}\n",
    "    ], \n",
    "    grammar=my_grammar\n",
    "    )\n",
    "    training_data.append(response['choices'][0][\"message\"][\"content\"])\n",
    "training_data"
   ]
  },
  {
   "cell_type": "code",
   "execution_count": 11,
   "metadata": {},
   "outputs": [],
   "source": [
    "LLM_GLOBAL_INSTANCE.reset()\n",
    "system_input = \"You are a helpful assistant. Respond with prompts suitable for Japanese children's books, using the かどうか grammar pattern\"\n",
    "user_input = \"Ask me a quesiton in Japanese.\"\n",
    "grammar_string = r\"\"\"\n",
    "root ::= sentence\n",
    "allowedchars ::= [\\u0000-\\uffff]\n",
    "word ::= allowedchars+\n",
    "sentence ::= word particle word end\n",
    "particle ::= \"かどうか\"\n",
    "end ::= \"。\"\n",
    "\"\"\"\n",
    "my_grammar = L.LlamaGrammar.from_string(grammar_string)"
   ]
  },
  {
   "cell_type": "code",
   "execution_count": 13,
   "metadata": {},
   "outputs": [
    {
     "data": {
      "text/plain": [
       "['あなたは猫が好きかどうか教えてください。',\n",
       " '日本のどこに住むakahou か？（你住在日本的哪里啊？）',\n",
       " 'あなたはお気に入りのキャラクターがいたとき、そのキャラクターと物語の冒険をするとかどうか？',\n",
       " '日本語で質問をしますね。日本のお子さん向けの本に使われそうな質問です。\\n\\nあなたはigatorかどうか知っていますか？',\n",
       " 'あなたは今日学校に行きますか？']"
      ]
     },
     "execution_count": 13,
     "metadata": {},
     "output_type": "execute_result"
    }
   ],
   "source": [
    "training_data = list()\n",
    "training_size = 5\n",
    "for i in range(training_size):\n",
    "    response = LLM_GLOBAL_INSTANCE.create_chat_completion([\n",
    "        {\"role\": \"system\", \"content\": system_input},\n",
    "        {\"role\": \"user\", \"content\": user_input}\n",
    "    ], \n",
    "    #grammar=my_grammar\n",
    "    )\n",
    "    training_data.append(response['choices'][0][\"message\"][\"content\"])\n",
    "training_data"
   ]
  },
  {
   "cell_type": "code",
   "execution_count": null,
   "metadata": {},
   "outputs": [],
   "source": []
  }
 ],
 "metadata": {
  "kernelspec": {
   "display_name": "Python 3 (ipykernel)",
   "language": "python",
   "name": "python3"
  },
  "language_info": {
   "codemirror_mode": {
    "name": "ipython",
    "version": 3
   },
   "file_extension": ".py",
   "mimetype": "text/x-python",
   "name": "python",
   "nbconvert_exporter": "python",
   "pygments_lexer": "ipython3",
   "version": "3.12.7"
  }
 },
 "nbformat": 4,
 "nbformat_minor": 2
}
