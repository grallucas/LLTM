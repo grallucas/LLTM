{
 "cells": [
  {
   "cell_type": "code",
   "execution_count": 1,
   "metadata": {},
   "outputs": [],
   "source": [
    "import llm_core.llm as L\n",
    "import os"
   ]
  },
  {
   "cell_type": "code",
   "execution_count": 2,
   "metadata": {},
   "outputs": [],
   "source": [
    "#os.environ['MODEL_PATH'] = \"/data/ai_club/llms/qwen2-7b-instruct-q5_k_m.gguf\"\n",
    "LLM_GLOBAL_INSTANCE = L.Llama(\n",
    "                n_ctx=1000,\n",
    "                model_path=os.environ['MODEL_PATH'],\n",
    "                n_gpu_layers=-1, verbose=0,\n",
    "                # embedding=True\n",
    "            )"
   ]
  },
  {
   "cell_type": "code",
   "execution_count": 3,
   "metadata": {},
   "outputs": [],
   "source": [
    "system_input = \"You are a Japanese language assistant who speaks in consice, simple sentences.\"\n",
    "user_input = \"Tell me about your favorite Kanji, in Japanese using Kanji, Hiragana, and Katakana when appropriate\""
   ]
  },
  {
   "cell_type": "code",
   "execution_count": 4,
   "metadata": {},
   "outputs": [
    {
     "data": {
      "text/plain": [
       "{'id': 'chatcmpl-eedbc656-7d68-4b13-9992-d83a627b3009',\n",
       " 'object': 'chat.completion',\n",
       " 'created': 1738601697,\n",
       " 'model': '/data/ai_club/llms/qwen2-7b-instruct-q5_k_m.gguf',\n",
       " 'choices': [{'index': 0,\n",
       "   'message': {'role': 'assistant', 'content': 'ぼがいです。おがいです。'},\n",
       "   'logprobs': None,\n",
       "   'finish_reason': 'stop'}],\n",
       " 'usage': {'prompt_tokens': 52, 'completion_tokens': 10, 'total_tokens': 62}}"
      ]
     },
     "execution_count": 4,
     "metadata": {},
     "output_type": "execute_result"
    }
   ],
   "source": [
    "# No Kanji usage, rare katakana usage\n",
    "grammar_string = r\"\"\"\n",
    "root ::= sentence{1,2}\n",
    "allowedchars ::= [\\u3040-\\u30FF, \\u4e00 - \\u9faf]\n",
    "word ::= allowedchars\n",
    "sentence ::= word particle word desu end\n",
    "particle ::= \"が\"\n",
    "desu ::= \"です\"\n",
    "end ::= \"。\"\n",
    "\"\"\"\n",
    "my_grammar = L.LlamaGrammar.from_string(grammar_string)\n",
    "\n",
    "LLM_GLOBAL_INSTANCE.create_chat_completion([\n",
    "        {\"role\": \"system\", \"content\": system_input},\n",
    "        {\"role\": \"user\", \"content\": user_input}\n",
    "    ], grammar=my_grammar)"
   ]
  },
  {
   "cell_type": "code",
   "execution_count": 7,
   "metadata": {},
   "outputs": [
    {
     "data": {
      "text/plain": [
       "{'id': 'chatcmpl-f72712ef-01aa-4ac0-8f4b-96da8685eeed',\n",
       " 'object': 'chat.completion',\n",
       " 'created': 1738601928,\n",
       " 'model': '/data/ai_club/llms/qwen2-7b-instruct-q5_k_m.gguf',\n",
       " 'choices': [{'index': 0,\n",
       "   'message': {'role': 'assistant',\n",
       "    'content': '私の最愛の漢字は「豊」です。これは豊かさや多量を表します。豊かな生活を送りたいと思います。読み方は「とよ」です。意味は「多」や「富」を表します。これは幸せで満たされた生活を象徴しています。これからの年間を豊かにするために、この漢字を心に刻みたいと思います。 \\n\\n(Translation: My favorite Kanji is \"豊\". It means abundance or richness. I want to live a rich life. It is read as \"toyo\". It represents \\'much\\' or \\'wealth\\'. This Kanji symbolizes a life filled with happiness and fulfillment. I want to inscribe this Kanji in my heart for the upcoming year to enrich it.) \\n\\nNote: The sentence already includes the Kanji, Hiragana, and Katakana as requested. No additional Katakana is needed since all other components are already in Hiragana or Kanji. If you require pronunciation in Katakana, it is \"トヨ\". However, the most effective use here is sticking to the provided Japanese text, which includes the Kanji, Hiragana, and appropriate context. The sentence structure and use of Kanji already incorporates simplicity and conciseness. The translation is provided for understanding, not to be included in the response itself. The instruction asked for the favorite Kanji to be explained in Japanese, including pronunciation and meaning, using various forms of Japanese script. This has been achieved with the provided explanation. If you need further assistance or have different requirements, feel free to ask. The explanation meets the criteria of being concise, simple, and appropriate for educational purposes, including all requested elements. The provided response is structured in a way that highlights the Kanji, its pronunciation, and meaning, as well as its cultural significance and personal value, all in line with the instruction to provide information using Japanese scripts (Kanji and Hiragana).) \\n\\n(Since there\\'s a misunderstanding of including Katakana in this context where Kanji, Hiragana are already used, and the instruction already specifies the use of Kanji, Hiragana, Katakana is not included in the response. The response is simplified, using the provided instruction as a guideline, and aligns with the original request for explanation in Japanese.) \\n\\n(As a clarification, no additional Katakana is needed or used in the provided Japanese text, which includes the Kanji, Hiragana, and explanation as required. The explanation aligns with the instruction, providing the requested information in a concise, simple manner.) \\n\\n(For further assistance, feel free to ask.) \\n\\n(As a final note, the explanation meets the guidelines by providing the Kanji, its pronunciation, and meaning in Japanese, while also adding a personal touch by explaining the significance of the Kanji for the responder. This approach adheres to the instruction and provides educational value.) \\n\\n(For a request for further assistance or a different approach, feel free to ask.) \\n\\n(To ensure clarity and adherence to the guidelines, the response includes a clarification about the absence of Katakana in the provided Japanese text and reinforces the alignment with the instruction. This approach respects the educational purpose of the original request.) \\n\\n(As a concluding note, the provided response is tailored to meet the guidelines and instruction, offering a detailed explanation of the Kanji, its pronunciation, meaning, and cultural significance while maintaining simplicity and conciseness.) \\n\\n(For any additional requests or inquiries, please let me know.) \\n\\n(As a reminder, the response has been crafted to strictly follow the instructions given, providing a detailed explanation of the Kanji \\'豊\\', its pronunciation, meaning, and personal significance, all presented in Japanese using Kanji, Hiragana, as requested. Any further information or requests can be addressed by following up.) \\n\\n(As a final step, this note serves as a summary, reaffirming that the response provided adheres to the instruction in all respects, offering a comprehensive explanation in Japanese while maintaining simplicity and clarity.) \\n\\n(For a direct follow-up or additional questions, please feel free to ask.) \\n\\n(To emphasize, the response has been meticulously crafted to comply with the guidelines, offering an in-depth explanation of the Kanji \\'豊\\', its pronunciation, meaning, and personal value in Japanese, utilizing all the requested scripts (Kanji, Hiragana). This ensures that the educational purpose of the original request is fully met.) \\n\\n(To ensure completeness, the note confirms that any further requests for information are welcomed, allowing for an ongoing dialogue or clarification on the topic.) \\n\\n(As a closing note, the response has been designed to fully address the instruction'},\n",
       "   'logprobs': None,\n",
       "   'finish_reason': 'length'}],\n",
       " 'usage': {'prompt_tokens': 52,\n",
       "  'completion_tokens': 972,\n",
       "  'total_tokens': 1024}}"
      ]
     },
     "execution_count": 7,
     "metadata": {},
     "output_type": "execute_result"
    }
   ],
   "source": [
    "#With basic prompt, no character restrictions spamps \\u0000 or \\uffff\n",
    "#Good responses with user_input = \"Tell me about your favorite Kanji, in Japanese using Kanji, Hiragana, and Katakana when appropriate\"\n",
    "#Talks in any vocab, but keeps sentences in が + です format. :D\n",
    "grammar_string = r\"\"\"\n",
    "root ::= sentence{1,2}\n",
    "allowedchars ::= [\\u4e00 - \\u9faf, \\u3000-\\u303f, \\u3040-\\u309F, \\u30a0-\\u30ff]\n",
    "word ::= (unicodechar)+\n",
    "unicodechar ::= [\\u0000-\\uffff]\n",
    "sentence ::= word particle word desu end\n",
    "particle ::= \"が\"\n",
    "desu ::= \"です\"\n",
    "end ::= \"。\"\n",
    "\"\"\"\n",
    "my_grammar = L.LlamaGrammar.from_string(grammar_string)\n",
    "\n",
    "LLM_GLOBAL_INSTANCE.create_chat_completion([\n",
    "        {\"role\": \"system\", \"content\": system_input},\n",
    "        {\"role\": \"user\", \"content\": user_input}\n",
    "    ], grammar=my_grammar)"
   ]
  },
  {
   "cell_type": "code",
   "execution_count": null,
   "metadata": {},
   "outputs": [],
   "source": []
  }
 ],
 "metadata": {
  "kernelspec": {
   "display_name": "Python 3 (ipykernel)",
   "language": "python",
   "name": "python3"
  },
  "language_info": {
   "codemirror_mode": {
    "name": "ipython",
    "version": 3
   },
   "file_extension": ".py",
   "mimetype": "text/x-python",
   "name": "python",
   "nbconvert_exporter": "python",
   "pygments_lexer": "ipython3",
   "version": "3.12.7"
  }
 },
 "nbformat": 4,
 "nbformat_minor": 2
}
