{
 "cells": [
  {
   "cell_type": "code",
   "execution_count": null,
   "metadata": {
    "vscode": {
     "languageId": "shellscript"
    }
   },
   "outputs": [],
   "source": [
    "srun -G1 --pty bash -c \"source /data/ai_club/team_3_2024-25/team3-env-finetune/bin/activate; \\\n",
    "    hostname; \\\n",
    "    jupyter notebook \\\n",
    "        --ServerApp.root_dir=$(pwd) \\\n",
    "        --ServerApp.password='' \\\n",
    "        --ServerApp.open_browser=False \\\n",
    "        --ServerApp.allow_origin='*' \\\n",
    "        --ServerApp.allow_remote_access=True \\\n",
    "        --ServerApp.port=14321 \\\n",
    "        --ServerApp.ip='*'\n",
    "\""
   ]
  },
  {
   "cell_type": "code",
   "execution_count": 1,
   "metadata": {},
   "outputs": [
    {
     "name": "stdout",
     "output_type": "stream",
     "text": [
      "env: IM_MODE=new-mask_ops2\n"
     ]
    },
    {
     "name": "stderr",
     "output_type": "stream",
     "text": [
      "2025-03-15 18:17:59.878022: I tensorflow/core/util/port.cc:153] oneDNN custom operations are on. You may see slightly different numerical results due to floating-point round-off errors from different computation orders. To turn them off, set the environment variable `TF_ENABLE_ONEDNN_OPTS=0`.\n",
      "2025-03-15 18:17:59.890732: E external/local_xla/xla/stream_executor/cuda/cuda_fft.cc:477] Unable to register cuFFT factory: Attempting to register factory for plugin cuFFT when one has already been registered\n",
      "WARNING: All log messages before absl::InitializeLog() is called are written to STDERR\n",
      "E0000 00:00:1742077079.906493 1314275 cuda_dnn.cc:8310] Unable to register cuDNN factory: Attempting to register factory for plugin cuDNN when one has already been registered\n",
      "E0000 00:00:1742077079.911299 1314275 cuda_blas.cc:1418] Unable to register cuBLAS factory: Attempting to register factory for plugin cuBLAS when one has already been registered\n",
      "2025-03-15 18:17:59.927191: I tensorflow/core/platform/cpu_feature_guard.cc:210] This TensorFlow binary is optimized to use available CPU instructions in performance-critical operations.\n",
      "To enable the following instructions: AVX2 AVX512F AVX512_VNNI FMA, in other operations, rebuild TensorFlow with the appropriate compiler flags.\n"
     ]
    }
   ],
   "source": [
    "%env IM_MODE new-mask_ops2\n",
    "\n",
    "import im_llm\n",
    "import importlib\n",
    "importlib.reload(im_llm)\n",
    "\n",
    "from matplotlib import pyplot as plt\n",
    "import json\n",
    "import numpy as np"
   ]
  },
  {
   "cell_type": "code",
   "execution_count": 2,
   "metadata": {},
   "outputs": [
    {
     "name": "stdout",
     "output_type": "stream",
     "text": [
      "Qwen2ForCausalLM(\n",
      "  (model): Qwen2Model(\n",
      "    (embed_tokens): Embedding(151936, 896)\n",
      "    (layers): ModuleList(\n",
      "      (0-23): 24 x IMDecoderLayer(\n",
      "        (original_layer): Qwen2DecoderLayer(\n",
      "          (self_attn): Qwen2Attention(\n",
      "            (q_proj): Linear(in_features=896, out_features=896, bias=True)\n",
      "            (k_proj): Linear(in_features=896, out_features=128, bias=True)\n",
      "            (v_proj): Linear(in_features=896, out_features=128, bias=True)\n",
      "            (o_proj): Linear(in_features=896, out_features=896, bias=False)\n",
      "          )\n",
      "          (mlp): Qwen2MLP(\n",
      "            (gate_proj): Linear(in_features=896, out_features=4864, bias=False)\n",
      "            (up_proj): Linear(in_features=896, out_features=4864, bias=False)\n",
      "            (down_proj): Linear(in_features=4864, out_features=896, bias=False)\n",
      "            (act_fn): SiLU()\n",
      "          )\n",
      "          (input_layernorm): Qwen2RMSNorm((896,), eps=1e-06)\n",
      "          (post_attention_layernorm): Qwen2RMSNorm((896,), eps=1e-06)\n",
      "        )\n",
      "      )\n",
      "    )\n",
      "    (norm): Qwen2RMSNorm((896,), eps=1e-06)\n",
      "    (rotary_emb): Qwen2RotaryEmbedding()\n",
      "  )\n",
      "  (lm_head): Linear(in_features=896, out_features=151936, bias=False)\n",
      ")\n"
     ]
    }
   ],
   "source": [
    "model, tokenize, tokenizer, tokof = im_llm.get_model()\n",
    "print(model)"
   ]
  },
  {
   "cell_type": "code",
   "execution_count": 232,
   "metadata": {},
   "outputs": [],
   "source": [
    "for i, s in enumerate(im_llm.IMDecoderLayer.block_strength):\n",
    "    c=3\n",
    "    s.data.fill_(c*i/(i+c))"
   ]
  },
  {
   "cell_type": "code",
   "execution_count": 10,
   "metadata": {},
   "outputs": [
    {
     "name": "stdout",
     "output_type": "stream",
     "text": [
      "tensor(10.3487, device='cuda:0', grad_fn=<SelectBackward0>)\n"
     ]
    },
    {
     "data": {
      "text/plain": [
       "\"Here's my story: I took the first\""
      ]
     },
     "execution_count": 10,
     "metadata": {},
     "output_type": "execute_result"
    }
   ],
   "source": [
    "tokens = tokenize('Here\\'s my story: I took the')\n",
    "# tokens = tokenize('I don\\'t like taking the')\n",
    "# tokens = tokenize('Eat a balanced and nutritious')\n",
    "# tokens = tokenize('Define canine. The')\n",
    "\n",
    "im_llm.IMDecoderLayer.mask = im_llm.gen_mask(tokens)\n",
    "# im_llm.IMDecoderLayer.mask[0][-1] += [tokof(' Dog'), tokof(' Ho'), tokof(' The'), tokof(' It')]\n",
    "\n",
    "# out = model.generate(\n",
    "out = model(\n",
    "    **tokens,\n",
    "    # labels=tokens['input_ids'],\n",
    "    max_new_tokens=1,\n",
    "    pad_token_id=tokenizer.eos_token_id,\n",
    "    temperature=0.001,\n",
    "    do_sample=True,\n",
    "    return_dict_in_generate=True,\n",
    "    output_hidden_states=True\n",
    ")\n",
    "\n",
    "# print(tokenizer.decode(out.sequences[0]))\n",
    "\n",
    "print(\n",
    "    out.logits[0][-1][tokof(' dog')]\n",
    ")\n",
    "\n",
    "tokenizer.decode(tokens['input_ids'][0]) +\\\n",
    "tokenizer.decode(out.logits[0][-1].argmax(dim=-1))"
   ]
  },
  {
   "cell_type": "markdown",
   "metadata": {},
   "source": [
    "### Simple english test"
   ]
  },
  {
   "cell_type": "code",
   "execution_count": 39,
   "metadata": {},
   "outputs": [],
   "source": [
    "# Example one: ALL vocab (with AND without leading space) are single tokens - trivial case\n",
    "\n",
    "vocab = [\n",
    "    'the','be','to','of','and','a','in','that','have','I','it','for','not','on','with','he','as','you','do',\n",
    "    'at','this','but','his','by','from','they','we','say','her','she','or','an','will','my','one','all','would',\n",
    "    'there','their','what','so','up','out','if','about','who','get','which','go','me','when','make','can','like',\n",
    "    'time','no','just','him','know','take','people','into','year','your','good','some','could','them','see','other',\n",
    "    'than','then','now','look','only','come','its','over','think','also','back','after','use','two','how','our','work',\n",
    "    'first','well','way','even','new','want','because','any','these','give','day','most','us',\n",
    "\n",
    "    'apple', 'car', 'phone', 'bike', 'bus', 'store', 'park', 'school'\n",
    "]\n",
    "\n",
    "vocab += [' '+v for v in vocab]\n",
    "\n",
    "vocab = [tokenizer.encode(v) for v in vocab]\n",
    "assert all(len(v) == 1 for v in vocab)\n",
    "vocab = [v[0] for v in vocab]"
   ]
  },
  {
   "cell_type": "code",
   "execution_count": 72,
   "metadata": {},
   "outputs": [],
   "source": [
    "for i, s in enumerate(im_llm.IMDecoderLayer.block_strength):\n",
    "    c = 1.5\n",
    "    s.data.fill_(c*i/(i+c))"
   ]
  },
  {
   "cell_type": "code",
   "execution_count": 91,
   "metadata": {},
   "outputs": [
    {
     "name": "stdout",
     "output_type": "stream",
     "text": [
      "Here's my story: I have a new car and I have to go to the car park"
     ]
    },
    {
     "name": "stdout",
     "output_type": "stream",
     "text": [
      " to park it and I have to go to the car park to get my car back and I have to go to the car park to get my car to the car park and so on and so on and"
     ]
    }
   ],
   "source": [
    "prompt = 'Here\\'s my story:'\n",
    "\n",
    "print(prompt, end='')\n",
    "\n",
    "for _ in range (55):\n",
    "    tokens = tokenize(prompt)\n",
    "\n",
    "    im_llm.IMDecoderLayer.mask = im_llm.gen_mask(tokens)\n",
    "    im_llm.IMDecoderLayer.mask[0][-1] += vocab + [tokof('.'), tokof(','), tokof('<|endoftext|>')]\n",
    "\n",
    "    # out = model.generate(\n",
    "    out = model(\n",
    "        **tokens,\n",
    "        # labels=tokens['input_ids'],\n",
    "        max_new_tokens=1,\n",
    "        pad_token_id=tokenizer.eos_token_id,\n",
    "        temperature=1,\n",
    "        # repetition_penalty=10,\n",
    "        # temperature=0.001,\n",
    "        do_sample=True,\n",
    "        return_dict_in_generate=True,\n",
    "        output_hidden_states=True\n",
    "    )\n",
    "\n",
    "    # print(tokenizer.decode(out.sequences[0]))\n",
    "\n",
    "    # print(\n",
    "    #     out.logits[0][-1][tokof(' dog')]\n",
    "    # )\n",
    "\n",
    "    logits = out.logits[0][-1]\n",
    "    logits[vocab] += 100\n",
    "\n",
    "    tok = tokenizer.decode(logits.argmax(dim=-1))\n",
    "\n",
    "    # tok = tokenizer.decode(out.sequences[0][-1])\n",
    "\n",
    "    prompt += tok\n",
    "\n",
    "    print(tok, end='')"
   ]
  },
  {
   "cell_type": "markdown",
   "metadata": {},
   "source": [
    "### Moderate english test\n",
    "\n",
    "Not 1-1 vocab-token mapping"
   ]
  },
  {
   "cell_type": "code",
   "execution_count": 267,
   "metadata": {},
   "outputs": [],
   "source": [
    "vocab = [\n",
    "    'the','be','to','of','and','a','in','that','have','I','it','for','not','on','with','he','as','you','do',\n",
    "    'at','this','but','his','by','from','they','we','say','her','she','or','an','will','my','one','all','would',\n",
    "    'there','their','what','so','up','out','if','about','who','get','which','go','me','when','make','can','like',\n",
    "    'time','no','just','him','know','take','people','into','year','your','good','some','could','them','see','other',\n",
    "    'than','then','now','look','only','come','its','over','think','also','back','after','use','two','how','our','work',\n",
    "    'first','well','way','even','new','want','because','any','these','give','day','most','us',\n",
    "    # *list(',.?!\":;') # IDEA: separate \"delimiters\" list including spaces\n",
    "]\n",
    "\n",
    "vocab = [tokenizer.encode(v) for v in vocab]\n",
    "\n",
    "vocab_tree = []\n",
    "\n",
    "# vocab"
   ]
  },
  {
   "cell_type": "code",
   "execution_count": 253,
   "metadata": {},
   "outputs": [],
   "source": [
    "# This would come from detokenization of current output - this could be sped up be detokenizing from end back until you have most recent word.\n",
    "\n",
    "'''\n",
    "EXPECTING these as next:\n",
    "re\n",
    "y\n",
    "ir\n",
    "m\n",
    "n\n",
    "se\n",
    "<space><start of any vocab>\n",
    "'''\n",
    "\n",
    "to_continue = 'they give us the'"
   ]
  },
  {
   "cell_type": "code",
   "execution_count": 255,
   "metadata": {},
   "outputs": [
    {
     "data": {
      "text/plain": [
       "'the'"
      ]
     },
     "execution_count": 255,
     "metadata": {},
     "output_type": "execute_result"
    }
   ],
   "source": [
    "to_continue.split()[-1]"
   ]
  },
  {
   "cell_type": "code",
   "execution_count": null,
   "metadata": {},
   "outputs": [],
   "source": [
    "tokens = tokenize('????')\n",
    "\n",
    "im_llm.IMDecoderLayer.mask = im_llm.gen_mask(tokens)\n",
    "im_llm.IMDecoderLayer.mask[0][-1] += [tokof(' Dog'), tokof(' Ho'), tokof(' The'), tokof(' It')]\n",
    "\n",
    "# out = model.generate(\n",
    "out = model(\n",
    "    **tokens,\n",
    "    # labels=tokens['input_ids'],\n",
    "    max_new_tokens=1,\n",
    "    pad_token_id=tokenizer.eos_token_id,\n",
    "    temperature=0.001,\n",
    "    do_sample=True,\n",
    "    return_dict_in_generate=True,\n",
    "    output_hidden_states=True\n",
    ")\n",
    "\n",
    "# print(tokenizer.decode(out.sequences[0]))\n",
    "\n",
    "print(\n",
    "    out.logits[0][-1][tokof(' dog')]\n",
    ")\n",
    "\n",
    "tokenizer.decode(tokens['input_ids'][0]) +\\\n",
    "tokenizer.decode(out.logits[0][-1].argmax(dim=-1))"
   ]
  },
  {
   "cell_type": "markdown",
   "metadata": {},
   "source": [
    "---"
   ]
  },
  {
   "cell_type": "code",
   "execution_count": 12,
   "metadata": {},
   "outputs": [],
   "source": [
    "v2e = model.model.embed_tokens.weight\n",
    "e2v = model.lm_head.weight.T"
   ]
  },
  {
   "cell_type": "code",
   "execution_count": 41,
   "metadata": {},
   "outputs": [
    {
     "data": {
      "image/png": "[encoded data removed]",
      "text/plain": [
       "<Figure size 640x480 with 1 Axes>"
      ]
     },
     "metadata": {},
     "output_type": "display_data"
    },
    {
     "data": {
      "text/plain": [
       "tensor([[36.7502, -1.6050,  4.1611,  ..., -2.5718, -2.5552,  6.4614],\n",
       "        [-1.6050, 30.1078, -2.9366,  ...,  2.1243,  2.2632, -4.9801],\n",
       "        [ 4.1611, -2.9366, 38.9741,  ..., -4.3922, -4.2554,  9.4764],\n",
       "        ...,\n",
       "        [-2.5718,  2.1243, -4.3922,  ..., 31.7548,  4.1047, -7.6417],\n",
       "        [-2.5552,  2.2632, -4.2554,  ...,  4.1047, 36.2600, -7.2742],\n",
       "        [ 6.4614, -4.9801,  9.4764,  ..., -7.6417, -7.2742, 32.3975]],\n",
       "       device='cuda:0')"
      ]
     },
     "execution_count": 41,
     "metadata": {},
     "output_type": "execute_result"
    }
   ],
   "source": [
    "mul = e2v@v2e\n",
    "\n",
    "plt.imshow(mul.cpu()[:50, :50]) ; plt.show()\n",
    "\n",
    "mul"
   ]
  },
  {
   "cell_type": "code",
   "execution_count": 109,
   "metadata": {},
   "outputs": [
    {
     "name": "stdout",
     "output_type": "stream",
     "text": [
      "France\t1.0\n",
      "dog\t0.2896868293438655\n",
      "hound\t0.331612582589084\n",
      "can\t0.11267439697430738\n",
      "the\t-0.0005257636852334243\n",
      "\n",
      "dog\t1.0\n",
      "hound\t0.34396531545733094\n",
      "can\t0.116936423593747\n",
      "the\t0.007971994846461739\n",
      "France\t0.15332368183807812\n"
     ]
    }
   ],
   "source": [
    "ref = None\n",
    "for other in ['France', 'dog', 'hound', 'can', 'the']:\n",
    "    emb1 = v2e[tokof('French')]\n",
    "    emb2 = v2e[tokof(other)]\n",
    "    # emb2 = e2v[:, tokof(other)]\n",
    "    \n",
    "    emb1 = emb1/emb1.norm()\n",
    "    emb2 = emb2/emb1.norm()\n",
    "    \n",
    "    sim = float(emb1.dot(emb2))\n",
    "\n",
    "    if ref == None:\n",
    "        ref = sim\n",
    "\n",
    "    sim /= ref\n",
    "    print(other, sim, sep='\\t')\n",
    "\n",
    "print()\n",
    "\n",
    "ref = None\n",
    "for other in ['dog', 'hound', 'can', 'the', 'France']:\n",
    "    emb1 = v2e[tokof('dog')]\n",
    "    emb2 = v2e[tokof(other)]\n",
    "    # emb2 = e2v[:, tokof(other)]\n",
    "    \n",
    "    emb1 = emb1/emb1.norm()\n",
    "    emb2 = emb2/emb1.norm()\n",
    "    \n",
    "    sim = float(emb1.dot(emb2))\n",
    "\n",
    "    if ref == None:\n",
    "        ref = sim\n",
    "\n",
    "    sim /= ref\n",
    "    print(other, sim, sep='\\t')"
   ]
  },
  {
   "cell_type": "code",
   "execution_count": 33,
   "metadata": {},
   "outputs": [
    {
     "data": {
      "image/png": "[encoded data removed]",
      "text/plain": [
       "<Figure size 640x480 with 1 Axes>"
      ]
     },
     "metadata": {},
     "output_type": "display_data"
    },
    {
     "data": {
      "text/plain": [
       "array([[0.1904796 , 0.00519331, 0.0031682 , ..., 0.01291147, 0.00644688,\n",
       "        0.00712628],\n",
       "       [0.00519331, 0.17308916, 0.00648572, ..., 0.0424947 , 0.00492179,\n",
       "        0.0065205 ],\n",
       "       [0.0031682 , 0.00648572, 0.23517272, ..., 0.04301716, 0.0305109 ,\n",
       "        0.02016101],\n",
       "       ...,\n",
       "       [0.01291147, 0.0424947 , 0.04301716, ..., 0.29725724, 0.02624369,\n",
       "        0.01719019],\n",
       "       [0.00644688, 0.00492179, 0.0305109 , ..., 0.02624369, 0.16938277,\n",
       "        0.00846689],\n",
       "       [0.00712628, 0.0065205 , 0.02016101, ..., 0.01719019, 0.00846689,\n",
       "        0.1640104 ]], dtype=float32)"
      ]
     },
     "execution_count": 33,
     "metadata": {},
     "output_type": "execute_result"
    }
   ],
   "source": [
    "center = 18457\n",
    "lo, hi = center-20, center+20\n",
    "\n",
    "mul2 = np.array([\n",
    "    [\n",
    "        v2e[i].dot(e2v[:,j]).cpu()\n",
    "        for i in range(lo, hi)\n",
    "    ]\n",
    "    for j in range(lo, hi)\n",
    "])\n",
    "\n",
    "plt.imshow(mul2) ; plt.show()\n",
    "\n",
    "mul2"
   ]
  }
 ],
 "metadata": {
  "kernelspec": {
   "display_name": "Python 3 (ipykernel)",
   "language": "python",
   "name": "python3"
  },
  "language_info": {
   "codemirror_mode": {
    "name": "ipython",
    "version": 3
   },
   "file_extension": ".py",
   "mimetype": "text/x-python",
   "name": "python",
   "nbconvert_exporter": "python",
   "pygments_lexer": "ipython3",
   "version": "3.12.7"
  }
 },
 "nbformat": 4,
 "nbformat_minor": 2
}
