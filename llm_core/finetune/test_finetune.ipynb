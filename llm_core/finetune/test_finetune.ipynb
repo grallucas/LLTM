{
 "cells": [
  {
   "cell_type": "code",
   "execution_count": null,
   "metadata": {
    "vscode": {
     "languageId": "shellscript"
    }
   },
   "outputs": [],
   "source": [
    "# TODO\n",
    "- HOW IS LLAMA.CPP GRAMMAR IMPLEMENTED? - LOOKED INTO\n",
    "  - it seems it zeros tokens in logit space\n",
    "  - search `-INFINITY` on this file https://github.com/ggml-org/llama.cpp/blob/master/src/llama-sampling.cpp\n",
    "- norm between FF and IM - DONE!\n",
    "- negative mask\n",
    "- fix oom\n",
    "- mask per token - not collective mask for whole output - or alternatively, maybe the \"more general\" mask could work\n",
    "  - mask per token - make mask a matrix, and forward pass applies it to all positions\n",
    "\n",
    "Next week\n",
    "Randomize block strengths\n",
    "Just demote token information for those not in the mask\n",
    "Just promote toks in mask\n",
    "rerun prev experiment with new mask - layer ops only\n",
    "and prev experiment with new layer ops - shared mask only\n",
    "\n",
    "# - Turn off norm\n",
    "# - debug new mask\n",
    "# - learn params for \"how much\" to add IM into each block - init weights to 1 - no bias\n",
    "\n",
    "- train w/ >1 token per position.\n",
    "\n",
    "- zero logits of char-by-char LLM - could try eventually?\n",
    "- Was llama.cpp grammar in logit space? - yes\n",
    "- Evaluate this against zeroing IN LOGIT SPACE! - no need, llama.cpp was in logit space\n",
    "\n",
    "updates:\n",
    "llama.cpp is using logits - i dont need to test them manually, and logits alone aren't enough for quality output\n",
    "normalizing layer added\n",
    "mask per token in training\n",
    "updated mask application - now in exp(logits - max) space, negative values for disallowed tokens, positive 1/N values for allowed tokens.\n",
    "updated mask fmt to matrix and then to sparse via python lists\n",
    "memory problem - kind of fixed by running on h100 (dgxes were taken up)"
   ]
  },
  {
   "cell_type": "code",
   "execution_count": null,
   "metadata": {
    "vscode": {
     "languageId": "shellscript"
    }
   },
   "outputs": [],
   "source": [
    "srun -G1 --pty bash -c \"source /data/ai_club/team_3_2024-25/team3-env-finetune/bin/activate; \\\n",
    "    hostname; \\\n",
    "    jupyter notebook \\\n",
    "        --ServerApp.root_dir=$(pwd) \\\n",
    "        --ServerApp.password='' \\\n",
    "        --ServerApp.open_browser=False \\\n",
    "        --ServerApp.allow_origin='*' \\\n",
    "        --ServerApp.allow_remote_access=True \\\n",
    "        --ServerApp.port=14321 \\\n",
    "        --ServerApp.ip='*'\n",
    "\""
   ]
  },
  {
   "cell_type": "code",
   "execution_count": 5,
   "metadata": {},
   "outputs": [],
   "source": [
    "import torch\n",
    "import torch.nn as nn\n",
    "from transformers.models.qwen2.modeling_qwen2 import Qwen2DecoderLayer\n",
    "from transformers import Qwen2ForCausalLM, Qwen2Config\n",
    "import transformers\n",
    "from matplotlib import pyplot as plt\n",
    "import json"
   ]
  },
  {
   "cell_type": "code",
   "execution_count": 2,
   "metadata": {},
   "outputs": [
    {
     "name": "stdout",
     "output_type": "stream",
     "text": [
      "True\n",
      "tensor([1., 2., 3.], grad_fn=<ViewBackward0>)\n"
     ]
    },
    {
     "data": {
      "text/plain": [
       "tensor([0., 0.])"
      ]
     },
     "execution_count": 2,
     "metadata": {},
     "output_type": "execute_result"
    }
   ],
   "source": [
    "w = nn.Linear(3,3)\n",
    "with torch.no_grad():\n",
    "    w.bias.zero_()\n",
    "    w.weight.copy_(torch.eye(3))\n",
    "\n",
    "print(all(w.bias == torch.tensor([0., 0, 0])))\n",
    "\n",
    "print(w(torch.tensor([\n",
    "    1., 2, 3\n",
    "])))\n",
    "\n",
    "torch.zeros(2)"
   ]
  },
  {
   "cell_type": "code",
   "execution_count": 2,
   "metadata": {},
   "outputs": [
    {
     "name": "stdout",
     "output_type": "stream",
     "text": [
      "26.137853952\n",
      "1.72032\n",
      "0.544538624\n"
     ]
    }
   ],
   "source": [
    "print(24*896*151936 * 2 * 4 / 1_000_000_000)\n",
    "print(24*896*10_000 * 2 * 4 / 1_000_000_000)\n",
    "# ^ 10k vocab is much better.\n",
    "\n",
    "# solution?:\n",
    "# use subset of vocab as determined by what's in training data. \n",
    "# mask can also have a \"passthru\" idx so remaining tokens are unaffected?\n",
    "\n",
    "#solution2:\n",
    "# use existing emb->vspace that comes with model. Share one vspace->emb across all layers\n",
    "print(896*151_936 * 4 / 1_000_000_000) # size of one shared vspace->emb"
   ]
  },
  {
   "cell_type": "code",
   "execution_count": 2,
   "metadata": {},
   "outputs": [],
   "source": [
    "class IMDecoderLayer(nn.Module):\n",
    "    mask = None\n",
    "    vspace_to_emb = None\n",
    "    emb_to_vspace = None\n",
    "    post_ff_norm = None\n",
    "    block_strength = []\n",
    "\n",
    "    def __init__(self, original_layer, emb_to_vspace, config, block_idx):\n",
    "        super().__init__()\n",
    "        self.original_layer = original_layer\n",
    "\n",
    "        # if IMDecoderLayer.mask == None:\n",
    "        #     IMDecoderLayer.mask = torch.zeros(config.vocab_size).to('cuda')\n",
    "\n",
    "        if IMDecoderLayer.vspace_to_emb == None:\n",
    "            IMDecoderLayer.vspace_to_emb =  nn.Linear(config.vocab_size, config.hidden_size).to('cuda')\n",
    "        \n",
    "        if IMDecoderLayer.emb_to_vspace == None:\n",
    "            IMDecoderLayer.emb_to_vspace =  emb_to_vspace\n",
    "\n",
    "        if IMDecoderLayer.post_ff_norm == None:\n",
    "            IMDecoderLayer.post_ff_norm = nn.RMSNorm(config.hidden_size).to('cuda')\n",
    "\n",
    "        self.block_idx = len(IMDecoderLayer.block_strength)\n",
    "        IMDecoderLayer.block_strength.append(\n",
    "            nn.Parameter(torch.tensor(1.0, dtype=torch.float32).to('cuda'))\n",
    "        )\n",
    "\n",
    "    def forward(self, hidden_states, *args, **kwargs):\n",
    "        hidden_states = self.original_layer(hidden_states, *args, **kwargs)\n",
    "        hidden_states = hidden_states[0]\n",
    "\n",
    "        # TODO: for inference, bypass this process on all tokens but the current one? Possible problem: maybe it will learn to rely on past tokens being allowed ones later in residual.\n",
    "        # ^ maybe this process should only be done on last token if later note is a problem. If it isnt a problem, then it's preferable to do this b/c the layer will train faster.\n",
    "\n",
    "        # hidden_states = IMDecoderLayer.post_ff_norm(hidden_states)\n",
    "        residual = hidden_states\n",
    "        hidden_states = IMDecoderLayer.emb_to_vspace(residual)\n",
    "\n",
    "        assert IMDecoderLayer.mask\n",
    "        max_vals, _ = hidden_states.max(axis=-1, keepdims=True)\n",
    "        hidden_states -= max_vals\n",
    "        hidden_states = -1*hidden_states.exp()\n",
    "        \n",
    "        # print('==')\n",
    "        for i, positions in enumerate(IMDecoderLayer.mask):\n",
    "            # print('--')\n",
    "            for j, toks in enumerate(positions):\n",
    "                # print(i,j,toks)\n",
    "                if not len(toks):\n",
    "                    hidden_states[i][j] *= 0\n",
    "                    continue\n",
    "                N = 1/len(toks)\n",
    "                hidden_states[i][j][toks] = N\n",
    "\n",
    "        hidden_states = IMDecoderLayer.vspace_to_emb(hidden_states)\n",
    "        hidden_states = hidden_states * IMDecoderLayer.block_strength[self.block_idx]\n",
    "        hidden_states = hidden_states + residual\n",
    "\n",
    "        return (hidden_states,)\n"
   ]
  },
  {
   "cell_type": "code",
   "execution_count": 3,
   "metadata": {},
   "outputs": [
    {
     "name": "stdout",
     "output_type": "stream",
     "text": [
      "Qwen2ForCausalLM(\n",
      "  (model): Qwen2Model(\n",
      "    (embed_tokens): Embedding(151936, 896)\n",
      "    (layers): ModuleList(\n",
      "      (0-23): 24 x IMDecoderLayer(\n",
      "        (original_layer): Qwen2DecoderLayer(\n",
      "          (self_attn): Qwen2Attention(\n",
      "            (q_proj): Linear(in_features=896, out_features=896, bias=True)\n",
      "            (k_proj): Linear(in_features=896, out_features=128, bias=True)\n",
      "            (v_proj): Linear(in_features=896, out_features=128, bias=True)\n",
      "            (o_proj): Linear(in_features=896, out_features=896, bias=False)\n",
      "          )\n",
      "          (mlp): Qwen2MLP(\n",
      "            (gate_proj): Linear(in_features=896, out_features=4864, bias=False)\n",
      "            (up_proj): Linear(in_features=896, out_features=4864, bias=False)\n",
      "            (down_proj): Linear(in_features=4864, out_features=896, bias=False)\n",
      "            (act_fn): SiLU()\n",
      "          )\n",
      "          (input_layernorm): Qwen2RMSNorm((896,), eps=1e-06)\n",
      "          (post_attention_layernorm): Qwen2RMSNorm((896,), eps=1e-06)\n",
      "        )\n",
      "      )\n",
      "    )\n",
      "    (norm): Qwen2RMSNorm((896,), eps=1e-06)\n",
      "    (rotary_emb): Qwen2RotaryEmbedding()\n",
      "  )\n",
      "  (lm_head): Linear(in_features=896, out_features=151936, bias=False)\n",
      ")\n"
     ]
    }
   ],
   "source": [
    "MODEL_NAME = 'Qwen/Qwen2.5-0.5B-Instruct'\n",
    "\n",
    "config = Qwen2Config.from_pretrained(MODEL_NAME)\n",
    "\n",
    "model = Qwen2ForCausalLM.from_pretrained(MODEL_NAME).to('cuda')\n",
    "\n",
    "# FREEZE existing model. Only the new layer in IMDecoderLayer will be trained\n",
    "for param in model.parameters():\n",
    "    param.requires_grad = False\n",
    "\n",
    "tokenizer = transformers.AutoTokenizer.from_pretrained(MODEL_NAME)\n",
    "\n",
    "\n",
    "for i, _ in enumerate(model.model.layers):\n",
    "    model.model.layers[i] = IMDecoderLayer(model.model.layers[i], model.lm_head, config, i)\n",
    "\n",
    "print(model)"
   ]
  },
  {
   "cell_type": "code",
   "execution_count": 9,
   "metadata": {},
   "outputs": [
    {
     "name": "stderr",
     "output_type": "stream",
     "text": [
      "/tmp/ipykernel_2944210/707260919.py:1: FutureWarning: You are using `torch.load` with `weights_only=False` (the current default value), which uses the default pickle module implicitly. It is possible to construct malicious pickle data which will execute arbitrary code during unpickling (See https://github.com/pytorch/pytorch/blob/main/SECURITY.md#untrusted-models for more details). In a future release, the default value for `weights_only` will be flipped to `True`. This limits the functions that could be executed during unpickling. Arbitrary objects will no longer be allowed to be loaded via this mode unless they are explicitly allowlisted by the user via `torch.serialization.add_safe_globals`. We recommend you start setting `weights_only=True` for any use case where you don't have full control of the loaded file. Please open an issue on GitHub for any issues related to this experimental feature.\n",
      "  IMDecoderLayer.vspace_to_emb.load_state_dict(torch.load('/data/ai_club/team_3_2024-25/weights/vspace_to_emb4.pth'))\n",
      "/tmp/ipykernel_2944210/707260919.py:2: FutureWarning: You are using `torch.load` with `weights_only=False` (the current default value), which uses the default pickle module implicitly. It is possible to construct malicious pickle data which will execute arbitrary code during unpickling (See https://github.com/pytorch/pytorch/blob/main/SECURITY.md#untrusted-models for more details). In a future release, the default value for `weights_only` will be flipped to `True`. This limits the functions that could be executed during unpickling. Arbitrary objects will no longer be allowed to be loaded via this mode unless they are explicitly allowlisted by the user via `torch.serialization.add_safe_globals`. We recommend you start setting `weights_only=True` for any use case where you don't have full control of the loaded file. Please open an issue on GitHub for any issues related to this experimental feature.\n",
      "  IMDecoderLayer.post_ff_norm.load_state_dict(torch.load('/data/ai_club/team_3_2024-25/weights/post_ff_norm4.pth'))\n"
     ]
    }
   ],
   "source": [
    "IMDecoderLayer.vspace_to_emb.load_state_dict(torch.load('/data/ai_club/team_3_2024-25/weights/vspace_to_emb4.pth'))\n",
    "IMDecoderLayer.post_ff_norm.load_state_dict(torch.load('/data/ai_club/team_3_2024-25/weights/post_ff_norm4.pth'))\n",
    "\n",
    "with open('/data/ai_club/team_3_2024-25/weights/block_strength4.json', 'r') as f:\n",
    "    block_strength_weights = json.load(f)\n",
    "for i, _ in enumerate(IMDecoderLayer.block_strength):\n",
    "    IMDecoderLayer.block_strength[i] = nn.Parameter(torch.tensor(block_strength_weights[i], dtype=torch.float32).to('cuda'))"
   ]
  },
  {
   "cell_type": "code",
   "execution_count": 12,
   "metadata": {},
   "outputs": [
    {
     "data": {
      "text/plain": [
       "[[[], [], [], [], [], [], [], [93842]],\n",
       " [[], [], [], [], [], []],\n",
       " [[], [], [], [], []]]"
      ]
     },
     "execution_count": 12,
     "metadata": {},
     "output_type": "execute_result"
    }
   ],
   "source": [
    "mask # mask[batch, position, allowed_tok]"
   ]
  },
  {
   "cell_type": "code",
   "execution_count": 39,
   "metadata": {},
   "outputs": [
    {
     "data": {
      "text/plain": [
       "{'input_ids': [8420, 594, 847, 3364, 25, 358, 3867, 279], 'attention_mask': [1, 1, 1, 1, 1, 1, 1, 1]}"
      ]
     },
     "execution_count": 39,
     "metadata": {},
     "output_type": "execute_result"
    }
   ],
   "source": [
    "tokenizer('Here\\'s my story: I took the')"
   ]
  },
  {
   "cell_type": "code",
   "execution_count": 42,
   "metadata": {},
   "outputs": [
    {
     "name": "stdout",
     "output_type": "stream",
     "text": [
      "Here's my story: I took the the\n"
     ]
    }
   ],
   "source": [
    "# IMDecoderLayer.mask = torch.ones(tokens['input_ids'].shape) * -1\n",
    "# IMDecoderLayer.mask[list(set(tokenizer('bus')['input_ids']))] += 1\n",
    "# IMDecoderLayer.mask[list(set(tokenizer('bus school snow')['input_ids']))] += 1\n",
    "\n",
    "def tokof(s):\n",
    "    toks = tokenizer(s)['input_ids']\n",
    "    assert len(toks) == 1 # TOK OF only for single tok strs\n",
    "    return toks[0]\n",
    "\n",
    "tokens = tokenizer(['Here\\'s my story: I took the', 'I don\\'t like taking the', 'Eat a balanced and nutritious'], return_tensors='pt', padding=True)\n",
    "tokens = {k:v.to('cuda') for k,v in tokens.items()}\n",
    "\n",
    "MAX_NEW_TOKENS = 1\n",
    "\n",
    "mask = [] # mask[batch, position, allowed_tok]\n",
    "for batch_size in tokens['attention_mask'].argmin(axis=1):\n",
    "    if batch_size == 0:\n",
    "        batch_size = tokens['attention_mask'].shape[1]\n",
    "    mask.append([[] for i in range(batch_size+MAX_NEW_TOKENS-1)])\n",
    "\n",
    "# mask[2][-1] += [tokof('diet')]\n",
    "for i, t in zip(\n",
    "    range(7),\n",
    "    [594, 847, 3364, 25, 358, 3867, 279]\n",
    "):\n",
    "    mask[0][i] += [t]\n",
    "mask[0][-1] += [tokof(' time')]\n",
    "IMDecoderLayer.mask = mask\n",
    "\n",
    "out = model.generate(\n",
    "# out = model(\n",
    "    **tokens,\n",
    "    # labels=tokens['input_ids'],\n",
    "    max_new_tokens=MAX_NEW_TOKENS,\n",
    "    pad_token_id=tokenizer.eos_token_id,\n",
    "    temperature=0.001,\n",
    "    do_sample=True,\n",
    "    return_dict_in_generate=True,\n",
    "    output_hidden_states=True\n",
    ")\n",
    "\n",
    "# out\n",
    "\n",
    "out_ids = out['sequences']\n",
    "print(tokenizer.decode(out_ids[0]))"
   ]
  },
  {
   "cell_type": "code",
   "execution_count": 103,
   "metadata": {},
   "outputs": [
    {
     "name": "stdout",
     "output_type": "stream",
     "text": [
      "Here's my story: I took the bus to work. The bus was crowded and it\n",
      "Here's my story: I took the bus to school. It was raining, so I\n",
      "Here's my story: I took the bus to school. It was a busy school day\n",
      "Here's my story: I took the bus to work. It was a long journey,\n",
      "Here's my story: I took the school bus to school. School school school school school\n",
      "Here's my story: I took the bus to work and then walked home. It was\n",
      "Here's my story: I took the longest (最长deceased) longest. longest de\n"
     ]
    }
   ],
   "source": [
    "def output_w_mask(prompt, mask_toks, amt):\n",
    "    IMDecoderLayer.mask *= 0\n",
    "    IMDecoderLayer.mask[list(set(tokenizer(mask_toks)['input_ids']))] += amt\n",
    "\n",
    "    out = model.generate(\n",
    "        **tokens,\n",
    "        max_new_tokens=10,\n",
    "        pad_token_id=tokenizer.eos_token_id,\n",
    "        temperature=0.001,\n",
    "        do_sample=True,\n",
    "        return_dict_in_generate=True,\n",
    "        output_hidden_states=True\n",
    "    )\n",
    "\n",
    "    out_ids = out['sequences']\n",
    "    print(tokenizer.decode(out_ids[0]))\n",
    "\n",
    "output_w_mask('Here\\'s my story: I took the', '', 0)\n",
    "output_w_mask('Here\\'s my story: I took the', 'bus school', 1) # school instead of work?\n",
    "output_w_mask('Here\\'s my story: I took the', 'bus school', 5) # More school?\n",
    "output_w_mask('Here\\'s my story: I took the', 'bus school snow', 1) # snow instead of rain?\n",
    "output_w_mask('Here\\'s my story: I took the', 'bus school snow', 10) # more\n",
    "output_w_mask('Here\\'s my story: I took the', 'car', 10) # car instead of bus\n",
    "output_w_mask('Here\\'s my story: I took the', 'car', 100) # more\n",
    "\n",
    "# NOTE: instead of training on all tokens allowed form batch, somehow change mask per-token?. It could be the correct next token along with few other random and/or related ones."
   ]
  },
  {
   "cell_type": "markdown",
   "metadata": {},
   "source": [
    "## train"
   ]
  },
  {
   "cell_type": "code",
   "execution_count": 13,
   "metadata": {},
   "outputs": [],
   "source": [
    "import json\n",
    "from tqdm.notebook import tqdm\n",
    "import gc"
   ]
  },
  {
   "cell_type": "code",
   "execution_count": 14,
   "metadata": {},
   "outputs": [],
   "source": [
    "EPOCHS = 1\n",
    "BATCH_SIZE = 1"
   ]
  },
  {
   "cell_type": "code",
   "execution_count": 60,
   "metadata": {},
   "outputs": [
    {
     "data": {
      "text/plain": [
       "tensor(1., device='cuda:0', grad_fn=<ToCopyBackward0>)"
      ]
     },
     "execution_count": 60,
     "metadata": {},
     "output_type": "execute_result"
    }
   ],
   "source": [
    "IMDecoderLayer.block_strength[0]"
   ]
  },
  {
   "cell_type": "code",
   "execution_count": 57,
   "metadata": {},
   "outputs": [
    {
     "data": {
      "text/plain": [
       "torch.nn.parameter.Parameter"
      ]
     },
     "execution_count": 57,
     "metadata": {},
     "output_type": "execute_result"
    }
   ],
   "source": [
    "type(IMDecoderLayer.vspace_to_emb.parameters().__next__())"
   ]
  },
  {
   "cell_type": "code",
   "execution_count": 63,
   "metadata": {},
   "outputs": [
    {
     "data": {
      "text/plain": [
       "Parameter containing:\n",
       "tensor(1., device='cuda:0', requires_grad=True)"
      ]
     },
     "execution_count": 63,
     "metadata": {},
     "output_type": "execute_result"
    }
   ],
   "source": [
    "nn.Parameter(torch.tensor(1.0, dtype=torch.float32).to('cuda'))"
   ]
  },
  {
   "cell_type": "code",
   "execution_count": 66,
   "metadata": {},
   "outputs": [],
   "source": [
    "optimizer = torch.optim.AdamW(\n",
    "    [p for p in IMDecoderLayer.vspace_to_emb.parameters() if p.requires_grad]+\n",
    "    [p for p in IMDecoderLayer.post_ff_norm.parameters() if p.requires_grad]+\n",
    "    IMDecoderLayer.block_strength,\n",
    "    lr=5e-5\n",
    ")"
   ]
  },
  {
   "cell_type": "code",
   "execution_count": 30,
   "metadata": {},
   "outputs": [
    {
     "ename": "NameError",
     "evalue": "name 'BATCH_SIZE' is not defined",
     "output_type": "error",
     "traceback": [
      "\u001b[0;31m---------------------------------------------------------------------------\u001b[0m",
      "\u001b[0;31mNameError\u001b[0m                                 Traceback (most recent call last)",
      "\u001b[1;32m/home/grall/Documents/aiClub/lltm/LLTM/llm_core/test_finetune.ipynb Cell 16\u001b[0m line \u001b[0;36m4\n\u001b[1;32m      <a href='vscode-notebook-cell://ssh-remote%2Bgrall@dh-mgmt2.hpc.msoe.edu/home/grall/Documents/aiClub/lltm/LLTM/llm_core/test_finetune.ipynb#X16sdnNjb2RlLXJlbW90ZQ%3D%3D?line=0'>1</a>\u001b[0m \u001b[39mwith\u001b[39;00m \u001b[39mopen\u001b[39m(\u001b[39m'\u001b[39m\u001b[39m/data/ai_club/team_3_2024-25/datasets/alpaca_data_cleaned.json\u001b[39m\u001b[39m'\u001b[39m, \u001b[39m'\u001b[39m\u001b[39mr\u001b[39m\u001b[39m'\u001b[39m) \u001b[39mas\u001b[39;00m f:\n\u001b[1;32m      <a href='vscode-notebook-cell://ssh-remote%2Bgrall@dh-mgmt2.hpc.msoe.edu/home/grall/Documents/aiClub/lltm/LLTM/llm_core/test_finetune.ipynb#X16sdnNjb2RlLXJlbW90ZQ%3D%3D?line=1'>2</a>\u001b[0m     data \u001b[39m=\u001b[39m [x[\u001b[39m'\u001b[39m\u001b[39moutput\u001b[39m\u001b[39m'\u001b[39m] \u001b[39mfor\u001b[39;00m x \u001b[39min\u001b[39;00m json\u001b[39m.\u001b[39mload(f)]\n\u001b[0;32m----> <a href='vscode-notebook-cell://ssh-remote%2Bgrall@dh-mgmt2.hpc.msoe.edu/home/grall/Documents/aiClub/lltm/LLTM/llm_core/test_finetune.ipynb#X16sdnNjb2RlLXJlbW90ZQ%3D%3D?line=3'>4</a>\u001b[0m dataloader \u001b[39m=\u001b[39m torch\u001b[39m.\u001b[39mutils\u001b[39m.\u001b[39mdata\u001b[39m.\u001b[39mDataLoader(data, batch_size\u001b[39m=\u001b[39mBATCH_SIZE, shuffle\u001b[39m=\u001b[39m\u001b[39mTrue\u001b[39;00m)\n",
      "\u001b[0;31mNameError\u001b[0m: name 'BATCH_SIZE' is not defined"
     ]
    }
   ],
   "source": [
    "with open('/data/ai_club/team_3_2024-25/datasets/alpaca_data_cleaned.json', 'r') as f:\n",
    "    data = [x['output'] for x in json.load(f)]\n",
    "\n",
    "dataloader = torch.utils.data.DataLoader(data, batch_size=BATCH_SIZE, shuffle=True)"
   ]
  },
  {
   "cell_type": "code",
   "execution_count": 33,
   "metadata": {},
   "outputs": [
    {
     "data": {
      "text/plain": [
       "'1. Eat a balanced and nutritious diet: Make sure your meals are inclusive of a variety of fruits and vegetables, lean protein, whole grains, and healthy fats. This helps to provide your body with the essential nutrients to function at its best and can help prevent chronic diseases.\\n\\n2. Engage in regular physical activity: Exercise is crucial for maintaining strong bones, muscles, and cardiovascular health. Aim for at least 150 minutes of moderate aerobic exercise or 75 minutes of vigorous exercise each week.\\n\\n3. Get enough sleep: Getting enough quality sleep is crucial for physical and mental well-being. It helps to regulate mood, improve cognitive function, and supports healthy growth and immune function. Aim for 7-9 hours of sleep each night.'"
      ]
     },
     "execution_count": 33,
     "metadata": {},
     "output_type": "execute_result"
    }
   ],
   "source": [
    "data[0]"
   ]
  },
  {
   "cell_type": "code",
   "execution_count": 21,
   "metadata": {},
   "outputs": [
    {
     "data": {
      "text/plain": [
       "tensor([[  8420,    594,    847,   3364,     25,    358,   3867,    279],\n",
       "        [    40,   1513,    944,   1075,   4633,    279, 151643, 151643]],\n",
       "       device='cuda:0')"
      ]
     },
     "execution_count": 21,
     "metadata": {},
     "output_type": "execute_result"
    }
   ],
   "source": [
    "tokens['input_ids']"
   ]
  },
  {
   "cell_type": "code",
   "execution_count": 74,
   "metadata": {},
   "outputs": [],
   "source": [
    "with open('/data/ai_club/team_3_2024-25/weights/block_strength4.json', 'w') as f:\n",
    "    json.dump([float(x) for x in IMDecoderLayer.block_strength], f)"
   ]
  },
  {
   "cell_type": "code",
   "execution_count": null,
   "metadata": {},
   "outputs": [],
   "source": [
    "I took the\n",
    "I took the\n",
    "took the "
   ]
  },
  {
   "cell_type": "code",
   "execution_count": 64,
   "metadata": {},
   "outputs": [
    {
     "data": {
      "text/plain": [
       "{'input_ids': [40, 3867, 279, 5828], 'attention_mask': [1, 1, 1, 1]}"
      ]
     },
     "execution_count": 64,
     "metadata": {},
     "output_type": "execute_result"
    }
   ],
   "source": [
    "tokenizer('I took the bus')"
   ]
  },
  {
   "cell_type": "code",
   "execution_count": 61,
   "metadata": {},
   "outputs": [],
   "source": [
    "tokens = tokenizer(['I took the'], return_tensors='pt', padding=True)\n",
    "tokens = {k:v.to('cuda') for k,v in tokens.items()}\n",
    "\n",
    "mask = [] # mask[batch, position, allowed_tok]\n",
    "for batch_size in tokens['attention_mask'].argmin(axis=1):\n",
    "    if batch_size == 0:\n",
    "        batch_size = tokens['attention_mask'].shape[1]\n",
    "    mask.append([[] for i in range(batch_size)])\n",
    "for batch_id, batch_tokens in enumerate(tokens['input_ids']):\n",
    "    for pos_id, tok in enumerate(batch_tokens):\n",
    "        if tok == 151643:\n",
    "            continue\n",
    "        mask[batch_id][pos_id].append(tok)\n",
    "IMDecoderLayer.mask = mask"
   ]
  },
  {
   "cell_type": "code",
   "execution_count": null,
   "metadata": {},
   "outputs": [],
   "source": [
    "<s> I  took the\n",
    "|   |  |\n",
    "I took the\n",
    "\n",
    "I  took the\n",
    "|   |   |\n",
    "I took the"
   ]
  },
  {
   "cell_type": "code",
   "execution_count": 72,
   "metadata": {},
   "outputs": [
    {
     "data": {
      "text/plain": [
       "CausalLMOutputWithPast(loss=tensor(5.5279, device='cuda:0', grad_fn=<NllLossBackward0>), logits=tensor([[[ 7.5419,  7.2310,  4.5770,  ..., -0.0952, -0.0948, -0.0951],\n",
       "         [ 7.8296,  7.5230,  4.6750,  ..., -0.5973, -0.5969, -0.5973],\n",
       "         [ 6.6987,  6.2257,  4.0256,  ...,  0.6643,  0.6647,  0.6644]]],\n",
       "       device='cuda:0', grad_fn=<UnsafeViewBackward0>), past_key_values=DynamicCache(), hidden_states=None, attentions=None)"
      ]
     },
     "execution_count": 72,
     "metadata": {},
     "output_type": "execute_result"
    }
   ],
   "source": [
    "# out = model(**tokens, labels=tokens['input_ids'])\n",
    "out = model(**tokens, labels=torch.tensor([40, 3867, 279]))\n",
    "out"
   ]
  },
  {
   "cell_type": "code",
   "execution_count": 56,
   "metadata": {},
   "outputs": [
    {
     "data": {
      "text/plain": [
       "torch.Size([2, 3, 151936])"
      ]
     },
     "execution_count": 56,
     "metadata": {},
     "output_type": "execute_result"
    }
   ],
   "source": [
    "out.logits.shape"
   ]
  },
  {
   "cell_type": "code",
   "execution_count": 52,
   "metadata": {},
   "outputs": [
    {
     "ename": "NameError",
     "evalue": "name 'EPOCHS' is not defined",
     "output_type": "error",
     "traceback": [
      "\u001b[0;31m---------------------------------------------------------------------------\u001b[0m",
      "\u001b[0;31mNameError\u001b[0m                                 Traceback (most recent call last)",
      "\u001b[1;32m/home/grall/Documents/aiClub/lltm/LLTM/llm_core/test_finetune.ipynb Cell 19\u001b[0m line \u001b[0;36m3\n\u001b[1;32m      <a href='vscode-notebook-cell://ssh-remote%2Bgrall@dh-mgmt2.hpc.msoe.edu/home/grall/Documents/aiClub/lltm/LLTM/llm_core/test_finetune.ipynb#X24sdnNjb2RlLXJlbW90ZQ%3D%3D?line=0'>1</a>\u001b[0m losses \u001b[39m=\u001b[39m []\n\u001b[0;32m----> <a href='vscode-notebook-cell://ssh-remote%2Bgrall@dh-mgmt2.hpc.msoe.edu/home/grall/Documents/aiClub/lltm/LLTM/llm_core/test_finetune.ipynb#X24sdnNjb2RlLXJlbW90ZQ%3D%3D?line=2'>3</a>\u001b[0m \u001b[39mfor\u001b[39;00m epoch \u001b[39min\u001b[39;00m \u001b[39mrange\u001b[39m(EPOCHS):\n\u001b[1;32m      <a href='vscode-notebook-cell://ssh-remote%2Bgrall@dh-mgmt2.hpc.msoe.edu/home/grall/Documents/aiClub/lltm/LLTM/llm_core/test_finetune.ipynb#X24sdnNjb2RlLXJlbW90ZQ%3D%3D?line=3'>4</a>\u001b[0m     i \u001b[39m=\u001b[39m \u001b[39m0\u001b[39m\n\u001b[1;32m      <a href='vscode-notebook-cell://ssh-remote%2Bgrall@dh-mgmt2.hpc.msoe.edu/home/grall/Documents/aiClub/lltm/LLTM/llm_core/test_finetune.ipynb#X24sdnNjb2RlLXJlbW90ZQ%3D%3D?line=4'>5</a>\u001b[0m     \u001b[39mfor\u001b[39;00m batch \u001b[39min\u001b[39;00m (pbar \u001b[39m:=\u001b[39m tqdm(dataloader)):\n",
      "\u001b[0;31mNameError\u001b[0m: name 'EPOCHS' is not defined"
     ]
    }
   ],
   "source": [
    "losses = []\n",
    "\n",
    "for epoch in range(EPOCHS):\n",
    "    i = 0\n",
    "    for batch in (pbar := tqdm(dataloader)):\n",
    "        try:\n",
    "            optimizer.zero_grad()\n",
    "\n",
    "            tokens = tokenizer(batch, return_tensors='pt', padding=True)\n",
    "            tokens = {k:v.to('cuda') for k,v in tokens.items()}\n",
    "\n",
    "            # set mask from batch\n",
    "            mask = [] # mask[batch, position, allowed_tok]\n",
    "            for batch_size in tokens['attention_mask'].argmin(axis=1):\n",
    "                if batch_size == 0:\n",
    "                    batch_size = tokens['attention_mask'].shape[1]\n",
    "                mask.append([[] for i in range(batch_size+MAX_NEW_TOKENS-1)])\n",
    "            for batch_id, batch_tokens in enumerate(tokens['input_ids']):\n",
    "                for pos_id, tok in enumerate(batch_tokens):\n",
    "                    if tok == 151643:\n",
    "                        continue\n",
    "                    mask[batch_id][pos_id].append(tok)\n",
    "            IMDecoderLayer.mask = mask\n",
    "            \n",
    "            outputs = model(**tokens, labels=tokens['input_ids'])\n",
    "            loss = outputs.loss\n",
    "\n",
    "            loss.backward()\n",
    "            optimizer.step()\n",
    "\n",
    "            loss_avg = float(loss)/BATCH_SIZE\n",
    "            losses.append(loss_avg)\n",
    "            pbar.set_postfix(loss=loss_avg)\n",
    "\n",
    "            if i%10 == 0:\n",
    "                torch.save(IMDecoderLayer.vspace_to_emb.state_dict(), '/data/ai_club/team_3_2024-25/weights/vspace_to_emb3.pth')\n",
    "                torch.save(IMDecoderLayer.post_ff_norm.state_dict(), '/data/ai_club/team_3_2024-25/weights/post_ff_norm3.pth')\n",
    "                with open('/data/ai_club/team_3_2024-25/weights/block_strength4.json', 'w') as f:\n",
    "                    json.dump([float(x) for x in IMDecoderLayer.block_strength], f)\n",
    "        except torch.OutOfMemoryError:\n",
    "            print(f'OOM on {i}')\n",
    "            try: del tokens, outputs\n",
    "            except NameError: pass\n",
    "            gc.collect()\n",
    "        i += 1"
   ]
  },
  {
   "cell_type": "code",
   "execution_count": 44,
   "metadata": {},
   "outputs": [],
   "source": [
    "torch.save(IMDecoderLayer.vspace_to_emb.state_dict(), 'weights/vspace_to_emb2.pth')"
   ]
  },
  {
   "cell_type": "code",
   "execution_count": 20,
   "metadata": {},
   "outputs": [],
   "source": [
    "from matplotlib import pyplot as plt\n",
    "import numpy as np\n",
    "import json"
   ]
  },
  {
   "cell_type": "code",
   "execution_count": 23,
   "metadata": {},
   "outputs": [],
   "source": [
    "with open('llm_core/losses2.json', 'r') as f:\n",
    "    losses = json.load(f)"
   ]
  },
  {
   "cell_type": "code",
   "execution_count": 24,
   "metadata": {},
   "outputs": [
    {
     "data": {
      "image/png": "[encoded data removed]",
      "text/plain": [
       "<Figure size 640x480 with 1 Axes>"
      ]
     },
     "metadata": {},
     "output_type": "display_data"
    },
    {
     "data": {
      "text/plain": [
       "[<matplotlib.lines.Line2D at 0x7fb4f7ec2510>]"
      ]
     },
     "execution_count": 24,
     "metadata": {},
     "output_type": "execute_result"
    },
    {
     "data": {
      "image/png": "[encoded data removed]",
      "text/plain": [
       "<Figure size 640x480 with 1 Axes>"
      ]
     },
     "metadata": {},
     "output_type": "display_data"
    }
   ],
   "source": [
    "plt.plot(losses)\n",
    "plt.show()\n",
    "plt.plot(np.log(losses))"
   ]
  },
  {
   "cell_type": "code",
   "execution_count": 25,
   "metadata": {},
   "outputs": [
    {
     "data": {
      "text/plain": [
       "[<matplotlib.lines.Line2D at 0x7fb4f7e2f5f0>]"
      ]
     },
     "execution_count": 25,
     "metadata": {},
     "output_type": "execute_result"
    },
    {
     "data": {
      "image/png": "[encoded data removed]",
      "text/plain": [
       "<Figure size 640x480 with 1 Axes>"
      ]
     },
     "metadata": {},
     "output_type": "display_data"
    }
   ],
   "source": [
    "plt.plot(block_strength_weights)"
   ]
  },
  {
   "cell_type": "code",
   "execution_count": null,
   "metadata": {},
   "outputs": [],
   "source": []
  },
  {
   "cell_type": "markdown",
   "metadata": {},
   "source": [
    "---\n",
    "\n",
    "<div style=\"height: 700px\"></div>\n",
    "\n",
    "---\n",
    "\n",
    "old:"
   ]
  },
  {
   "cell_type": "markdown",
   "metadata": {},
   "source": [
    "Vocab restriction approaches\n",
    "- Grammar and allowed words in context. -- Will not scale to 1000s of words. -- Might work well with a better model (something to try!!!)\n",
    "- Finetune model with allowed words in context\n",
    "- Finetune model with allowed current next tokens in context (?)\n",
    "- Embedding Space Regularization -- add input of allowed next tok -- add term to loss that penalizes that token's embedding from getting to close to any non allowed\n",
    "\n",
    "- without tuning -- small vocab can use first approach, but large vocab can generate one token at a time and, if one is invalid given current word, \"undo\" it and regenerate with added prompt \"Do not use the word XYZ\"\n",
    "  - Say something -> I\n",
    "  - Say something -> I am\n",
    "  - Say something -> I am\n",
    "  - Say something -> I am a teach\n",
    "  - Say something -> I am a teacher <space, meaning end of word>\n",
    "  - ERR: can't say \"teacher\"\n",
    "  - Say something. Do not use the word \"teacher\" -> I am a\n",
    "  - Say something. Do not use the word \"teacher\" -> I am a plumb\n",
    "  - Say something. Do not use the word \"teacher\" -> I am a plumber\n",
    "    - or go back a few if different word changes more stuff. Maybe even redo whole sentence.\n",
    "  - ...\n",
    "  - Say something -> I am a teacher <space, meaning end of word>\n",
    "  - ERR: can't say \"teacher\"\n",
    "  - Say something. Do not use the word \"teacher\" -> I am\n",
    "  - Say something. Do not use the word \"teacher\" -> I am\n",
    "  - Say something. Do not use the word \"teacher\" -> I am an <\"an\" instead of \"a\">\n",
    "  - Say something. Do not use the word \"teacher\" -> I am an act\n",
    "  - Say something. Do not use the word \"teacher\" -> I am an actor\n",
    "    "
   ]
  },
  {
   "cell_type": "code",
   "execution_count": null,
   "metadata": {
    "vscode": {
     "languageId": "shellscript"
    }
   },
   "outputs": [],
   "source": [
    "srun -G1 --pty bash -c \"source /data/ai_club/team_3_2024-25/team3-env-finetune/bin/activate; \\\n",
    "    hostname; \\\n",
    "    jupyter notebook \\\n",
    "        --ServerApp.root_dir=$(pwd) \\\n",
    "        --ServerApp.password='' \\\n",
    "        --ServerApp.open_browser=False \\\n",
    "        --ServerApp.allow_origin='*' \\\n",
    "        --ServerApp.allow_remote_access=True \\\n",
    "        --ServerApp.port=14321 \\\n",
    "        --ServerApp.ip='*'\n",
    "\""
   ]
  },
  {
   "cell_type": "code",
   "execution_count": 1,
   "metadata": {},
   "outputs": [
    {
     "name": "stderr",
     "output_type": "stream",
     "text": [
      "2025-01-28 15:45:21.987047: I tensorflow/core/util/port.cc:153] oneDNN custom operations are on. You may see slightly different numerical results due to floating-point round-off errors from different computation orders. To turn them off, set the environment variable `TF_ENABLE_ONEDNN_OPTS=0`.\n",
      "2025-01-28 15:45:22.000926: E external/local_xla/xla/stream_executor/cuda/cuda_fft.cc:477] Unable to register cuFFT factory: Attempting to register factory for plugin cuFFT when one has already been registered\n",
      "WARNING: All log messages before absl::InitializeLog() is called are written to STDERR\n",
      "E0000 00:00:1738097122.017315 3876104 cuda_dnn.cc:8310] Unable to register cuDNN factory: Attempting to register factory for plugin cuDNN when one has already been registered\n",
      "E0000 00:00:1738097122.022226 3876104 cuda_blas.cc:1418] Unable to register cuBLAS factory: Attempting to register factory for plugin cuBLAS when one has already been registered\n",
      "2025-01-28 15:45:22.038486: I tensorflow/core/platform/cpu_feature_guard.cc:210] This TensorFlow binary is optimized to use available CPU instructions in performance-critical operations.\n",
      "To enable the following instructions: AVX2 AVX512F AVX512_VNNI FMA, in other operations, rebuild TensorFlow with the appropriate compiler flags.\n",
      "/data/ai_club/team_3_2024-25/team3-env-finetune/lib/python3.12/site-packages/tqdm/auto.py:21: TqdmWarning: IProgress not found. Please update jupyter and ipywidgets. See https://ipywidgets.readthedocs.io/en/stable/user_install.html\n",
      "  from .autonotebook import tqdm as notebook_tqdm\n"
     ]
    }
   ],
   "source": [
    "# import torch\n",
    "# import torch.nn as nn\n",
    "import tensorflow as tf\n",
    "\n",
    "import transformers"
   ]
  },
  {
   "cell_type": "code",
   "execution_count": 2,
   "metadata": {},
   "outputs": [],
   "source": [
    "MODEL_NAME = 'distilbert/distilgpt2'\n",
    "# MODEL_NAME = 'gpt2'"
   ]
  },
  {
   "cell_type": "code",
   "execution_count": 3,
   "metadata": {},
   "outputs": [],
   "source": [
    "model = transformers.AutoModelForCausalLM.from_pretrained(MODEL_NAME)\n",
    "\n",
    "# class ModifiedTransformerBlock(nn.Module):\n",
    "#     def __init__(self, original_layer, residual_dim):\n",
    "#         super().__init__()\n",
    "        \n",
    "#         self.original_layer = original_layer\n",
    "#         for param in self.original_layer.parameters():\n",
    "#             param.requires_grad = False\n",
    "        \n",
    "#         self.residual_transform = nn.Linear(residual_dim, residual_dim)\n",
    "\n",
    "#     def forward(self, hidden_states, attention_mask=None, **kwargs):\n",
    "#         print(kwargs)\n",
    "#         attn_output = self.original_layer.attention(hidden_states, attention_mask=attention_mask)\n",
    "#         ffn_output = self.original_layer.feed_forward(attn_output)\n",
    "        \n",
    "#         transformed_residual = self.residual_transform(hidden_states)\n",
    "#         output = ffn_output + transformed_residual\n",
    "        \n",
    "#         return output\n",
    "\n",
    "# original_layer = model.transformer.h[0]\n",
    "# residual_dim = original_layer.attn.c_attn.weight.size(0)\n",
    "\n",
    "# modified_layer = ModifiedTransformerBlock(original_layer, residual_dim)\n",
    "\n",
    "# model.transformer.h[0] = modified_layer"
   ]
  },
  {
   "cell_type": "code",
   "execution_count": 4,
   "metadata": {},
   "outputs": [
    {
     "ename": "AttributeError",
     "evalue": "'GPT2LMHeadModel' object has no attribute 'hidden_states'",
     "output_type": "error",
     "traceback": [
      "\u001b[0;31m---------------------------------------------------------------------------\u001b[0m",
      "\u001b[0;31mAttributeError\u001b[0m                            Traceback (most recent call last)",
      "\u001b[1;32m/home/grall/Documents/aiClub/lltm/LLTM/llm_core/test_finetune.ipynb Cell 6\u001b[0m line \u001b[0;36m1\n\u001b[0;32m----> <a href='vscode-notebook-cell://ssh-remote%2Bgrall@dh-mgmt2.hpc.msoe.edu/home/grall/Documents/aiClub/lltm/LLTM/llm_core/test_finetune.ipynb#X20sdnNjb2RlLXJlbW90ZQ%3D%3D?line=0'>1</a>\u001b[0m model\u001b[39m.\u001b[39;49mhidden_states\n",
      "File \u001b[0;32m/data/ai_club/team_3_2024-25/team3-env-finetune/lib/python3.12/site-packages/torch/nn/modules/module.py:1931\u001b[0m, in \u001b[0;36mModule.__getattr__\u001b[0;34m(self, name)\u001b[0m\n\u001b[1;32m   1929\u001b[0m     \u001b[39mif\u001b[39;00m name \u001b[39min\u001b[39;00m modules:\n\u001b[1;32m   1930\u001b[0m         \u001b[39mreturn\u001b[39;00m modules[name]\n\u001b[0;32m-> 1931\u001b[0m \u001b[39mraise\u001b[39;00m \u001b[39mAttributeError\u001b[39;00m(\n\u001b[1;32m   1932\u001b[0m     \u001b[39mf\u001b[39m\u001b[39m\"\u001b[39m\u001b[39m'\u001b[39m\u001b[39m{\u001b[39;00m\u001b[39mtype\u001b[39m(\u001b[39mself\u001b[39m)\u001b[39m.\u001b[39m\u001b[39m__name__\u001b[39m\u001b[39m}\u001b[39;00m\u001b[39m'\u001b[39m\u001b[39m object has no attribute \u001b[39m\u001b[39m'\u001b[39m\u001b[39m{\u001b[39;00mname\u001b[39m}\u001b[39;00m\u001b[39m'\u001b[39m\u001b[39m\"\u001b[39m\n\u001b[1;32m   1933\u001b[0m )\n",
      "\u001b[0;31mAttributeError\u001b[0m: 'GPT2LMHeadModel' object has no attribute 'hidden_states'"
     ]
    }
   ],
   "source": [
    "model.hidden_states"
   ]
  },
  {
   "cell_type": "code",
   "execution_count": 5,
   "metadata": {},
   "outputs": [],
   "source": [
    "tokenizer = transformers.AutoTokenizer.from_pretrained(MODEL_NAME)"
   ]
  },
  {
   "cell_type": "code",
   "execution_count": 6,
   "metadata": {},
   "outputs": [
    {
     "name": "stderr",
     "output_type": "stream",
     "text": [
      "I0000 00:00:1738097131.399919 3876104 gpu_device.cc:2022] Created device /job:localhost/replica:0/task:0/device:GPU:0 with 13764 MB memory:  -> device: 0, name: Tesla T4, pci bus id: 0000:db:00.0, compute capability: 7.5\n"
     ]
    },
    {
     "ename": "RuntimeError",
     "evalue": "Invalid device string: '/job:localhost/replica:0/task:0/device:GPU:0'",
     "output_type": "error",
     "traceback": [
      "\u001b[0;31m---------------------------------------------------------------------------\u001b[0m",
      "\u001b[0;31mRuntimeError\u001b[0m                              Traceback (most recent call last)",
      "\u001b[1;32m/home/grall/Documents/aiClub/lltm/LLTM/llm_core/test_finetune.ipynb Cell 8\u001b[0m line \u001b[0;36m2\n\u001b[1;32m      <a href='vscode-notebook-cell://ssh-remote%2Bgrall@dh-mgmt2.hpc.msoe.edu/home/grall/Documents/aiClub/lltm/LLTM/llm_core/test_finetune.ipynb#W6sdnNjb2RlLXJlbW90ZQ%3D%3D?line=0'>1</a>\u001b[0m tokens \u001b[39m=\u001b[39m tokenizer(\u001b[39m'\u001b[39m\u001b[39mhuman: hi\u001b[39m\u001b[39m\\n\u001b[39;00m\u001b[39mbot: I AM A ROBOT\u001b[39m\u001b[39m\\n\u001b[39;00m\u001b[39mhuman: huh?\u001b[39m\u001b[39m\\n\u001b[39;00m\u001b[39m'\u001b[39m, return_tensors\u001b[39m=\u001b[39m\u001b[39m'\u001b[39m\u001b[39mtf\u001b[39m\u001b[39m'\u001b[39m)\n\u001b[0;32m----> <a href='vscode-notebook-cell://ssh-remote%2Bgrall@dh-mgmt2.hpc.msoe.edu/home/grall/Documents/aiClub/lltm/LLTM/llm_core/test_finetune.ipynb#W6sdnNjb2RlLXJlbW90ZQ%3D%3D?line=1'>2</a>\u001b[0m out_ids \u001b[39m=\u001b[39m model\u001b[39m.\u001b[39;49mgenerate(\u001b[39m*\u001b[39;49m\u001b[39m*\u001b[39;49mtokens, max_length\u001b[39m=\u001b[39;49m\u001b[39m100\u001b[39;49m, pad_token_id\u001b[39m=\u001b[39;49mtokenizer\u001b[39m.\u001b[39;49meos_token_id, temperature\u001b[39m=\u001b[39;49m\u001b[39m0.8\u001b[39;49m, do_sample\u001b[39m=\u001b[39;49m\u001b[39mTrue\u001b[39;49;00m)\n\u001b[1;32m      <a href='vscode-notebook-cell://ssh-remote%2Bgrall@dh-mgmt2.hpc.msoe.edu/home/grall/Documents/aiClub/lltm/LLTM/llm_core/test_finetune.ipynb#W6sdnNjb2RlLXJlbW90ZQ%3D%3D?line=2'>3</a>\u001b[0m \u001b[39mprint\u001b[39m(tokenizer\u001b[39m.\u001b[39mdecode(out_ids[\u001b[39m0\u001b[39m]))\n",
      "File \u001b[0;32m/data/ai_club/team_3_2024-25/team3-env-finetune/lib/python3.12/site-packages/torch/utils/_contextlib.py:116\u001b[0m, in \u001b[0;36mcontext_decorator.<locals>.decorate_context\u001b[0;34m(*args, **kwargs)\u001b[0m\n\u001b[1;32m    113\u001b[0m \u001b[39m@functools\u001b[39m\u001b[39m.\u001b[39mwraps(func)\n\u001b[1;32m    114\u001b[0m \u001b[39mdef\u001b[39;00m\u001b[39m \u001b[39m\u001b[39mdecorate_context\u001b[39m(\u001b[39m*\u001b[39margs, \u001b[39m*\u001b[39m\u001b[39m*\u001b[39mkwargs):\n\u001b[1;32m    115\u001b[0m     \u001b[39mwith\u001b[39;00m ctx_factory():\n\u001b[0;32m--> 116\u001b[0m         \u001b[39mreturn\u001b[39;00m func(\u001b[39m*\u001b[39;49margs, \u001b[39m*\u001b[39;49m\u001b[39m*\u001b[39;49mkwargs)\n",
      "File \u001b[0;32m/data/ai_club/team_3_2024-25/team3-env-finetune/lib/python3.12/site-packages/transformers/generation/utils.py:2033\u001b[0m, in \u001b[0;36mGenerationMixin.generate\u001b[0;34m(self, inputs, generation_config, logits_processor, stopping_criteria, prefix_allowed_tokens_fn, synced_gpus, assistant_model, streamer, negative_prompt_ids, negative_prompt_attention_mask, **kwargs)\u001b[0m\n\u001b[1;32m   2030\u001b[0m batch_size \u001b[39m=\u001b[39m inputs_tensor\u001b[39m.\u001b[39mshape[\u001b[39m0\u001b[39m]\n\u001b[1;32m   2032\u001b[0m device \u001b[39m=\u001b[39m inputs_tensor\u001b[39m.\u001b[39mdevice\n\u001b[0;32m-> 2033\u001b[0m \u001b[39mself\u001b[39;49m\u001b[39m.\u001b[39;49m_prepare_special_tokens(generation_config, kwargs_has_attention_mask, device\u001b[39m=\u001b[39;49mdevice)\n\u001b[1;32m   2035\u001b[0m \u001b[39m# decoder-only models must use left-padding for batched generation.\u001b[39;00m\n\u001b[1;32m   2036\u001b[0m \u001b[39mif\u001b[39;00m \u001b[39mnot\u001b[39;00m \u001b[39mself\u001b[39m\u001b[39m.\u001b[39mconfig\u001b[39m.\u001b[39mis_encoder_decoder \u001b[39mand\u001b[39;00m \u001b[39mnot\u001b[39;00m is_torchdynamo_compiling():\n\u001b[1;32m   2037\u001b[0m     \u001b[39m# If `input_ids` was given, check if the last id in any sequence is `pad_token_id`\u001b[39;00m\n\u001b[1;32m   2038\u001b[0m     \u001b[39m# Note: If using, `inputs_embeds` this check does not work, because we want to be more hands-off.\u001b[39;00m\n",
      "File \u001b[0;32m/data/ai_club/team_3_2024-25/team3-env-finetune/lib/python3.12/site-packages/transformers/generation/utils.py:1848\u001b[0m, in \u001b[0;36mGenerationMixin._prepare_special_tokens\u001b[0;34m(self, generation_config, kwargs_has_attention_mask, device)\u001b[0m\n\u001b[1;32m   1845\u001b[0m         \u001b[39mreturn\u001b[39;00m token\u001b[39m.\u001b[39mto(device)\n\u001b[1;32m   1846\u001b[0m     \u001b[39mreturn\u001b[39;00m torch\u001b[39m.\u001b[39mtensor(token, device\u001b[39m=\u001b[39mdevice, dtype\u001b[39m=\u001b[39mtorch\u001b[39m.\u001b[39mlong)\n\u001b[0;32m-> 1848\u001b[0m bos_token_tensor \u001b[39m=\u001b[39m _tensor_or_none(generation_config\u001b[39m.\u001b[39;49mbos_token_id, device\u001b[39m=\u001b[39;49mdevice)\n\u001b[1;32m   1849\u001b[0m eos_token_tensor \u001b[39m=\u001b[39m _tensor_or_none(generation_config\u001b[39m.\u001b[39meos_token_id, device\u001b[39m=\u001b[39mdevice)\n\u001b[1;32m   1850\u001b[0m pad_token_tensor \u001b[39m=\u001b[39m _tensor_or_none(generation_config\u001b[39m.\u001b[39mpad_token_id, device\u001b[39m=\u001b[39mdevice)\n",
      "File \u001b[0;32m/data/ai_club/team_3_2024-25/team3-env-finetune/lib/python3.12/site-packages/transformers/generation/utils.py:1846\u001b[0m, in \u001b[0;36mGenerationMixin._prepare_special_tokens.<locals>._tensor_or_none\u001b[0;34m(token, device)\u001b[0m\n\u001b[1;32m   1844\u001b[0m \u001b[39mif\u001b[39;00m \u001b[39misinstance\u001b[39m(token, torch\u001b[39m.\u001b[39mTensor):\n\u001b[1;32m   1845\u001b[0m     \u001b[39mreturn\u001b[39;00m token\u001b[39m.\u001b[39mto(device)\n\u001b[0;32m-> 1846\u001b[0m \u001b[39mreturn\u001b[39;00m torch\u001b[39m.\u001b[39;49mtensor(token, device\u001b[39m=\u001b[39;49mdevice, dtype\u001b[39m=\u001b[39;49mtorch\u001b[39m.\u001b[39;49mlong)\n",
      "\u001b[0;31mRuntimeError\u001b[0m: Invalid device string: '/job:localhost/replica:0/task:0/device:GPU:0'"
     ]
    }
   ],
   "source": [
    "tokens = tokenizer('human: hi\\nbot: I AM A ROBOT\\nhuman: huh?\\n', return_tensors='tf')\n",
    "out_ids = model.generate(**tokens, max_length=100, pad_token_id=tokenizer.eos_token_id, temperature=0.8, do_sample=True)\n",
    "print(tokenizer.decode(out_ids[0]))"
   ]
  }
 ],
 "metadata": {
  "kernelspec": {
   "display_name": "Python 3 (ipykernel)",
   "language": "python",
   "name": "python3"
  },
  "language_info": {
   "codemirror_mode": {
    "name": "ipython",
    "version": 3
   },
   "file_extension": ".py",
   "mimetype": "text/x-python",
   "name": "python",
   "nbconvert_exporter": "python",
   "pygments_lexer": "ipython3",
   "version": "3.12.7"
  }
 },
 "nbformat": 4,
 "nbformat_minor": 2
}
