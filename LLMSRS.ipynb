{
 "cells": [
  {
   "cell_type": "code",
   "execution_count": 1,
   "metadata": {},
   "outputs": [],
   "source": [
    "from SRS import SRS\n",
    "import llm as L\n",
    "from llama_cpp import Llama\n",
    "import re"
   ]
  },
  {
   "cell_type": "code",
   "execution_count": 2,
   "metadata": {},
   "outputs": [
    {
     "name": "stdout",
     "output_type": "stream",
     "text": [
      "<fsrs.models.Card object at 0x7fa4c00d5730>\n",
      "0\n",
      "<fsrs.models.Card object at 0x7fa44e0e22d0>\n",
      "1\n"
     ]
    }
   ],
   "source": [
    "srs = SRS()\n",
    "srs.add_card(\"fox\")\n",
    "print(srs.get_card(\"fox\"))\n",
    "print(srs.get_reps(\"fox\"))\n",
    "srs.review_card(\"fox\", \"good\")\n",
    "print(srs.get_card(\"fox\"))\n",
    "print(srs.get_reps(\"fox\"))\n",
    "srs.output()"
   ]
  },
  {
   "cell_type": "code",
   "execution_count": 3,
   "metadata": {},
   "outputs": [],
   "source": [
    "def logits_processor(prev_tok_ids, next_tok_logits):\n",
    "    \n",
    "    # print(prev_tok_ids, next_tok_logits)\n",
    "\n",
    "    next_tok_logits[995] -= 1000\n",
    " \n",
    "    return next_tok_logits"
   ]
  },
  {
   "cell_type": "code",
   "execution_count": 4,
   "metadata": {},
   "outputs": [
    {
     "name": "stdout",
     "output_type": "stream",
     "text": [
      "Initializing Global LLM Instance\n"
     ]
    }
   ],
   "source": [
    "llm = L.LLM('You are language chatbot. You speak using low-level, easy to comprehend words. You end every sentence with a short quiz to see if they understand')"
   ]
  },
  {
   "cell_type": "code",
   "execution_count": 5,
   "metadata": {},
   "outputs": [
    {
     "data": {
      "text/plain": [
       "' I speak simple. Me say \"how about that?\" Now question: What is my last sentence in English? Answer: \"What is my last sentence in English?\" (Answer: \"How about that?\")'"
      ]
     },
     "execution_count": 5,
     "metadata": {},
     "output_type": "execute_result"
    }
   ],
   "source": [
    "user_input = input()\n",
    "resp = llm(user_input, max_tokens=200, logits_processor=[logits_processor])\n",
    "resp"
   ]
  },
  {
   "cell_type": "code",
   "execution_count": 6,
   "metadata": {},
   "outputs": [],
   "source": [
    "#[^\\w\\s\\-]*\n",
    "output_words = re.sub(\"[^A-Za-z0-9 -]\", \"\", resp)\n",
    "\n",
    "for i in output_words:\n",
    "    srs.review_card(i, 'again')\n",
    "# TODO: review card instead of adding\n",
    "#       'good' or 'bad'?\n",
    "#       how to space words? language dictionary?\n",
    "# Add Lucas's model\n",
    "# add bad but not very bad\n",
    "# LLM to extract incorrect words (structured output)\n",
    "# LLM to break words apart betterer"
   ]
  },
  {
   "cell_type": "code",
   "execution_count": 7,
   "metadata": {},
   "outputs": [
    {
     "name": "stdout",
     "output_type": "stream",
     "text": [
      "None\n"
     ]
    }
   ],
   "source": [
    "srs.output()"
   ]
  },
  {
   "cell_type": "code",
   "execution_count": null,
   "metadata": {},
   "outputs": [],
   "source": []
  }
 ],
 "metadata": {
  "kernelspec": {
   "display_name": "team3-env-py312-glibc",
   "language": "python",
   "name": "python3"
  },
  "language_info": {
   "codemirror_mode": {
    "name": "ipython",
    "version": 3
   },
   "file_extension": ".py",
   "mimetype": "text/x-python",
   "name": "python",
   "nbconvert_exporter": "python",
   "pygments_lexer": "ipython3",
   "version": "3.12.7"
  },
  "orig_nbformat": 4
 },
 "nbformat": 4,
 "nbformat_minor": 2
}
