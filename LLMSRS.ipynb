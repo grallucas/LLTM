{
 "cells": [
  {
   "cell_type": "code",
   "execution_count": 1,
   "metadata": {},
   "outputs": [],
   "source": [
    "from SRS import SRS\n",
    "import llm as L\n",
    "from llama_cpp import Llama\n",
    "import re"
   ]
  },
  {
   "cell_type": "code",
   "execution_count": 2,
   "metadata": {},
   "outputs": [
    {
     "name": "stdout",
     "output_type": "stream",
     "text": [
      "<fsrs.models.Card object at 0x7fa121577b30>\n",
      "0\n",
      "<fsrs.models.Card object at 0x7fa0bd546180>\n",
      "1\n"
     ]
    }
   ],
   "source": [
    "srs = SRS()\n",
    "srs.add_card(\"fox\")\n",
    "print(srs.get_card(\"fox\"))\n",
    "print(srs.get_reps(\"fox\"))\n",
    "srs.review_card(\"fox\", \"good\")\n",
    "print(srs.get_card(\"fox\"))\n",
    "print(srs.get_reps(\"fox\"))\n",
    "srs.output()"
   ]
  },
  {
   "cell_type": "code",
   "execution_count": 3,
   "metadata": {},
   "outputs": [],
   "source": [
    "def logits_processor(prev_tok_ids, next_tok_logits):\n",
    "    \n",
    "    # print(prev_tok_ids, next_tok_logits)\n",
    "\n",
    "    next_tok_logits[995] -= 1000\n",
    " \n",
    "    return next_tok_logits"
   ]
  },
  {
   "cell_type": "code",
   "execution_count": 4,
   "metadata": {},
   "outputs": [
    {
     "name": "stdout",
     "output_type": "stream",
     "text": [
      "Initializing Global LLM Instance\n"
     ]
    }
   ],
   "source": [
    "chat_llm = L.LLM('You are language chatbot. You speak using low-level, easy to comprehend words. You end every sentence with a short quiz to see if they understand')\n",
    "grader_llm = L.LLM('You grade the responses of a user input and flag the words that are used incorrectly')\n"
   ]
  },
  {
   "cell_type": "code",
   "execution_count": 5,
   "metadata": {},
   "outputs": [
    {
     "data": {
      "text/plain": [
       "\"  Sure, I'd be happy to help! Brazil is a country located in South America. It is the largest country in both South America and the Latin American region. Brazil is known for its diverse culture, rich history, and beautiful landscapes.\\nCan you tell me the capital of Brazil? 🤔\""
      ]
     },
     "execution_count": 5,
     "metadata": {},
     "output_type": "execute_result"
    }
   ],
   "source": [
    "user_input = input()\n",
    "resp = chat_llm(user_input, max_tokens=200, logits_processor=[logits_processor])\n",
    "resp"
   ]
  },
  {
   "cell_type": "code",
   "execution_count": 13,
   "metadata": {},
   "outputs": [
    {
     "data": {
      "text/plain": [
       "\"system --- You grade the responses of a user input and flag the words that are used incorrectly\\n__________\\n\\nuser --- Hello, what can you tell me about Brazil?\\n__________\\n\\nassistant --- {'word': 'reason'}\\n__________\\n\\nuser --- Hello, what can you tell me about Brazil?\\n__________\\n\\nassistant --- {'word': 'reason'}\\n__________\\n\\nuser --- Hello, what can you tell me about Brazil?\\n__________\\n\\nassistant --- {'word': 'reason'}\\n__________\\n\\nuser --- Hello, what can you tell me about Brazil?\\n__________\\n\\nuser --- Hello, what can you tell me about Brazil?\\n__________\\n\\nuser --- Hello, what can you tell me about Brazil?\\n__________\\n\\nassistant --- {'word': 'reason'}\\n__________\\n\\n\""
      ]
     },
     "execution_count": 13,
     "metadata": {},
     "output_type": "execute_result"
    }
   ],
   "source": [
    "mistakes_dictionary = {'word':'reason'}\n",
    "mistakes = grader_llm(user_input, mistakes_dictionary)\n",
    "grader_llm.get_pretty_hist()"
   ]
  },
  {
   "cell_type": "code",
   "execution_count": 7,
   "metadata": {},
   "outputs": [],
   "source": [
    "#[^\\w\\s\\-]*\n",
    "output_words = re.sub(\"[^A-Za-z0-9 -]\", \"\", resp)\n",
    "\n",
    "for i in output_words:\n",
    "    srs.review_card(i, 'again')\n",
    "# TODO: review card instead of adding\n",
    "#       'good' or 'bad'?\n",
    "#       how to space words? language dictionary?\n",
    "# Add Lucas's model\n",
    "# add bad but not very bad\n",
    "# LLM to extract incorrect words (structured output)\n",
    "# LLM to break words apart betterer"
   ]
  },
  {
   "cell_type": "code",
   "execution_count": 8,
   "metadata": {},
   "outputs": [],
   "source": [
    "srs.output()"
   ]
  },
  {
   "cell_type": "code",
   "execution_count": null,
   "metadata": {},
   "outputs": [],
   "source": []
  }
 ],
 "metadata": {
  "kernelspec": {
   "display_name": "team3-env-py312-glibc",
   "language": "python",
   "name": "python3"
  },
  "language_info": {
   "codemirror_mode": {
    "name": "ipython",
    "version": 3
   },
   "file_extension": ".py",
   "mimetype": "text/x-python",
   "name": "python",
   "nbconvert_exporter": "python",
   "pygments_lexer": "ipython3",
   "version": "3.12.7"
  },
  "orig_nbformat": 4
 },
 "nbformat": 4,
 "nbformat_minor": 2
}
