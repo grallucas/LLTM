{
 "cells": [
  {
   "cell_type": "code",
   "execution_count": 1,
   "metadata": {},
   "outputs": [],
   "source": [
    "import lexicon\n",
    "import llm as L\n",
    "\n",
    "L.TOKEN_COUNT_PATH = '/data/ai_club/team_3_2024-25/tokcounts2/'\n"
   ]
  },
  {
   "cell_type": "code",
   "execution_count": 85,
   "metadata": {},
   "outputs": [
    {
     "data": {
      "text/plain": [
       "{}"
      ]
     },
     "execution_count": 85,
     "metadata": {},
     "output_type": "execute_result"
    }
   ],
   "source": [
    "word_data = lexicon.lookup_word('päälläsi', 'Finnish')\n",
    "word_data"
   ]
  },
  {
   "cell_type": "code",
   "execution_count": 2,
   "metadata": {},
   "outputs": [],
   "source": [
    "def format_word_data(word_data):\n",
    "    word_data_fmted = ''\n",
    "\n",
    "    for word_type, defs in word_data['definitions'].items():\n",
    "        word_data_fmted += word_type + '\\n'\n",
    "        for d in defs:\n",
    "            word_data_fmted += f'\\t{d[0]}\\n'\n",
    "\n",
    "    return word_data_fmted\n",
    "\n",
    "# print(\n",
    "#     format_word_data(word_data)\n",
    "# )"
   ]
  },
  {
   "cell_type": "code",
   "execution_count": 4,
   "metadata": {},
   "outputs": [
    {
     "name": "stdout",
     "output_type": "stream",
     "text": [
      "{'url': 'https://en.wiktionary.org/wiki/sinulla#Finnish', 'ipa': '/ˈsinulːɑ/', 'img': None, 'definitions': {'Pronoun': [('(personal) adessive singular of sinä', [])]}}\n",
      "on you\n",
      "The Finnish word 'sinulla' is translated to English as 'on you' or 'with you', indicating the location or accompaniment of something or someone in relation to the person being addressed.\n",
      "sinu-lla, where \"sinu\" is the genitive form of the pronoun \"sin\" (you), and \"-lla\" is the adessive suffix\n"
     ]
    }
   ],
   "source": [
    "def translate_in_ctx(context, word, word_lexicon_data):\n",
    "    if word_lexicon_data:\n",
    "        word_lexicon_data = format_word_data(word_lexicon_data)\n",
    "\n",
    "    llm = L.LLM('You are an Finnish -> English translator.')\n",
    "\n",
    "    translated_word = llm(\n",
    "        f'{ctx}' +\n",
    "        f'\\n\\nGiven the prior context, translate the Finnish word \"{word}\" into english' + \n",
    "        (f' from one of these definitions:\\n{word_data}' if word_data else '.')\n",
    "        ,\n",
    "        response_format=['english_word']\n",
    "    )['english_word']\n",
    "\n",
    "    explanation = llm(\n",
    "        'Give a brief, one-sentence explanation generalizable to other sentences (i.e., your explanation should be unconnected from the context).',\n",
    "        response_format=['concise_generalizable_explanation']\n",
    "    )['concise_generalizable_explanation']\n",
    "\n",
    "\n",
    "    breakdown = llm(\n",
    "        'Break the word into its morphemes if applicable.',\n",
    "        response_format=['parts_or_n/a']\n",
    "    )['parts_or_n/a']\n",
    "\n",
    "    return translated_word, explanation, breakdown\n",
    "\n",
    "ctx = (\n",
    "    'Miksi sinulla on kiltti päälläsi?\\n'\n",
    "    'Skotlantilainen ystäväni antoi sen lahjaksi!'\n",
    ")\n",
    "\n",
    "word = 'sinulla'\n",
    "\n",
    "word_data = lexicon.lookup_word(word, 'Finnish')\n",
    "\n",
    "print(word_data)\n",
    "\n",
    "en_word, exp, breakdown = translate_in_ctx(ctx, word, word_data)\n",
    "\n",
    "print(en_word)\n",
    "print(exp)\n",
    "print(breakdown)\n"
   ]
  }
 ],
 "metadata": {
  "kernelspec": {
   "display_name": "Python 3 (ipykernel)",
   "language": "python",
   "name": "python3"
  },
  "language_info": {
   "codemirror_mode": {
    "name": "ipython",
    "version": 3
   },
   "file_extension": ".py",
   "mimetype": "text/x-python",
   "name": "python",
   "nbconvert_exporter": "python",
   "pygments_lexer": "ipython3",
   "version": "3.12.7"
  }
 },
 "nbformat": 4,
 "nbformat_minor": 2
}
