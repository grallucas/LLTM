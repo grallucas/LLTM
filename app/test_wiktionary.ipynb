{
 "cells": [
  {
   "cell_type": "code",
   "execution_count": 1,
   "metadata": {},
   "outputs": [],
   "source": [
    "import lexicon"
   ]
  },
  {
   "cell_type": "code",
   "execution_count": 3,
   "metadata": {},
   "outputs": [
    {
     "data": {
      "text/plain": [
       "{'url': 'https://en.wiktionary.org/wiki/talossa#Finnish',\n",
       " 'ipa': None,\n",
       " 'img': None,\n",
       " 'definitions': {'Noun': {'inessive singular of talo': None}}}"
      ]
     },
     "execution_count": 3,
     "metadata": {},
     "output_type": "execute_result"
    }
   ],
   "source": [
    "lexicon.lookup_word('talossa', 'Finnish')"
   ]
  },
  {
   "cell_type": "code",
   "execution_count": null,
   "metadata": {},
   "outputs": [],
   "source": [
    "# links used in dev\n",
    "'''\n",
    "https://en.wiktionary.org/wiki/min%C3%A4#Finnish\n",
    "https://en.wiktionary.org/wiki/koira\n",
    "https://en.wiktionary.org/wiki/kyll%C3%A4#Finnish\n",
    "https://en.wiktionary.org/wiki/sinua#Finnish\n",
    "https://en.wiktionary.org/wiki/hyv%C3%A4#Finnish\n",
    "https://en.wiktionary.org/api/rest_v1/page/html/p%C3%A4iv%C3%A4%C3%A4\n",
    "'''"
   ]
  },
  {
   "cell_type": "markdown",
   "metadata": {},
   "source": [
    "---"
   ]
  },
  {
   "cell_type": "code",
   "execution_count": 2,
   "metadata": {},
   "outputs": [],
   "source": [
    "import llm\n",
    "import requests\n",
    "from bs4 import BeautifulSoup, element"
   ]
  },
  {
   "cell_type": "code",
   "execution_count": 5,
   "metadata": {},
   "outputs": [],
   "source": [
    "\n",
    "WORD_TYPES = ['Adjective', 'Noun', 'Verb', 'Adverb', 'Article', 'Interjection']"
   ]
  },
  {
   "cell_type": "code",
   "execution_count": 246,
   "metadata": {},
   "outputs": [],
   "source": [
    "# word = 'huomen'\n",
    "# word = 'koira'\n",
    "# word = 'minä'\n",
    "# word = 'hyvä'\n",
    "# word = 'talo'\n",
    "# word = 'päivää'\n",
    "word = 'päivä'\n",
    "language = 'Finnish'\n",
    "\n",
    "html = requests.get(f'https://en.wiktionary.org/api/rest_v1/page/html/{word}').text\n",
    "soup = BeautifulSoup(html, 'html.parser')"
   ]
  },
  {
   "cell_type": "code",
   "execution_count": 247,
   "metadata": {},
   "outputs": [],
   "source": [
    "# --- get sections ---\n",
    "\n",
    "section = soup.select_one(f'section:has(> h2:-soup-contains(\"{language}\"))')\n",
    "\n",
    "pronunciation = section.select_one('section:has(> h3:-soup-contains(\"Pronunciation\"))')\n",
    "word_type_data = {\n",
    "    t: section.select_one(f'section:has(> *:-soup-contains(\"{t}\"))')\n",
    "    for t in WORD_TYPES\n",
    "}\n",
    "\n",
    "# --- handle section titles, all must be handled ---\n",
    "\n",
    "section_titles = [x.text for x in section.select('h3', recursive=False)]\n",
    "for title in WORD_TYPES + ['Etymology', 'Etymology 1', 'Etymology 2', 'Pronunciation', 'References', 'Further reading', 'Anagrams', 'See also']:\n",
    "    if title in section_titles:\n",
    "        section_titles.remove(title)\n",
    "\n",
    "if section_titles:\n",
    "    print('UNHANDLED SECTION TITLES:', section_titles)\n",
    "\n",
    "# --- parse IPA ---\n",
    "\n",
    "ipa = None\n",
    "if pronunciation:\n",
    "    ipa = next(ipa.text for ipa in pronunciation.select('.IPA') if ipa.text[0]=='/')\n",
    "\n",
    "# --- parse img ---\n",
    "\n",
    "img = section.select_one('figure[typeof=\"mw:File/Thumb\"] img')\n",
    "if img:\n",
    "    img = 'https:' + img['src']\n"
   ]
  },
  {
   "cell_type": "code",
   "execution_count": 248,
   "metadata": {},
   "outputs": [
    {
     "name": "stdout",
     "output_type": "stream",
     "text": [
      "{\n",
      "    \"Noun\": {\n",
      "        \"day (period between sunrise and sunset)\\n\": [\n",
      "            \"Siitä on nyt vuoden päivät.It was about one year ago.\"\n",
      "        ],\n",
      "        \"day (from midnight to midnight)\": null,\n",
      "        \"day (period of 24 hours)\\n\": [\n",
      "            \"Synonym: vuorokausi\"\n",
      "        ],\n",
      "        \"day (the part of a day period which one spends at one’s job, school, etc.)\": null,\n",
      "        \"(poetic, archaic) the sun\\n\": [\n",
      "            \"Synonym: aurinko\",\n",
      "            \"Päivä paistaa. ― The sun is shining.\",\n",
      "            \"Päivä painuu mailleen. ― The sun sets.\"\n",
      "        ],\n",
      "        \"event, occasion, symposium, forum, fair, etc. (in the singular only if the event lasts one day, otherwise in the plural)\\n\": [\n",
      "            \"vanhan kirjallisuuden päivät ― antiquarian book fair\",\n",
      "            \"tieteen päivät ― (biennial) science forum\"\n",
      "        ]\n",
      "    }\n",
      "}\n"
     ]
    },
    {
     "data": {
      "text/plain": [
       "{'Noun': {'day (period between sunrise and sunset)\\n': ['Siitä on nyt vuoden päivät.It was about one year ago.'],\n",
       "  'day (from midnight to midnight)': None,\n",
       "  'day (period of 24 hours)\\n': ['Synonym: vuorokausi'],\n",
       "  'day (the part of a day period which one spends at one’s job, school, etc.)': None,\n",
       "  '(poetic, archaic) the sun\\n': ['Synonym: aurinko',\n",
       "   'Päivä paistaa. ― The sun is shining.',\n",
       "   'Päivä painuu mailleen. ― The sun sets.'],\n",
       "  'event, occasion, symposium, forum, fair, etc. (in the singular only if the event lasts one day, otherwise in the plural)\\n': ['vanhan kirjallisuuden päivät ― antiquarian book fair',\n",
       "   'tieteen päivät ― (biennial) science forum']}}"
      ]
     },
     "execution_count": 248,
     "metadata": {},
     "output_type": "execute_result"
    }
   ],
   "source": [
    "# --- parse definitions ---\n",
    "\n",
    "definitions = {}\n",
    "\n",
    "for word_type, data in word_type_data.items():\n",
    "    if not data: continue\n",
    "    sub_defs = definitions[word_type] = {}\n",
    "\n",
    "    for li in data.select_one('ol').select('li'):\n",
    "        # print('\\n---\\n')\n",
    "        # print(li.text)\n",
    "\n",
    "        for element in soup.find_all(class_=\"citation-whole\"):\n",
    "            element.decompose()\n",
    "\n",
    "        dl = li.select_one('ul')\n",
    "        if not dl:\n",
    "            dl = li.select_one('dl')\n",
    "        if not dl:\n",
    "            definition = []\n",
    "            for e in li.children:\n",
    "                if e.name not in ['ul', 'ol', 'dl', 'style']:\n",
    "                    definition += e.text\n",
    "            definition = ''.join(definition).strip()\n",
    "            if definition:\n",
    "                sub_defs[definition] = None\n",
    "        else:\n",
    "            definition = ''\n",
    "            for e in li.children:\n",
    "                if e.name == 'style': continue\n",
    "                # print(e.name, e, e.text)\n",
    "                if e.name == 'dl' or e.name == 'ul': break\n",
    "                definition += e.text\n",
    "\n",
    "            examples = []\n",
    "            for ex in dl.children:\n",
    "                ex = ex.text.strip()\n",
    "                if not ex: continue\n",
    "                examples.append(ex)\n",
    "\n",
    "            # print('(')\n",
    "            # print(definition)\n",
    "            # print()\n",
    "            # print(examples)\n",
    "            # print(')')\n",
    "\n",
    "            if definition:\n",
    "                sub_defs[definition] = examples\n",
    "\n",
    "import json\n",
    "print(\n",
    "    json.dumps(\n",
    "        definitions,\n",
    "        indent=4,\n",
    "        ensure_ascii=False\n",
    "    )\n",
    ")\n",
    "definitions"
   ]
  }
 ],
 "metadata": {
  "kernelspec": {
   "display_name": "Python 3 (ipykernel)",
   "language": "python",
   "name": "python3"
  },
  "language_info": {
   "codemirror_mode": {
    "name": "ipython",
    "version": 3
   },
   "file_extension": ".py",
   "mimetype": "text/x-python",
   "name": "python",
   "nbconvert_exporter": "python",
   "pygments_lexer": "ipython3",
   "version": "3.12.7"
  }
 },
 "nbformat": 4,
 "nbformat_minor": 2
}
