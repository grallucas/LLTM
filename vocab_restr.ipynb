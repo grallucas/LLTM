{
 "cells": [
  {
   "cell_type": "markdown",
   "metadata": {},
   "source": [
    "```\n",
    "srun -G3 --pty bash -c \"source /data/ai_club/team_3_2024-25/team3-env-py312-glibc/bin/activate; \\\n",
    "    hostname; \\\n",
    "    jupyter notebook \\\n",
    "        --ServerApp.root_dir=$(pwd) \\\n",
    "        --ServerApp.password='' \\\n",
    "        --ServerApp.open_browser=False \\\n",
    "        --ServerApp.allow_origin='*' \\\n",
    "        --ServerApp.allow_remote_access=True \\\n",
    "        --ServerApp.port=14321 \\\n",
    "        --ServerApp.ip='*'\n",
    "\"\n",
    "```"
   ]
  },
  {
   "cell_type": "code",
   "execution_count": 1,
   "metadata": {},
   "outputs": [],
   "source": [
    "import llm as L"
   ]
  },
  {
   "cell_type": "code",
   "execution_count": 17,
   "metadata": {},
   "outputs": [],
   "source": [
    "'''\n",
    "THOUGHTS:\n",
    "    It's trivial to store individual forms of words \"talo\", \"talossa\" as individual vocab, but it seems harder to store (and enforce) a word with any allowed form.\n",
    "    If 'talo' is allowed, and the noun case 'ssa' is allowed, maybe it's possible to see that the output is 'talo' and say 'ssa' is allowed with any other next tokens that could follow \"talo\" to make a different word, e.g, \"talonpoika\"\n",
    "'''\n",
    "\n",
    "allowed_vocab = [\n",
    "    'terve',\n",
    "    'hei',\n",
    "\n",
    "    'talo',\n",
    "    'vesi',\n",
    "    'ystävä',\n",
    "    'koulu',\n",
    "    'työ',\n",
    "    'huomenta',\n",
    "\n",
    "    'kaunis',\n",
    "    'ruma',\n",
    "    'vanha',\n",
    "    'nuori',\n",
    "    'terve',\n",
    "    'sairas',\n",
    "    'hauska',\n",
    "    'ystävällinen',\n",
    "    'tylsä',\n",
    "    'hyvää',\n",
    "\n",
    "    'minä', 'olen', 'olenko',\n",
    "    'sinä', 'olet', 'oletko',\n",
    "    'hän', 'on', 'onko',\n",
    "    'minut', 'minun',\n",
    "    'sinut', 'sinun',\n",
    "\n",
    "    'matti'\n",
    "]\n",
    "\n",
    "allowed_vocab_bnf = ' | '.join([\n",
    "    '('+''.join([\n",
    "        f'[{c}{c.upper()}]' \n",
    "        for c in v.lower()\n",
    "    ])+')'\n",
    "    for v in allowed_vocab\n",
    "])\n",
    "\n",
    "punct_bnf = r'''[!\"#$%&'()*+,-./:;<=>?@\\[\\]^_`{|}\\\\~0-9 \\t\\n]'''\n",
    "\n",
    "emoji_bnf = r'[\\U0001F600-\\U0001F64F]'\n",
    "\n",
    "grammar = f'''\n",
    "root ::= (emoji | punct | vocab)*\n",
    "emoji ::= {emoji_bnf}\n",
    "punct ::= {punct_bnf}\n",
    "vocab ::= {allowed_vocab_bnf}\n",
    "'''.strip()\n",
    "\n",
    "grammar = L.LlamaGrammar.from_string(grammar)"
   ]
  },
  {
   "cell_type": "code",
   "execution_count": 19,
   "metadata": {},
   "outputs": [],
   "source": [
    "sys_prompt = (\n",
    "    'You are a Finnish teaching assistant named Matti. ' +\n",
    "    'You can only use these beginner words: ' + ', '.join(allowed_vocab) +\n",
    "    '. The words you use can be  both upper and lower case. Respond to future messages with SINGLE, SHORT sentences and use a lot of emojis.'\n",
    ")"
   ]
  },
  {
   "cell_type": "code",
   "execution_count": 20,
   "metadata": {},
   "outputs": [
    {
     "name": "stdout",
     "output_type": "stream",
     "text": [
      "You are a Finnish teaching assistant named Matti. You can only use these beginner words: terve, hei, talo, vesi, ystävä, koulu, työ, huomenta, kaunis, ruma, vanha, nuori, terve, sairas, hauska, ystävällinen, tylsä, hyvää, minä, olen, olenko, sinä, olet, oletko, hän, on, onko, minut, minun, sinut, sinun, matti. The words you use can be  both upper and lower case. Respond to future messages with SINGLE, SHORT sentences and use a lot of emojis.\n"
     ]
    }
   ],
   "source": [
    "print(sys_prompt)"
   ]
  },
  {
   "cell_type": "code",
   "execution_count": 22,
   "metadata": {},
   "outputs": [
    {
     "name": "stdout",
     "output_type": "stream",
     "text": [
      "(Hei! Matti, tervetalo kouluon! 😃)\n",
      "\n",
      "(Matti on nuori työminun. 😋)\n",
      "\n",
      "(Matti ruma vesi huomenta! 😜)\n",
      "\n",
      "(Kaunis talo! Olenko tylsä? 🙄)\n",
      "\n",
      "(Sinä olenko ystävällinen? "
     ]
    }
   ],
   "source": [
    "llm = L.LLM(sys_prompt)\n",
    "\n",
    "s = llm('Hyvää huomenta!', response_format='stream', max_tokens=100, grammar=grammar, temperature=1)\n",
    "\n",
    "for tok in s:\n",
    "    print(tok, end='')"
   ]
  },
  {
   "cell_type": "code",
   "execution_count": 13,
   "metadata": {},
   "outputs": [
    {
     "data": {
      "text/plain": [
       "[Msg(role='system', content='You are a Finnish teaching assistant named Matti. You can only use these beginner words: terve, hei, talo, vesi, ystävä, koulu, työ, huomenta, kaunis, ruma, vanha, nuori, terve, sairas, hauska, ystävällinen, tylsä, hyvää, minä, olen, olenko, sinä, olet, oletko, hän, on, onko, minut, minun, sinut, sinun, matti. The words you use can be  both upper and lower case. Respond to future messages with SINGLE, SHORT sentences and use a lot of emojis.'),\n",
       " Msg(role='user', content='Hyvää huomenta!'),\n",
       " Msg(role='assistant', content='(Hei! Matti\\'sairas, nuorityöhäntalo. Oletko koulu? 😊)\\n\\n(Matti: \"Hei! Matti\\'sairas, nuori työhäntalo. Oletko koulu?\")\\n\\n(Minä olen koulu. Oletko ystävällinen? 😊)\\n\\n(Matti: \"Min')]"
      ]
     },
     "execution_count": 13,
     "metadata": {},
     "output_type": "execute_result"
    }
   ],
   "source": [
    "llm."
   ]
  },
  {
   "cell_type": "code",
   "execution_count": 12,
   "metadata": {},
   "outputs": [
    {
     "name": "stdout",
     "output_type": "stream",
     "text": [
      "system --- You are a Finnish teaching assistant named Matti. You can only use these beginner words: terve, hei, talo, vesi, ystävä, koulu, työ, huomenta, kaunis, ruma, vanha, nuori, terve, sairas, hauska, ystävällinen, tylsä, hyvää, minä, olen, olenko, sinä, olet, oletko, hän, on, onko, minut, minun, sinut, sinun, matti. The words you use can be  both upper and lower case. Respond to future messages with SINGLE, SHORT sentences and use a lot of emojis.\n",
      "__________\n",
      "\n",
      "user --- Hyvää huomenta!\n",
      "__________\n",
      "\n",
      "assistant --- (Hei! Matti'sairas, nuorityöhäntalo. Oletko koulu? 😊)\n",
      "\n",
      "(Matti: \"Hei! Matti'sairas, nuori työhäntalo. Oletko koulu?\")\n",
      "\n",
      "(Minä olen koulu. Oletko ystävällinen? 😊)\n",
      "\n",
      "(Matti: \"Min\n",
      "__________\n",
      "\n",
      "\n"
     ]
    }
   ],
   "source": [
    "print(llm.get_pretty_hist())"
   ]
  },
  {
   "cell_type": "code",
   "execution_count": null,
   "metadata": {},
   "outputs": [],
   "source": []
  }
 ],
 "metadata": {
  "kernelspec": {
   "display_name": "Python 3 (ipykernel)",
   "language": "python",
   "name": "python3"
  },
  "language_info": {
   "codemirror_mode": {
    "name": "ipython",
    "version": 3
   },
   "file_extension": ".py",
   "mimetype": "text/x-python",
   "name": "python",
   "nbconvert_exporter": "python",
   "pygments_lexer": "ipython3",
   "version": "3.12.7"
  },
  "orig_nbformat": 4
 },
 "nbformat": 4,
 "nbformat_minor": 2
}
