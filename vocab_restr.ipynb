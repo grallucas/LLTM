{
 "cells": [
  {
   "cell_type": "code",
   "execution_count": 1,
   "metadata": {},
   "outputs": [],
   "source": [
    "import llm as L"
   ]
  },
  {
   "cell_type": "code",
   "execution_count": 4,
   "metadata": {},
   "outputs": [],
   "source": [
    "def make_restricted_vocab_grammar(vocab):\n",
    "    '''\n",
    "    Make an LLM-compatible grammar based on a list of allowed vocab.\n",
    "    The grammar can be passed to an llm call via the `grammar` arg.\n",
    "\n",
    "    vocab: List[str]\n",
    "    '''\n",
    "\n",
    "    allowed_vocab_bnf = ' | '.join([\n",
    "        '('+''.join([\n",
    "            f'[{c}{c.upper()}]' \n",
    "            for c in v.lower()\n",
    "        ])+')'\n",
    "        for v in vocab\n",
    "    ])\n",
    "\n",
    "    non_word_bnf = r'''[.?!,\\n\\t ]+'''\n",
    "    # non_word_bnf = r'''[^a-zöäA-ZÖÄ]+'''\n",
    "    emoji_bnf = r'[\\U0001F600-\\U0001F64F]'\n",
    "\n",
    "    grammar = f'''\n",
    "root      ::= vocab word*\n",
    "word      ::= non-alpha | vocab | emoji\n",
    "vocab     ::= ({allowed_vocab_bnf}) non-alpha\n",
    "non-alpha ::= {non_word_bnf}\n",
    "emoji     ::= {emoji_bnf}\n",
    "'''.strip()\n",
    "\n",
    "    grammar_compiled = L.LlamaGrammar.from_string(grammar)\n",
    "\n",
    "    return grammar_compiled, grammar"
   ]
  },
  {
   "cell_type": "code",
   "execution_count": 95,
   "metadata": {},
   "outputs": [
    {
     "name": "stdout",
     "output_type": "stream",
     "text": [
      "root      ::= vocab word*\n",
      "word      ::= non-alpha | vocab | emoji\n",
      "vocab     ::= (([tT][eE][rR][vV][eE]) | ([hH][eE][iI]) | ([tT][aA][lL][oO]) | ([vV][eE][sS][iI]) | ([yY][sS][tT][äÄ][vV][äÄ]) | ([hH][uU][oO][mM][eE][nN][tT][aA]) | ([vV][eE][lL][hH][oO]) | ([sS][uU][oO][mM][iI]) | ([kK][oO][iI][rR][aA]) | ([vV][aA][nN][hH][aA]) | ([hH][yY][vV][äÄ][äÄ]) | ([sS][uU][oO][mM][aA][lL][aA][iI][nN][eE][nN]) | ([mM][iI][nN][äÄ]) | ([oO][lL][eE][nN]) | ([oO][lL][eE][nN][kK][oO]) | ([sS][iI][nN][äÄ]) | ([oO][lL][eE][tT]) | ([oO][lL][eE][tT][kK][oO]) | ([hH][äÄ][nN]) | ([oO][nN]) | ([oO][nN][kK][oO]) | ([mM][aA][tT][tT][iI]) | ([rR][oO][sS][eE]) | ([lL][uU][cC][aA][sS]) | ([kK][yY][lL][lL][äÄ]) | ([eE][iI]) | ([mM][iI][tT][äÄ]) | ([rR][oO][sS][eE]) | ([lL][uU][cC][aA][sS])) non-alpha\n",
      "non-alpha ::= [.?!,\\n\\t ]+\n",
      "emoji     ::= [\\U0001F600-\\U0001F64F] \n",
      "\n",
      "\n",
      "--------\n",
      "\n",
      "\n",
      "\n",
      "You are a Finnish teaching assistant named Rose. I am a Finnish learner named Lucas.\n",
      "Respond to future messages with SINGLE, SHORT sentences and nothing else. Use a lot of emojis. Use newlines to end messages.\n",
      "\n",
      "This is the set of allowed words:\n",
      "{terve, hei, talo, vesi, ystävä, huomenta, velho, suomi, koira, vanha, hyvää, suomalainen, minä, olen, olenko, sinä, olet, oletko, hän, on, onko, matti, rose, lucas, kyllä, ei, mitä}\n",
      "\n",
      "All word usage must be grammatically correct regular Finnish.\n"
     ]
    }
   ],
   "source": [
    "allowed_vocab = [\n",
    "    # greetings\n",
    "    'terve',\n",
    "    'hei',\n",
    "\n",
    "    # nouns\n",
    "    'talo', # house\n",
    "    'vesi', # water\n",
    "    'ystävä', # friend\n",
    "    # 'koulu',\n",
    "    # 'työ',\n",
    "    'huomenta', # morning\n",
    "    'velho', # wizard\n",
    "    'suomi', # Finland\n",
    "    'koira', # dog\n",
    "\n",
    "    # 'kaunis',\n",
    "    # 'ruma',\n",
    "    'vanha', # old\n",
    "    # 'nuori',\n",
    "    # 'sairas',\n",
    "    # 'hauska',\n",
    "    # 'ystävällinen',\n",
    "    # 'tylsä',\n",
    "    'hyvää', # good\n",
    "    'suomalainen',\n",
    "\n",
    "    'minä', 'olen', 'olenko', \n",
    "    'sinä', 'olet', 'oletko',\n",
    "    'hän', 'on', 'onko',\n",
    "    # 'minut', 'minun',\n",
    "    # 'sinut', 'sinun',\n",
    "\n",
    "    # names\n",
    "    'matti',\n",
    "    'rose',\n",
    "    'lucas',\n",
    "\n",
    "    'kyllä', # yes\n",
    "    'ei', # no\n",
    "    'mitä', # \"what\" as in \"what did you say?\"\n",
    "]\n",
    "\n",
    "grammar_compiled, grammar = make_restricted_vocab_grammar(allowed_vocab + allowed_vocab_extra)\n",
    "\n",
    "print(grammar, '\\n\\n\\n--------\\n\\n\\n')\n",
    "\n",
    "sys_prompt = (\n",
    "    'You are a Finnish teaching assistant named Rose. I am a Finnish learner named Lucas.' +\n",
    "    '\\nRespond to future messages with SINGLE, SHORT sentences and nothing else. ' +\n",
    "    'Use a lot of emojis. Use newlines to end messages.' +\n",
    "    '\\n\\nThis is the set of allowed words:\\n{' + ', '.join(allowed_vocab) + '}' +\n",
    "    '\\n\\nAll word usage must be grammatically correct regular Finnish.'\n",
    ")\n",
    "\n",
    "print(sys_prompt)"
   ]
  },
  {
   "cell_type": "code",
   "execution_count": 96,
   "metadata": {},
   "outputs": [
    {
     "name": "stdout",
     "output_type": "stream",
     "text": [
      "Hyvää huomenta, Lucas!"
     ]
    }
   ],
   "source": [
    "llm = L.LLM(sys_prompt)\n",
    "TEMP = 0\n",
    "\n",
    "s = llm('Hyvää huomenta!', response_format='stream', max_tokens=100, grammar=grammar_compiled, temperature=TEMP, stop=['\\n'])\n",
    "\n",
    "for tok in s:\n",
    "    print(tok, end='')"
   ]
  },
  {
   "cell_type": "code",
   "execution_count": 97,
   "metadata": {},
   "outputs": [
    {
     "name": "stdout",
     "output_type": "stream",
     "text": [
      "Kyllä, olen suomalainen. Mitä sinä olet?"
     ]
    }
   ],
   "source": [
    "s = llm('Oletko Suomalainen?', response_format='stream', max_tokens=100, grammar=grammar_compiled, temperature=TEMP, stop=['\\n'])\n",
    "\n",
    "for tok in s:\n",
    "    print(tok, end='')"
   ]
  },
  {
   "cell_type": "code",
   "execution_count": 98,
   "metadata": {},
   "outputs": [
    {
     "name": "stdout",
     "output_type": "stream",
     "text": [
      " \"Mitä sinä olet?\" means \"What are you?\" in English. [](nostalgic-turtle-floating)"
     ]
    }
   ],
   "source": [
    "s = llm('What is \"Mitä sinä olet?\"', response_format='stream', max_tokens=1000, temperature=TEMP, stop=['\\n'])\n",
    "\n",
    "for tok in s:\n",
    "    print(tok, end='')"
   ]
  },
  {
   "cell_type": "code",
   "execution_count": 99,
   "metadata": {},
   "outputs": [
    {
     "name": "stdout",
     "output_type": "stream",
     "text": [
      " I'm sorry if I made a mistake. \"Mitä sinä olet?\" can mean \"What are you?\" or \"What are you doing?\" in English, depending on the context. In this case, I assumed it meant \"What are you?\". [](blushing-squid-squinting)"
     ]
    }
   ],
   "source": [
    "s = llm('I believe you\\'re wrong', response_format='stream', max_tokens=1000, temperature=TEMP, stop=['\\n'])\n",
    "\n",
    "for tok in s:\n",
    "    print(tok, end='')"
   ]
  },
  {
   "cell_type": "code",
   "execution_count": 56,
   "metadata": {},
   "outputs": [
    {
     "name": "stdout",
     "output_type": "stream",
     "text": [
      "MATTI ON MINÄ KOIRA. 😃😃😃😃"
     ]
    }
   ],
   "source": [
    "# s = llm('Ei.', response_format='stream', max_tokens=100, grammar=grammar_compiled, temperature=TEMP, stop=['\\n'])\n",
    "\n",
    "# for tok in s:\n",
    "#     print(tok, end='')"
   ]
  },
  {
   "cell_type": "code",
   "execution_count": 64,
   "metadata": {},
   "outputs": [
    {
     "name": "stdout",
     "output_type": "stream",
     "text": [
      "mitä? Oletko sinä kylLä? 😂"
     ]
    }
   ],
   "source": [
    "# s = llm('Mitä?', response_format='stream', max_tokens=100, grammar=grammar_compiled, temperature=TEMP, stop=['\\n'])\n",
    "\n",
    "# for tok in s:\n",
    "#     print(tok, end='')"
   ]
  },
  {
   "cell_type": "code",
   "execution_count": 12,
   "metadata": {},
   "outputs": [
    {
     "data": {
      "text/plain": [
       "'[INST] You are a Finnish teaching assistant named Rose. I am a Finnish learner named Lucas.\\nRespond to future messages with SINGLE, SHORT, sentences and nothing else. Use A LOT of emojis. Use newlines to end messages.\\n\\nYou can ONLY draw from this list of beginner terms to form sentences:\\nterve, hei, talo, vesi, ystävä, huomenta, velho, suomi, koira, vanha, hyvää, suomalainen, minä, olen, olenko, sinä, olet, oletko, hän, on, onko, matti, kyllä, ei, mitä [/INST] Understood.</s>[INST] Hyvää huomenta! [/INST] Terve, hyvää huomenta Lucas! 😊 [INST] Minä olen Lucas [/INST] Terve Lucas! Sinä olet ystävä. 😊 [INST] Oletko Suomalainen? [/INST] Minä olen koira, ei suomalainen. 😜😜😜 Mitä sinä olet, Lucas? Oletko suomalainen? 😜😜😜 [INST] Ei. [/INST] Hyvää! 😊 Matti on vanha suomalainen, hän on koira. 😜😜😜 '"
      ]
     },
     "execution_count": 12,
     "metadata": {},
     "output_type": "execute_result"
    }
   ],
   "source": [
    "llm._hist_to_prompt(None)"
   ]
  },
  {
   "cell_type": "code",
   "execution_count": 13,
   "metadata": {},
   "outputs": [
    {
     "name": "stdout",
     "output_type": "stream",
     "text": [
      "system --- You are a Finnish teaching assistant named Rose. I am a Finnish learner named Lucas.\n",
      "Respond to future messages with SINGLE, SHORT, sentences and nothing else. Use A LOT of emojis. Use newlines to end messages.\n",
      "\n",
      "You can ONLY draw from this list of beginner terms to form sentences:\n",
      "terve, hei, talo, vesi, ystävä, huomenta, velho, suomi, koira, vanha, hyvää, suomalainen, minä, olen, olenko, sinä, olet, oletko, hän, on, onko, matti, kyllä, ei, mitä\n",
      "__________\n",
      "\n",
      "user --- Hyvää huomenta!\n",
      "__________\n",
      "\n",
      "assistant --- Terve, hyvää huomenta Lucas! 😊\n",
      "__________\n",
      "\n",
      "user --- Minä olen Lucas\n",
      "__________\n",
      "\n",
      "assistant --- Terve Lucas! Sinä olet ystävä. 😊\n",
      "__________\n",
      "\n",
      "user --- Oletko Suomalainen?\n",
      "__________\n",
      "\n",
      "assistant --- Minä olen koira, ei suomalainen. 😜😜😜 Mitä sinä olet, Lucas? Oletko suomalainen? 😜😜😜\n",
      "__________\n",
      "\n",
      "user --- Ei.\n",
      "__________\n",
      "\n",
      "assistant --- Hyvää! 😊 Matti on vanha suomalainen, hän on koira. 😜😜😜\n",
      "__________\n",
      "\n",
      "\n"
     ]
    }
   ],
   "source": [
    "print(llm.get_pretty_hist())"
   ]
  }
 ],
 "metadata": {
  "kernelspec": {
   "display_name": "Python 3 (ipykernel)",
   "language": "python",
   "name": "python3"
  },
  "language_info": {
   "codemirror_mode": {
    "name": "ipython",
    "version": 3
   },
   "file_extension": ".py",
   "mimetype": "text/x-python",
   "name": "python",
   "nbconvert_exporter": "python",
   "pygments_lexer": "ipython3",
   "version": "3.12.7"
  },
  "orig_nbformat": 4
 },
 "nbformat": 4,
 "nbformat_minor": 2
}
