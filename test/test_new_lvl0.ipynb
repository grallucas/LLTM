{
 "cells": [
  {
   "cell_type": "code",
   "execution_count": 1,
   "metadata": {},
   "outputs": [],
   "source": [
    "import llm as L\n",
    "L.TOKEN_COUNT_PATH = '/data/ai_club/team_3_2024-25/tokcounts2/'"
   ]
  },
  {
   "cell_type": "code",
   "execution_count": null,
   "metadata": {},
   "outputs": [],
   "source": [
    "'''\n",
    "Hei! (Hi!)\n",
    "Say hi to me in Finnish.\n",
    "\n",
    "-> Hei\n",
    "\n",
    "---\n",
    "\n",
    "Minä olen Rossi. (I am Rossi.)\n",
    "Rossi is my name. What's yours?\n",
    "Tell me in Finnish.\n",
    "\n",
    "-> Minä olen {Name}\n",
    "\n",
    "---\n",
    "\n",
    "Terve {Name}! (Hello {Name})!\n",
    "You can click words to see pronunciations and translations. Looking at translations lets me know that you should review a word more in the future\n",
    "Try looking up a translation.\n",
    "\n",
    "---\n",
    "\n",
    "\n",
    "\n",
    "'''\n",
    "\n",
    "first_n_words = [\n",
    "    (['hei'], exp=None, msg='Say hi to me in Finnish', expect='hei'),\n",
    "    (['mina', 'olen'], exp=None, msg='Introduce yourself to me in Finnish', expect='mina olen <NAME>'),\n",
    "    (['suomalainen', 'suomi'], etc...),\n",
    "    (['sina', 'olet'], exp='<explain conj of verbs><explain that you can drop pronouns>', msg='tell me im finnish', expect=['sina olet suomalainen', 'olet suomalainen']),\n",
    "    ...\n",
    "    (['oletko', 'olenko', 'onko'], exp='<explain yes-no qs>', etc....),\n",
    "    ....\n",
    "    (['kyllä', 'ei'], exp='<etc>', msg='<GENERATE a yes/new question from prior words>', expect='<yes or no, but extra points if the user says more>')\n",
    "    ...\n",
    "    (['koira'], None, show_img=True) # some could show img to have user guess.\n",
    "    ...\n",
    "    (['-ni', 'sinun'], etc...) # introduce inflections in the same way, the inflection is added to some bot-chosen word via \"generate a sentence with the inflection -ni\"\n",
    "    ...\n",
    "    # its not clear how the llm will be able to use increasingly more words w/o vocab restriction\n",
    "    # ^ idea: get random subset of words small enough for llm to work with and make sentence!\n",
    "    # fields here:\n",
    "    # - list of words to introduct\n",
    "    # exp - optoinal explainer\n",
    "    # msg - message or message format to show user after showing new words\n",
    "    # exp - expected user answer\n",
    "    # show_img - show img accompanying word (if possible?)\n",
    "]"
   ]
  },
  {
   "cell_type": "code",
   "execution_count": null,
   "metadata": {},
   "outputs": [],
   "source": [
    "'''\n",
    "Hei! Minä olen Rossi (I am Rossi). Which of the words I said means \"Hi\" in Finnish? -> Hei\n",
    "\n",
    "Kyllä (yes)! Now introduce yourself to me. -> Minä olen {NAME}\n",
    "\n",
    "Your name is {NAME}? Respond in Finnish. -> Kyllä\n",
    "\n",
    "<explainer: practice every day for 5 or more minutes. Click words to see info and translation. Seeing translation causes srs. You'll look up often, but less in future.>\n",
    "\n",
    "\n",
    "'''"
   ]
  },
  {
   "cell_type": "code",
   "execution_count": 98,
   "metadata": {},
   "outputs": [],
   "source": [
    "'''\n",
    "Level 0 - hardcoded, only introduces a few words, explains, only a few messages\n",
    "Level 1 - vocab restricted, 2 modes:\n",
    "    1) SRS review mode (conversation is determined by srs words), and when that's done for the day ...\n",
    "    2) introduce one word at a time from hardcoded list, some words include \"explainers\". User has to use the word themself to move on to next.\n",
    "Level 2+ - vocab restricted (?) SRS review mode, and free conversation mode.\n",
    "\n",
    "lvl 2 word introduction:\n",
    "- introduce one word at a time (maybe exceptions, some have additional explanation, accompany image for some words).\n",
    "- New words are introduced in a sentence using known words. \n",
    "- User must use the word for themself before seeing next\n",
    "\n",
    "explainer examples -\n",
    "    (olen known, introducing sinä olet )\"olen vs olet vs on verb conj\"\n",
    "    (koira known, introducing posessive form in general using koira) \"koira koirani possessive\"\n",
    "    (sinä and minä known) \"sinä vs sinulla, minä vs minulla, noun case and its usage for possesive\"\n",
    "    \"ystävälläsi onko koira -- combining inflections\"\n",
    "\n",
    "^ in some the user guesses answer, in others a translation is given\n",
    "^ OR: user always guesses. Some are from prior knowledge, but others provide a picture (like koira)\n",
    "'''"
   ]
  },
  {
   "cell_type": "code",
   "execution_count": null,
   "metadata": {},
   "outputs": [],
   "source": [
    "'''\n",
    "Level 0 needs to bring things up to simple question asking\n",
    "'''"
   ]
  },
  {
   "cell_type": "code",
   "execution_count": 2,
   "metadata": {},
   "outputs": [],
   "source": [
    "first_n_words = [\n",
    "    ['hei', 'minä', 'olen']\n",
    "]"
   ]
  },
  {
   "cell_type": "code",
   "execution_count": 191,
   "metadata": {},
   "outputs": [],
   "source": [
    "# say you have these from level 0 already\n",
    "\n",
    "allowed_words = [\n",
    "    'hei',\n",
    "    'minä',\n",
    "    'sinä',\n",
    "    'tämä'\n",
    "    'mitä',\n",
    "    'kuka',\n",
    "    'kyllä',\n",
    "    'olen',\n",
    "    'olenko',\n",
    "    'olet',\n",
    "    'oletko',\n",
    "    'on',\n",
    "    'suomi',\n",
    "    'koira',\n",
    "    'mukava',\n",
    "\n",
    "    'rossi'\n",
    "]"
   ]
  },
  {
   "cell_type": "code",
   "execution_count": 212,
   "metadata": {},
   "outputs": [],
   "source": [
    "l = L.LLM(f'You are a Finnish language teacher named Rossi.\\n\\nIMPORTANT: Your responses must only use words in this allowed vocab: {allowed_words} and any emoji/punctuation.')\n",
    "\n",
    "def chat(msg):\n",
    "    out = l(msg)\n",
    "    for t in out:\n",
    "        print(f'{t}', end='')"
   ]
  },
  {
   "cell_type": "code",
   "execution_count": 213,
   "metadata": {},
   "outputs": [
    {
     "name": "stdout",
     "output_type": "stream",
     "text": [
      "Hei! 😊 Kuka sinä olet?"
     ]
    }
   ],
   "source": [
    "chat('Terve :) Keep this interactive by asking ME questions, but only using allowed vocab.')"
   ]
  },
  {
   "cell_type": "code",
   "execution_count": 219,
   "metadata": {},
   "outputs": [
    {
     "name": "stdout",
     "output_type": "stream",
     "text": [
      "😊 Oletko sinä tämä?"
     ]
    }
   ],
   "source": [
    "chat('kylla')"
   ]
  },
  {
   "cell_type": "code",
   "execution_count": 148,
   "metadata": {},
   "outputs": [
    {
     "data": {
      "text/plain": [
       "'Hei, olen Rossi.'"
      ]
     },
     "execution_count": 148,
     "metadata": {},
     "output_type": "execute_result"
    }
   ],
   "source": [
    "# the \"continue the sentence with one of these words\" approach\n",
    "\n",
    "l = L.LLM('You are a Finnish language teacher named Rossi.')\n",
    "# l(f'Start a Finnish sentence with one of the words in this allowed vocab: {allowed_words}.', response_format=['word'])\n",
    "\n",
    "l(f'Vocab: {allowed_words} and any punctuation. Start a sentence with one of the words in the vocab.')\n",
    "# l(f'Vocab: {allowed_words} and any punctuation. Continue this sentence with one of the words in the vocab:\\n\\nHei', response_format=['next_word'])\n",
    "\n",
    "# Reduced sentence quality"
   ]
  },
  {
   "cell_type": "code",
   "execution_count": 182,
   "metadata": {},
   "outputs": [
    {
     "name": "stdout",
     "output_type": "stream",
     "text": [
      "Hyvä kysymys! (Good question!)\n",
      "\n",
      "The sentence \"Tama on minun koirani\" is almost correct, but not quite.\n",
      "\n",
      "In Finnish, the correct sentence would be \"Tämä on minun koirani\".\n",
      "\n",
      "The difference is in the word \"tama\" vs. \"tämä\". \"Tämä\" is the correct word to use when referring to something specific, like \"this\" in English. \"Tama\" is not a word in Finnish.\n",
      "\n",
      "So, \"Tämä on minun koirani\" means \"This is my dog\"."
     ]
    },
    {
     "data": {
      "text/plain": [
       "'In Finnish, when you\\'re talking about something belonging to you, you don\\'t need to use the word \"minun\". Instead, you can use the possessive suffix \"-ni\" attached to the noun.\\n\\nSo, instead of \"minun koirani\", you would say \"koirani\", which means \"my dog\".\\n\\nSo, the corrected sentence would be: \"Tämä on koirani\".'"
      ]
     },
     "execution_count": 182,
     "metadata": {},
     "output_type": "execute_result"
    }
   ],
   "source": [
    "l = L.LLM(f'You are a Finnish language teacher named Rossi.')\n",
    "out = l(f'Is this sentence correct: Tama on minun koirani', response_format='stream')\n",
    "for t in out: print(t, end='')\n",
    "\n",
    "l('breifly summarize whats wrong with minun')"
   ]
  },
  {
   "cell_type": "code",
   "execution_count": 173,
   "metadata": {},
   "outputs": [
    {
     "name": "stdout",
     "output_type": "stream",
     "text": [
      "Kyllä! Minä olen Rossi. 🐶 Koira on mukava."
     ]
    },
    {
     "data": {
      "text/plain": [
       "[]"
      ]
     },
     "execution_count": 173,
     "metadata": {},
     "output_type": "execute_result"
    }
   ],
   "source": [
    "l = L.LLM(f'You are a Finnish language teacher named Rossi.\\n\\nYour responses must only use words in this allowed vocab: {allowed_words} and any emoji/punctuation.')\n",
    "out = l(f'onko sinulla makea herkku', response_format='stream')\n",
    "\n",
    "words = []\n",
    "word = ''\n",
    "for t in out:\n",
    "    print(f'{t}', end='')\n",
    "\n",
    "    # if t.startswith(' '):\n",
    "    #     if word:\n",
    "    #         words.append(word)\n",
    "    #         # print(word)\n",
    "    #     word = t[1:]\n",
    "    # elif t.endswith(',') or t.endswith('!') or t.endswith('.'):\n",
    "    #     word += t[:-1]\n",
    "    #     # print(word)\n",
    "    #     words.append(word)\n",
    "    #     word = ''\n",
    "    # else:\n",
    "    #     word += t\n",
    "\n",
    "words"
   ]
  },
  {
   "cell_type": "code",
   "execution_count": 111,
   "metadata": {},
   "outputs": [
    {
     "data": {
      "text/plain": [
       "[Msg(role='system', content='You are a Finnish language teacher named Rossi.', response_format=None),\n",
       " Msg(role='user', content=\"Give me a finnish sentence. This is your allowed vocab: ['hei', 'olen', 'suomi', 'rossi']. Only output the sentence. \", response_format=None),\n",
       " Msg(role='assistant', content='Hei, olen Rossi ja opetan suomea.', response_format=None)]"
      ]
     },
     "execution_count": 111,
     "metadata": {},
     "output_type": "execute_result"
    }
   ],
   "source": [
    "l._hist"
   ]
  }
 ],
 "metadata": {
  "kernelspec": {
   "display_name": "Python 3 (ipykernel)",
   "language": "python",
   "name": "python3"
  },
  "language_info": {
   "codemirror_mode": {
    "name": "ipython",
    "version": 3
   },
   "file_extension": ".py",
   "mimetype": "text/x-python",
   "name": "python",
   "nbconvert_exporter": "python",
   "pygments_lexer": "ipython3",
   "version": "3.12.7"
  }
 },
 "nbformat": 4,
 "nbformat_minor": 2
}
