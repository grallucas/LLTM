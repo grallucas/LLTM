{
 "cells": [
  {
   "cell_type": "code",
   "execution_count": 1,
   "metadata": {},
   "outputs": [],
   "source": [
    "import llm as L\n",
    "L.TOKEN_COUNT_PATH = '/data/ai_club/team_3_2024-25/tokcounts2/'\n"
   ]
  },
  {
   "cell_type": "code",
   "execution_count": 2,
   "metadata": {},
   "outputs": [],
   "source": [
    "# --- ONE MISTAKE --\n",
    "sentence = 'Haluan mennä kauppa.' # kauppa -> kauppaan\n",
    "# sentence = 'Minä olen iloinen, koska sataa on' # extra \"on\"\n",
    "# sentence = 'Minä tykkään jäätelö' # jäätelö -> jäätelöstä\n",
    "# sentence = 'Mä en osaa puhua suomi.' # suomi -> suomea\n",
    "# sentence = 'Tämä on minun koirani' # correct\n",
    "# sentence = \"tämä minun koirani\" # missing \"on\"\n",
    "# sentence = \"Han on minun opettajani\" # Han -> Hän\n",
    "# sentence = 'Tämä on minun koira' # koira -> koirani\n",
    "# sentence = \"Sinulla onko koira\" # verb should be first\n",
    "\n",
    "# ctx = 'Mitä tämä on?'\n",
    "# sentence = 'Tama on minun koirani' # Tama -> Tämä\n",
    "\n",
    "# --- TWO MISTAKES ---\n",
    "\n",
    "# sentence = 'Minä menee kouluun ja minä lukee kirja.' # menee -> menen & lukee -> luen\n",
    "# sentence = \"Tämä minun koira\" # missing \"on\" & koira -> koirani\n",
    "# sentence = 'Me menee kauppaan ja hän ostavat omenat.' # menee -> menemme & ostavat -> ostaa\n"
   ]
  },
  {
   "cell_type": "code",
   "execution_count": 4,
   "metadata": {},
   "outputs": [],
   "source": [
    "def _extract_words(sentence):\n",
    "    return sentence.split() # TODO : split better (handle punctuation)\n",
    "\n",
    "def _highlight_word(idx, words):\n",
    "    highlighted = words.copy()\n",
    "    highlighted[idx] = '{{' + highlighted[idx] + '}}'\n",
    "    highlighted = ' '.join(highlighted)\n",
    "    return highlighted\n",
    "\n",
    "def grade_per_word(sentence):\n",
    "    llm = L.LLM('You are a Finnish language teacher.')\n",
    "\n",
    "    cot = llm(\n",
    "        'Is there a clear mistake in this sentence? Give (English) feedback for this sentence.\\n\\n' +\n",
    "        # 'Give concise feedback/grading for this sentence:\\n\\n' +\n",
    "        sentence\n",
    "    )\n",
    "\n",
    "    # print(cot)\n",
    "    # print('\\n-----')\n",
    "\n",
    "    errs = llm(\n",
    "        'Does your feedback indicate the presence of any improvements to be made?',\n",
    "        response_format=['y/n']\n",
    "    )['y/n']\n",
    "\n",
    "    # print(errs)\n",
    "    # print('\\n-----')\n",
    "\n",
    "    # if errs == 'n':\n",
    "    #     return [], [], None\n",
    "\n",
    "    s = llm.save_state()\n",
    "\n",
    "    words = _extract_words(sentence)\n",
    "    incorrect = []\n",
    "    for i in range(len(words)):\n",
    "        sentence_w_highlight = _highlight_word(i, words)\n",
    "        \n",
    "        applies = llm(\n",
    "            f'Does your feedback affect the highlighted word?\\n\\n{sentence_w_highlight}',\n",
    "            response_format=['y/n']\n",
    "        )['y/n']\n",
    "\n",
    "        # print(applies, sentence_w_highlight)\n",
    "        if applies == 'y':\n",
    "            incorrect.append(i)\n",
    "\n",
    "        llm.restore_state(s) # we shouldn't keep all words in history while grading them\n",
    "\n",
    "    return words, incorrect, s\n",
    "\n",
    "words, incorrect, state = grade_per_word(sentence)"
   ]
  },
  {
   "cell_type": "code",
   "execution_count": 5,
   "metadata": {},
   "outputs": [
    {
     "name": "stdout",
     "output_type": "stream",
     "text": [
      "Missing illative case suffix (-an) to indicate movement into the shop. Should be \"kauppaan\"."
     ]
    }
   ],
   "source": [
    "def get_word_feedback(idx, words, state):\n",
    "    llm = L.LLM()\n",
    "    llm.restore_state(state)\n",
    "\n",
    "    sentence_w_highlight = _highlight_word(idx, words)\n",
    "\n",
    "    expl = llm(\n",
    "        f'Give a consice explanation for why the highlighted word is incorrect\\n\\n{sentence_w_highlight}',\n",
    "        response_format='stream'\n",
    "    )\n",
    "\n",
    "    return expl\n",
    "\n",
    "expl = get_word_feedback(incorrect[0], words, state)\n",
    "for t in expl: print(t, end='')"
   ]
  },
  {
   "cell_type": "markdown",
   "metadata": {},
   "source": [
    "---"
   ]
  },
  {
   "cell_type": "code",
   "execution_count": 3,
   "metadata": {},
   "outputs": [
    {
     "name": "stdout",
     "output_type": "stream",
     "text": [
      "The correct version would be: Haluan mennä kauppaan.\n",
      "\n",
      "The mistake in the original sentence is the missing suffix \"-an\" or \"-en\" which is required to indicate the destination or direction of the verb \"mennä\" (to go). In this case, \"kauppaan\" is the correct form of the word \"kauppa\" (store) with the suffix \"-an\" indicating that you are going to the store.\n",
      "\n",
      "-----\n",
      "Haluan mennä kauppaan.\n",
      "\n",
      "-----\n",
      "The mistake is the missing suffix \"-an\" which is required to indicate the destination. The correct form of the word \"kauppa\" to show direction or destination is \"kauppaan\"."
     ]
    }
   ],
   "source": [
    "llm = L.LLM('You are a yleiskieli Finnish language teacher.')\n",
    "cot = llm(\n",
    "    'Is there an obvious mistake in the following? Start by saying the correct version.\\n\\n' +\n",
    "    sentence\n",
    ")\n",
    "\n",
    "print(cot)\n",
    "print('\\n-----')\n",
    "\n",
    "corrected = llm(\n",
    "    'Thanks for pointing that out. Please give me the correct version.',\n",
    "    response_format=['corrected']\n",
    ")['corrected']\n",
    "\n",
    "print(corrected)\n",
    "print('\\n-----')\n",
    "\n",
    "exp = llm(\n",
    "    'Now plese give me your explanation without referring to the entire sentence. Do not respond in JSON',\n",
    "    response_format='stream',\n",
    ")\n",
    "\n",
    "for t in exp:\n",
    "    print(t, end='')"
   ]
  }
 ],
 "metadata": {
  "kernelspec": {
   "display_name": "Python 3 (ipykernel)",
   "language": "python",
   "name": "python3"
  },
  "language_info": {
   "codemirror_mode": {
    "name": "ipython",
    "version": 3
   },
   "file_extension": ".py",
   "mimetype": "text/x-python",
   "name": "python",
   "nbconvert_exporter": "python",
   "pygments_lexer": "ipython3",
   "version": "3.12.7"
  }
 },
 "nbformat": 4,
 "nbformat_minor": 2
}
