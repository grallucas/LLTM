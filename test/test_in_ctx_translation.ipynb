{
 "cells": [
  {
   "cell_type": "code",
   "execution_count": 1,
   "metadata": {},
   "outputs": [],
   "source": [
    "import translate\n",
    "import lexicon\n",
    "\n",
    "translate.L.TOKEN_COUNT_PATH = '/data/ai_club/team_3_2024-25/tokcounts2/'"
   ]
  },
  {
   "cell_type": "code",
   "execution_count": 2,
   "metadata": {},
   "outputs": [
    {
     "data": {
      "text/plain": [
       "{'url': 'https://en.wiktionary.org/wiki/jäätelöä#Finnish',\n",
       " 'ipa': None,\n",
       " 'img': None,\n",
       " 'definitions': {'Noun': [('partitive singular of jäätelö', [])]}}"
      ]
     },
     "execution_count": 2,
     "metadata": {},
     "output_type": "execute_result"
    }
   ],
   "source": [
    "word_data = lexicon.lookup_word('jäätelöä', 'Finnish')\n",
    "word_data"
   ]
  },
  {
   "cell_type": "code",
   "execution_count": 3,
   "metadata": {},
   "outputs": [],
   "source": [
    "def format_word_data(word_data):\n",
    "    word_data_fmted = ''\n",
    "\n",
    "    for word_type, defs in word_data['definitions'].items():\n",
    "        word_data_fmted += word_type + '\\n'\n",
    "        for d in defs:\n",
    "            word_data_fmted += f'\\t{d[0]}\\n'\n",
    "\n",
    "    return word_data_fmted"
   ]
  },
  {
   "cell_type": "code",
   "execution_count": 4,
   "metadata": {},
   "outputs": [],
   "source": [
    "llm = translate.L.LLM('You are a Finnish -> English translator.')"
   ]
  },
  {
   "cell_type": "code",
   "execution_count": 5,
   "metadata": {},
   "outputs": [],
   "source": [
    "context = 'Syön jäätelöä'\n",
    "word = 'jäätelöä'\n",
    "word_lexicon_data = format_word_data(word_data)"
   ]
  },
  {
   "cell_type": "code",
   "execution_count": 8,
   "metadata": {},
   "outputs": [],
   "source": [
    "translated_word = llm(\n",
    "    f'{context}' +\n",
    "    f'\\n\\nGiven the prior context, translate the Finnish word \"{word}\" into english' + \n",
    "    (f' from one of these definitions:\\n{word_lexicon_data}' if word_lexicon_data else '.')\n",
    "    ,\n",
    "    response_format=['english_word'],  max_tokens=50\n",
    ")['english_word']"
   ]
  },
  {
   "cell_type": "code",
   "execution_count": 9,
   "metadata": {},
   "outputs": [
    {
     "data": {
      "text/plain": [
       "'ice cream'"
      ]
     },
     "execution_count": 9,
     "metadata": {},
     "output_type": "execute_result"
    }
   ],
   "source": [
    "translated_word"
   ]
  },
  {
   "cell_type": "code",
   "execution_count": null,
   "metadata": {},
   "outputs": [],
   "source": [
    "translate.translate_in_ctx('Syön jäätelöä', 'jäätelöä', word_data)"
   ]
  },
  {
   "cell_type": "markdown",
   "metadata": {},
   "source": [
    "---"
   ]
  },
  {
   "cell_type": "code",
   "execution_count": 10,
   "metadata": {},
   "outputs": [],
   "source": [
    "import lexicon\n",
    "import llm as L\n",
    "\n",
    "L.TOKEN_COUNT_PATH = '/data/ai_club/team_3_2024-25/tokcounts2/'\n"
   ]
  },
  {
   "cell_type": "code",
   "execution_count": 11,
   "metadata": {},
   "outputs": [
    {
     "data": {
      "text/plain": [
       "{}"
      ]
     },
     "execution_count": 11,
     "metadata": {},
     "output_type": "execute_result"
    }
   ],
   "source": [
    "word_data = lexicon.lookup_word('päälläsi', 'Finnish')\n",
    "word_data"
   ]
  },
  {
   "cell_type": "code",
   "execution_count": 12,
   "metadata": {},
   "outputs": [],
   "source": [
    "def format_word_data(word_data):\n",
    "    word_data_fmted = ''\n",
    "\n",
    "    for word_type, defs in word_data['definitions'].items():\n",
    "        word_data_fmted += word_type + '\\n'\n",
    "        for d in defs:\n",
    "            word_data_fmted += f'\\t{d[0]}\\n'\n",
    "\n",
    "    return word_data_fmted\n",
    "\n",
    "# print(\n",
    "#     format_word_data(word_data)\n",
    "# )"
   ]
  },
  {
   "cell_type": "code",
   "execution_count": null,
   "metadata": {},
   "outputs": [
    {
     "name": "stdout",
     "output_type": "stream",
     "text": [
      "{}\n",
      "you have\n",
      "The Finnish phrase 'sinulla on' is a possessive construction that translates to English as 'you have', indicating that something is in someone's possession or accompanied by them.\n",
      "sinu + lla + on = sinulla on\n"
     ]
    }
   ],
   "source": [
    "def translate_in_ctx(context, word, word_lexicon_data):\n",
    "    if word_lexicon_data:\n",
    "        word_lexicon_data = format_word_data(word_lexicon_data)\n",
    "\n",
    "    llm = L.LLM('You are an Finnish -> English translator.')\n",
    "\n",
    "    translated_word = llm(\n",
    "        f'{ctx}' +\n",
    "        f'\\n\\nGiven the prior context, translate the Finnish word \"{word}\" into english' + \n",
    "        (f' from one of these definitions:\\n{word_data}' if word_data else '.')\n",
    "        ,\n",
    "        response_format=['english_word']\n",
    "    )['english_word']\n",
    "\n",
    "    explanation = llm(\n",
    "        'Give a brief, one-sentence explanation generalizable to other sentences (i.e., your explanation should be unconnected from the context).',\n",
    "        response_format=['concise_generalizable_explanation']\n",
    "    )['concise_generalizable_explanation']\n",
    "\n",
    "\n",
    "    breakdown = llm(\n",
    "        'Break the word into its root and parts if applicable with nothing else. Give me \"part1 + part2 + ... = word\" or otherwise give me \"n/a\"',\n",
    "        response_format=['parts_or_n/a']\n",
    "    )['parts_or_n/a']\n",
    "\n",
    "    return translated_word, explanation, breakdown\n",
    "\n",
    "ctx = (\n",
    "    'Miksi sinulla on kiltti päälläsi?\\n'\n",
    "    'Skotlantilainen ystäväni antoi sen lahjaksi!'\n",
    ")\n",
    "\n",
    "word = 'sinulla'\n",
    "\n",
    "word_data = lexicon.lookup_word(word, 'Finnish')\n",
    "\n",
    "print(word_data)\n",
    "\n",
    "en_word, exp, breakdown = translate_in_ctx(ctx, word, word_data)\n",
    "\n",
    "print(en_word)\n",
    "print(exp)\n",
    "print(breakdown)\n"
   ]
  }
 ],
 "metadata": {
  "kernelspec": {
   "display_name": "Python 3 (ipykernel)",
   "language": "python",
   "name": "python3"
  },
  "language_info": {
   "codemirror_mode": {
    "name": "ipython",
    "version": 3
   },
   "file_extension": ".py",
   "mimetype": "text/x-python",
   "name": "python",
   "nbconvert_exporter": "python",
   "pygments_lexer": "ipython3",
   "version": "3.12.7"
  }
 },
 "nbformat": 4,
 "nbformat_minor": 2
}
